{
 "cells": [
  {
   "cell_type": "markdown",
   "metadata": {},
   "source": [
    "# Bootstrap Sampling"
   ]
  },
  {
   "cell_type": "code",
   "execution_count": 17,
   "metadata": {
    "collapsed": true
   },
   "outputs": [],
   "source": [
    "from sklearn.metrics import accuracy_score\n",
    "from sklearn.linear_model import LogisticRegression \n",
    "from sklearn.neighbors import KNeighborsClassifier\n",
    "from sklearn.tree import DecisionTreeClassifier\n",
    "from sklearn import datasets\n",
    "from sklearn.utils import resample\n",
    "import numpy as np\n",
    "from scipy import stats\n",
    "import collections"
   ]
  },
  {
   "cell_type": "code",
   "execution_count": 2,
   "metadata": {
    "collapsed": true
   },
   "outputs": [],
   "source": [
    "iris_data = datasets.load_iris()\n",
    "X_train = iris_data.data\n",
    "Y_train = iris_data.target"
   ]
  },
  {
   "cell_type": "code",
   "execution_count": 3,
   "metadata": {},
   "outputs": [
    {
     "data": {
      "text/plain": [
       "150"
      ]
     },
     "execution_count": 3,
     "metadata": {},
     "output_type": "execute_result"
    }
   ],
   "source": [
    "len(Y_train)"
   ]
  },
  {
   "cell_type": "markdown",
   "metadata": {},
   "source": [
    "## Sampleo bootstrap\n",
    "\n",
    "Usamos muestras de tamaño 100"
   ]
  },
  {
   "cell_type": "code",
   "execution_count": 4,
   "metadata": {
    "collapsed": true
   },
   "outputs": [],
   "source": [
    "X_train_m1, Y_train_m1 = resample(X_train, Y_train, n_samples = 100)\n",
    "X_train_m2, Y_train_m2 = resample(X_train, Y_train, n_samples = 100)\n",
    "X_train_m3, Y_train_m3 = resample(X_train, Y_train, n_samples = 100)"
   ]
  },
  {
   "cell_type": "markdown",
   "metadata": {},
   "source": [
    "#### Modelo 1: k-nearest neighbors"
   ]
  },
  {
   "cell_type": "code",
   "execution_count": 5,
   "metadata": {},
   "outputs": [
    {
     "data": {
      "text/plain": [
       "KNeighborsClassifier(algorithm='auto', leaf_size=30, metric='minkowski',\n",
       "           metric_params=None, n_jobs=1, n_neighbors=5, p=2,\n",
       "           weights='uniform')"
      ]
     },
     "execution_count": 5,
     "metadata": {},
     "output_type": "execute_result"
    }
   ],
   "source": [
    "## k-nearest neighbors\n",
    "modelo1 = KNeighborsClassifier()\n",
    "modelo1.fit(X_train_m1, Y_train_m1) "
   ]
  },
  {
   "cell_type": "markdown",
   "metadata": {},
   "source": [
    "#### Modelo 2: Regresion logistica"
   ]
  },
  {
   "cell_type": "code",
   "execution_count": 6,
   "metadata": {},
   "outputs": [
    {
     "data": {
      "text/plain": [
       "LogisticRegression(C=1.0, class_weight=None, dual=False, fit_intercept=True,\n",
       "          intercept_scaling=1, max_iter=500, multi_class='ovr', n_jobs=1,\n",
       "          penalty='l2', random_state=None, solver='liblinear', tol=0.0001,\n",
       "          verbose=0, warm_start=False)"
      ]
     },
     "execution_count": 6,
     "metadata": {},
     "output_type": "execute_result"
    }
   ],
   "source": [
    "# Regresion logistica\n",
    "modelo2 = LogisticRegression(max_iter = 500)\n",
    "modelo2.fit(X_train_m2,Y_train_m2)"
   ]
  },
  {
   "cell_type": "markdown",
   "metadata": {},
   "source": [
    "#### Modelo 3: Desicion trees"
   ]
  },
  {
   "cell_type": "code",
   "execution_count": 7,
   "metadata": {},
   "outputs": [
    {
     "data": {
      "text/plain": [
       "DecisionTreeClassifier(class_weight=None, criterion='gini', max_depth=None,\n",
       "            max_features=None, max_leaf_nodes=None,\n",
       "            min_impurity_decrease=0.0, min_impurity_split=None,\n",
       "            min_samples_leaf=1, min_samples_split=2,\n",
       "            min_weight_fraction_leaf=0.0, presort=False, random_state=None,\n",
       "            splitter='best')"
      ]
     },
     "execution_count": 7,
     "metadata": {},
     "output_type": "execute_result"
    }
   ],
   "source": [
    "# Desicion trees\n",
    "modelo3 = DecisionTreeClassifier()\n",
    "modelo3.fit(X_train_m3, Y_train_m3)"
   ]
  },
  {
   "cell_type": "markdown",
   "metadata": {},
   "source": [
    "### Accuracy de los Modelos"
   ]
  },
  {
   "cell_type": "code",
   "execution_count": 8,
   "metadata": {},
   "outputs": [
    {
     "name": "stdout",
     "output_type": "stream",
     "text": [
      "Accuracy modelo 1 : 97.3333333333 %\n",
      "Accuracy modelo 2 : 95.3333333333 %\n",
      "Accuracy modelo 3 : 96.6666666667 %\n"
     ]
    }
   ],
   "source": [
    "print('Accuracy modelo 1 :', accuracy_score(Y_train, modelo1.predict(X_train))*100, '%')\n",
    "print('Accuracy modelo 2 :', accuracy_score(Y_train, modelo2.predict(X_train))*100, '%')\n",
    "print('Accuracy modelo 3 :', accuracy_score(Y_train, modelo3.predict(X_train))*100, '%')"
   ]
  },
  {
   "cell_type": "markdown",
   "metadata": {},
   "source": [
    "## Predicciones"
   ]
  },
  {
   "cell_type": "code",
   "execution_count": 9,
   "metadata": {
    "collapsed": true
   },
   "outputs": [],
   "source": [
    "estimadores=[modelo1, modelo2, modelo3]"
   ]
  },
  {
   "cell_type": "markdown",
   "metadata": {},
   "source": [
    "### Prediccion por mayoria"
   ]
  },
  {
   "cell_type": "code",
   "execution_count": 10,
   "metadata": {
    "collapsed": true
   },
   "outputs": [],
   "source": [
    "def predict_voting(estimadores, features):\n",
    "    predicciones = []\n",
    "    for estimador in estimadores:\n",
    "        predicciones.append(estimador.predict(features)[0])\n",
    "        \n",
    "    prediccion = stats.mode(predicciones)[0]\n",
    "    print('Predicciones: ', predicciones)\n",
    "    print('Prediccion:', prediccion)"
   ]
  },
  {
   "cell_type": "markdown",
   "metadata": {},
   "source": [
    "### Prediccion por estadistica"
   ]
  },
  {
   "cell_type": "code",
   "execution_count": 37,
   "metadata": {},
   "outputs": [
    {
     "data": {
      "text/plain": [
       "{0, 1, 2}"
      ]
     },
     "execution_count": 37,
     "metadata": {},
     "output_type": "execute_result"
    }
   ],
   "source": [
    "y_clases = set(Y_train)\n",
    "y_clases"
   ]
  },
  {
   "cell_type": "code",
   "execution_count": 40,
   "metadata": {
    "collapsed": true
   },
   "outputs": [],
   "source": [
    "def predict_prob(estimadores, features):\n",
    "    predicciones = []\n",
    "    numero_estimadores = len(estimadores)\n",
    "    for estimador in estimadores:\n",
    "        predicciones.append(estimador.predict(features)[0])\n",
    "        \n",
    "    conteo_clases = collections.Counter(predicciones)\n",
    "    \n",
    "    print('Predicciones: ', predicciones)\n",
    "    for clase in y_clases:\n",
    "        print('Clase [',clase,'] :', (conteo_clases[clase]/numero_estimadores)*100, '%' )"
   ]
  },
  {
   "cell_type": "markdown",
   "metadata": {},
   "source": [
    "## Ejemplos"
   ]
  },
  {
   "cell_type": "code",
   "execution_count": 41,
   "metadata": {},
   "outputs": [
    {
     "name": "stdout",
     "output_type": "stream",
     "text": [
      "Mayoria\n",
      "Predicciones:  [1, 2, 1]\n",
      "Prediccion: [1]\n",
      "\n",
      "Estadistica\n",
      "Predicciones:  [1, 2, 1]\n",
      "Clase [ 0 ] : 0.0 %\n",
      "Clase [ 1 ] : 66.66666666666666 %\n",
      "Clase [ 2 ] : 33.33333333333333 %\n"
     ]
    }
   ],
   "source": [
    "print(\"Mayoria\")\n",
    "predict_voting(estimadores, X_train[106].reshape(1, -1))\n",
    "print(\"\")\n",
    "print(\"Estadistica\")\n",
    "predict_prob(estimadores, X_train[106].reshape(1, -1))"
   ]
  },
  {
   "cell_type": "code",
   "execution_count": 42,
   "metadata": {},
   "outputs": [
    {
     "name": "stdout",
     "output_type": "stream",
     "text": [
      "Mayoria\n",
      "Predicciones:  [2, 1, 1]\n",
      "Prediccion: [1]\n",
      "\n",
      "Estadistica\n",
      "Predicciones:  [2, 1, 1]\n",
      "Clase [ 0 ] : 0.0 %\n",
      "Clase [ 1 ] : 66.66666666666666 %\n",
      "Clase [ 2 ] : 33.33333333333333 %\n"
     ]
    }
   ],
   "source": [
    "print(\"Mayoria\")\n",
    "predict_voting(estimadores, X_train[72].reshape(1, -1))\n",
    "print(\"\")\n",
    "print(\"Estadistica\")\n",
    "predict_prob(estimadores, X_train[72].reshape(1, -1))"
   ]
  },
  {
   "cell_type": "code",
   "execution_count": null,
   "metadata": {
    "collapsed": true
   },
   "outputs": [],
   "source": []
  }
 ],
 "metadata": {
  "kernelspec": {
   "display_name": "Python 3",
   "language": "python",
   "name": "python3"
  },
  "language_info": {
   "codemirror_mode": {
    "name": "ipython",
    "version": 3
   },
   "file_extension": ".py",
   "mimetype": "text/x-python",
   "name": "python",
   "nbconvert_exporter": "python",
   "pygments_lexer": "ipython3",
   "version": "3.6.1"
  }
 },
 "nbformat": 4,
 "nbformat_minor": 2
}
