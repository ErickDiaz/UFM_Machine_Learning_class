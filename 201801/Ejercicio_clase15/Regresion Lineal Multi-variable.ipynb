{
 "cells": [
  {
   "cell_type": "markdown",
   "metadata": {},
   "source": [
    "# Regresión Lineal Multivariable\n",
    "\n",
    "En este notebook se va a desarrollar un ejemplo de Regresión lineal multivariable.\n",
    "Al igual que en los ejercicios anteriores, debes completar el codigo en las celdas donde diga \"implementa tu codigo aqui\""
   ]
  },
  {
   "cell_type": "code",
   "execution_count": 4,
   "metadata": {},
   "outputs": [],
   "source": [
    "%matplotlib inline\n",
    "\n",
    "\n",
    "import pandas as pd\n",
    "from sklearn import linear_model\n",
    "import data_helper\n",
    "import numpy as np\n",
    "import matplotlib.pyplot as plt"
   ]
  },
  {
   "cell_type": "code",
   "execution_count": 5,
   "metadata": {},
   "outputs": [],
   "source": [
    " pd.set_option('display.float_format', lambda x: '%.3f' % x)"
   ]
  },
  {
   "cell_type": "markdown",
   "metadata": {},
   "source": [
    "## Cargando los datos"
   ]
  },
  {
   "cell_type": "code",
   "execution_count": 6,
   "metadata": {},
   "outputs": [],
   "source": [
    "data_casas = data_helper.load_data()"
   ]
  },
  {
   "cell_type": "code",
   "execution_count": 7,
   "metadata": {},
   "outputs": [
    {
     "data": {
      "text/html": [
       "<div>\n",
       "<style scoped>\n",
       "    .dataframe tbody tr th:only-of-type {\n",
       "        vertical-align: middle;\n",
       "    }\n",
       "\n",
       "    .dataframe tbody tr th {\n",
       "        vertical-align: top;\n",
       "    }\n",
       "\n",
       "    .dataframe thead th {\n",
       "        text-align: right;\n",
       "    }\n",
       "</style>\n",
       "<table border=\"1\" class=\"dataframe\">\n",
       "  <thead>\n",
       "    <tr style=\"text-align: right;\">\n",
       "      <th></th>\n",
       "      <th>Area_Lote</th>\n",
       "      <th>Precio</th>\n",
       "      <th>dormitorios</th>\n",
       "      <th>banios</th>\n",
       "      <th>paqueos</th>\n",
       "      <th>anio_construccion</th>\n",
       "      <th>Vendedor</th>\n",
       "    </tr>\n",
       "  </thead>\n",
       "  <tbody>\n",
       "    <tr>\n",
       "      <th>2</th>\n",
       "      <td>79.000</td>\n",
       "      <td>1035000.000</td>\n",
       "      <td>2</td>\n",
       "      <td>1</td>\n",
       "      <td>0</td>\n",
       "      <td>1900</td>\n",
       "      <td>Biggin</td>\n",
       "    </tr>\n",
       "    <tr>\n",
       "      <th>4</th>\n",
       "      <td>150.000</td>\n",
       "      <td>1465000.000</td>\n",
       "      <td>3</td>\n",
       "      <td>2</td>\n",
       "      <td>0</td>\n",
       "      <td>1900</td>\n",
       "      <td>Biggin</td>\n",
       "    </tr>\n",
       "    <tr>\n",
       "      <th>6</th>\n",
       "      <td>142.000</td>\n",
       "      <td>1600000.000</td>\n",
       "      <td>4</td>\n",
       "      <td>1</td>\n",
       "      <td>2</td>\n",
       "      <td>2014</td>\n",
       "      <td>Nelson</td>\n",
       "    </tr>\n",
       "    <tr>\n",
       "      <th>11</th>\n",
       "      <td>210.000</td>\n",
       "      <td>1876000.000</td>\n",
       "      <td>3</td>\n",
       "      <td>2</td>\n",
       "      <td>0</td>\n",
       "      <td>1910</td>\n",
       "      <td>Nelson</td>\n",
       "    </tr>\n",
       "    <tr>\n",
       "      <th>14</th>\n",
       "      <td>107.000</td>\n",
       "      <td>1636000.000</td>\n",
       "      <td>2</td>\n",
       "      <td>1</td>\n",
       "      <td>2</td>\n",
       "      <td>1890</td>\n",
       "      <td>Nelson</td>\n",
       "    </tr>\n",
       "    <tr>\n",
       "      <th>18</th>\n",
       "      <td>75.000</td>\n",
       "      <td>1097000.000</td>\n",
       "      <td>2</td>\n",
       "      <td>1</td>\n",
       "      <td>2</td>\n",
       "      <td>1900</td>\n",
       "      <td>Biggin</td>\n",
       "    </tr>\n",
       "    <tr>\n",
       "      <th>24</th>\n",
       "      <td>190.000</td>\n",
       "      <td>1350000.000</td>\n",
       "      <td>3</td>\n",
       "      <td>2</td>\n",
       "      <td>2</td>\n",
       "      <td>2005</td>\n",
       "      <td>Nelson</td>\n",
       "    </tr>\n",
       "    <tr>\n",
       "      <th>25</th>\n",
       "      <td>94.000</td>\n",
       "      <td>750000.000</td>\n",
       "      <td>2</td>\n",
       "      <td>2</td>\n",
       "      <td>1</td>\n",
       "      <td>2009</td>\n",
       "      <td>Biggin</td>\n",
       "    </tr>\n",
       "    <tr>\n",
       "      <th>30</th>\n",
       "      <td>97.000</td>\n",
       "      <td>1310000.000</td>\n",
       "      <td>2</td>\n",
       "      <td>1</td>\n",
       "      <td>2</td>\n",
       "      <td>1890</td>\n",
       "      <td>Jellis</td>\n",
       "    </tr>\n",
       "    <tr>\n",
       "      <th>32</th>\n",
       "      <td>110.000</td>\n",
       "      <td>1200000.000</td>\n",
       "      <td>3</td>\n",
       "      <td>2</td>\n",
       "      <td>1</td>\n",
       "      <td>1880</td>\n",
       "      <td>Jellis</td>\n",
       "    </tr>\n",
       "  </tbody>\n",
       "</table>\n",
       "</div>"
      ],
      "text/plain": [
       "    Area_Lote      Precio  dormitorios  banios  paqueos  anio_construccion  \\\n",
       "2      79.000 1035000.000            2       1        0               1900   \n",
       "4     150.000 1465000.000            3       2        0               1900   \n",
       "6     142.000 1600000.000            4       1        2               2014   \n",
       "11    210.000 1876000.000            3       2        0               1910   \n",
       "14    107.000 1636000.000            2       1        2               1890   \n",
       "18     75.000 1097000.000            2       1        2               1900   \n",
       "24    190.000 1350000.000            3       2        2               2005   \n",
       "25     94.000  750000.000            2       2        1               2009   \n",
       "30     97.000 1310000.000            2       1        2               1890   \n",
       "32    110.000 1200000.000            3       2        1               1880   \n",
       "\n",
       "   Vendedor  \n",
       "2    Biggin  \n",
       "4    Biggin  \n",
       "6    Nelson  \n",
       "11   Nelson  \n",
       "14   Nelson  \n",
       "18   Biggin  \n",
       "24   Nelson  \n",
       "25   Biggin  \n",
       "30   Jellis  \n",
       "32   Jellis  "
      ]
     },
     "execution_count": 7,
     "metadata": {},
     "output_type": "execute_result"
    }
   ],
   "source": [
    "data_casas.head(10)"
   ]
  },
  {
   "cell_type": "code",
   "execution_count": 5,
   "metadata": {},
   "outputs": [
    {
     "data": {
      "text/plain": [
       "(1000, 7)"
      ]
     },
     "execution_count": 5,
     "metadata": {},
     "output_type": "execute_result"
    }
   ],
   "source": [
    "data_casas.shape"
   ]
  },
  {
   "cell_type": "markdown",
   "metadata": {},
   "source": [
    "## Feature Engineering"
   ]
  },
  {
   "cell_type": "markdown",
   "metadata": {},
   "source": [
    "Para tener una mejor idea de que features nos pueden servir, generamos una matriz de correlación. \n",
    "\n",
    "En esta sección vamos a remover la columna de vendedor ya que no va a ser útil para el análisis y crear una nueva feature que se llame **numero_habitaciones** que va a ser la suma de las features **dormitorios** y **banios**"
   ]
  },
  {
   "cell_type": "code",
   "execution_count": 6,
   "metadata": {},
   "outputs": [
    {
     "data": {
      "text/plain": [
       "Precio               1.000\n",
       "dormitorios          0.647\n",
       "banios               0.569\n",
       "Area_Lote            0.497\n",
       "paqueos              0.361\n",
       "anio_construccion   -0.194\n",
       "Name: Precio, dtype: float64"
      ]
     },
     "execution_count": 6,
     "metadata": {},
     "output_type": "execute_result"
    }
   ],
   "source": [
    "corr_matrix = data_casas.corr()\n",
    "corr_matrix[\"Precio\"].sort_values(ascending=False)"
   ]
  },
  {
   "cell_type": "markdown",
   "metadata": {},
   "source": [
    "#### Removiendo la columna 'Vendedor'\n",
    "\n",
    "Para eliminar una columna en un data frame de pandas utilizamos:\n",
    "```\n",
    "DataFrame.drop(labels=None, axis=0, index=None, columns=None, level=None, inplace=False, errors='raise')\n",
    "```\n",
    "Si seteamos el valor de axis a 1, indicamos que queremos eliminar una columna. Ejemplo\n",
    "\n",
    "```\n",
    "+-----------------+\n",
    "|A  | B |  C |  D |\n",
    "+-----------------+   \n",
    "| 0 | 1 |  2 |  3 |\n",
    "| 4 | 5 |  6 |  7 |\n",
    "| 8 | 9 | 10 | 11 |\n",
    "+-----------------+   \n",
    "```\n",
    "\n",
    "```\n",
    "df.drop(['B', 'C'], axis=1)\n",
    "```\n",
    "\n",
    "```\n",
    "+--------+\n",
    "|A  |  D |\n",
    "+--------+   \n",
    "| 0 |  3 |\n",
    "| 4 |  7 |\n",
    "| 8 | 11 |\n",
    "+--------+ \n",
    "```"
   ]
  },
  {
   "cell_type": "code",
   "execution_count": 7,
   "metadata": {},
   "outputs": [],
   "source": [
    "'''\n",
    "implementa tu codigo aqui\n",
    "'''\n",
    "data_casas = "
   ]
  },
  {
   "cell_type": "code",
   "execution_count": 8,
   "metadata": {},
   "outputs": [
    {
     "data": {
      "text/html": [
       "<div>\n",
       "<style scoped>\n",
       "    .dataframe tbody tr th:only-of-type {\n",
       "        vertical-align: middle;\n",
       "    }\n",
       "\n",
       "    .dataframe tbody tr th {\n",
       "        vertical-align: top;\n",
       "    }\n",
       "\n",
       "    .dataframe thead th {\n",
       "        text-align: right;\n",
       "    }\n",
       "</style>\n",
       "<table border=\"1\" class=\"dataframe\">\n",
       "  <thead>\n",
       "    <tr style=\"text-align: right;\">\n",
       "      <th></th>\n",
       "      <th>Area_Lote</th>\n",
       "      <th>Precio</th>\n",
       "      <th>dormitorios</th>\n",
       "      <th>banios</th>\n",
       "      <th>paqueos</th>\n",
       "      <th>anio_construccion</th>\n",
       "    </tr>\n",
       "  </thead>\n",
       "  <tbody>\n",
       "    <tr>\n",
       "      <th>2</th>\n",
       "      <td>79.000</td>\n",
       "      <td>1035000.000</td>\n",
       "      <td>2</td>\n",
       "      <td>1</td>\n",
       "      <td>0</td>\n",
       "      <td>1900</td>\n",
       "    </tr>\n",
       "    <tr>\n",
       "      <th>4</th>\n",
       "      <td>150.000</td>\n",
       "      <td>1465000.000</td>\n",
       "      <td>3</td>\n",
       "      <td>2</td>\n",
       "      <td>0</td>\n",
       "      <td>1900</td>\n",
       "    </tr>\n",
       "    <tr>\n",
       "      <th>6</th>\n",
       "      <td>142.000</td>\n",
       "      <td>1600000.000</td>\n",
       "      <td>4</td>\n",
       "      <td>1</td>\n",
       "      <td>2</td>\n",
       "      <td>2014</td>\n",
       "    </tr>\n",
       "    <tr>\n",
       "      <th>11</th>\n",
       "      <td>210.000</td>\n",
       "      <td>1876000.000</td>\n",
       "      <td>3</td>\n",
       "      <td>2</td>\n",
       "      <td>0</td>\n",
       "      <td>1910</td>\n",
       "    </tr>\n",
       "    <tr>\n",
       "      <th>14</th>\n",
       "      <td>107.000</td>\n",
       "      <td>1636000.000</td>\n",
       "      <td>2</td>\n",
       "      <td>1</td>\n",
       "      <td>2</td>\n",
       "      <td>1890</td>\n",
       "    </tr>\n",
       "  </tbody>\n",
       "</table>\n",
       "</div>"
      ],
      "text/plain": [
       "    Area_Lote      Precio  dormitorios  banios  paqueos  anio_construccion\n",
       "2      79.000 1035000.000            2       1        0               1900\n",
       "4     150.000 1465000.000            3       2        0               1900\n",
       "6     142.000 1600000.000            4       1        2               2014\n",
       "11    210.000 1876000.000            3       2        0               1910\n",
       "14    107.000 1636000.000            2       1        2               1890"
      ]
     },
     "execution_count": 8,
     "metadata": {},
     "output_type": "execute_result"
    }
   ],
   "source": [
    "# Mostramos las primeras 5 filas para validar que eliminamos la columna 'Vendedor'\n",
    "data_casas.head(5)"
   ]
  },
  {
   "cell_type": "markdown",
   "metadata": {},
   "source": [
    "#### Creando la feature **numero_habitaciones**\n",
    "\n",
    "Ejemplo:\n",
    "```\n",
    "+--------+\n",
    "|A  |  D |\n",
    "+--------+   \n",
    "| 0 |  3 |\n",
    "| 4 |  7 |\n",
    "| 8 | 11 |\n",
    "+--------+ \n",
    "```\n",
    "\n",
    "```\n",
    "df['nueva_columna'] = df['A'] * df['C']\n",
    "```\n",
    "\n",
    "```\n",
    "+-----------------------+\n",
    "|A  |  D | nueva_columna|\n",
    "+-----------------------+   \n",
    "| 0 |  3 |            0 |\n",
    "| 4 |  7 |           28 |\n",
    "| 8 | 11 |           88 |\n",
    "+-----------------------+ \n",
    "```"
   ]
  },
  {
   "cell_type": "code",
   "execution_count": 9,
   "metadata": {},
   "outputs": [],
   "source": [
    "'''\n",
    "implementa tu codigo aqui\n",
    "'''\n",
    "\n",
    "data_casas['numero_habitaciones'] = "
   ]
  },
  {
   "cell_type": "code",
   "execution_count": 10,
   "metadata": {},
   "outputs": [
    {
     "data": {
      "text/html": [
       "<div>\n",
       "<style scoped>\n",
       "    .dataframe tbody tr th:only-of-type {\n",
       "        vertical-align: middle;\n",
       "    }\n",
       "\n",
       "    .dataframe tbody tr th {\n",
       "        vertical-align: top;\n",
       "    }\n",
       "\n",
       "    .dataframe thead th {\n",
       "        text-align: right;\n",
       "    }\n",
       "</style>\n",
       "<table border=\"1\" class=\"dataframe\">\n",
       "  <thead>\n",
       "    <tr style=\"text-align: right;\">\n",
       "      <th></th>\n",
       "      <th>Area_Lote</th>\n",
       "      <th>Precio</th>\n",
       "      <th>dormitorios</th>\n",
       "      <th>banios</th>\n",
       "      <th>paqueos</th>\n",
       "      <th>anio_construccion</th>\n",
       "      <th>numero_habitaciones</th>\n",
       "    </tr>\n",
       "  </thead>\n",
       "  <tbody>\n",
       "    <tr>\n",
       "      <th>2</th>\n",
       "      <td>79.000</td>\n",
       "      <td>1035000.000</td>\n",
       "      <td>2</td>\n",
       "      <td>1</td>\n",
       "      <td>0</td>\n",
       "      <td>1900</td>\n",
       "      <td>3</td>\n",
       "    </tr>\n",
       "    <tr>\n",
       "      <th>4</th>\n",
       "      <td>150.000</td>\n",
       "      <td>1465000.000</td>\n",
       "      <td>3</td>\n",
       "      <td>2</td>\n",
       "      <td>0</td>\n",
       "      <td>1900</td>\n",
       "      <td>5</td>\n",
       "    </tr>\n",
       "    <tr>\n",
       "      <th>6</th>\n",
       "      <td>142.000</td>\n",
       "      <td>1600000.000</td>\n",
       "      <td>4</td>\n",
       "      <td>1</td>\n",
       "      <td>2</td>\n",
       "      <td>2014</td>\n",
       "      <td>5</td>\n",
       "    </tr>\n",
       "    <tr>\n",
       "      <th>11</th>\n",
       "      <td>210.000</td>\n",
       "      <td>1876000.000</td>\n",
       "      <td>3</td>\n",
       "      <td>2</td>\n",
       "      <td>0</td>\n",
       "      <td>1910</td>\n",
       "      <td>5</td>\n",
       "    </tr>\n",
       "    <tr>\n",
       "      <th>14</th>\n",
       "      <td>107.000</td>\n",
       "      <td>1636000.000</td>\n",
       "      <td>2</td>\n",
       "      <td>1</td>\n",
       "      <td>2</td>\n",
       "      <td>1890</td>\n",
       "      <td>3</td>\n",
       "    </tr>\n",
       "  </tbody>\n",
       "</table>\n",
       "</div>"
      ],
      "text/plain": [
       "    Area_Lote      Precio  dormitorios  banios  paqueos  anio_construccion  \\\n",
       "2      79.000 1035000.000            2       1        0               1900   \n",
       "4     150.000 1465000.000            3       2        0               1900   \n",
       "6     142.000 1600000.000            4       1        2               2014   \n",
       "11    210.000 1876000.000            3       2        0               1910   \n",
       "14    107.000 1636000.000            2       1        2               1890   \n",
       "\n",
       "    numero_habitaciones  \n",
       "2                     3  \n",
       "4                     5  \n",
       "6                     5  \n",
       "11                    5  \n",
       "14                    3  "
      ]
     },
     "execution_count": 10,
     "metadata": {},
     "output_type": "execute_result"
    }
   ],
   "source": [
    "# Validamos que nuestro data frame tenga la nueva columna \n",
    "data_casas.head(5)"
   ]
  },
  {
   "cell_type": "markdown",
   "metadata": {},
   "source": [
    "#### Removiendo las columnas  'dormitorios' y 'banios\"\n",
    "\n",
    "para nuestro modelo ya no vamos a utilizar las features **dormitorios** y **banios**, en lugar de estas vamos a utilizar la nueva feature **numero_habitaciones**"
   ]
  },
  {
   "cell_type": "code",
   "execution_count": 11,
   "metadata": {},
   "outputs": [],
   "source": [
    "'''\n",
    "implementa tu codigo aqui\n",
    "'''\n",
    "data_casas = "
   ]
  },
  {
   "cell_type": "code",
   "execution_count": 12,
   "metadata": {},
   "outputs": [
    {
     "data": {
      "text/html": [
       "<div>\n",
       "<style scoped>\n",
       "    .dataframe tbody tr th:only-of-type {\n",
       "        vertical-align: middle;\n",
       "    }\n",
       "\n",
       "    .dataframe tbody tr th {\n",
       "        vertical-align: top;\n",
       "    }\n",
       "\n",
       "    .dataframe thead th {\n",
       "        text-align: right;\n",
       "    }\n",
       "</style>\n",
       "<table border=\"1\" class=\"dataframe\">\n",
       "  <thead>\n",
       "    <tr style=\"text-align: right;\">\n",
       "      <th></th>\n",
       "      <th>Area_Lote</th>\n",
       "      <th>Precio</th>\n",
       "      <th>paqueos</th>\n",
       "      <th>anio_construccion</th>\n",
       "      <th>numero_habitaciones</th>\n",
       "    </tr>\n",
       "  </thead>\n",
       "  <tbody>\n",
       "    <tr>\n",
       "      <th>2</th>\n",
       "      <td>79.000</td>\n",
       "      <td>1035000.000</td>\n",
       "      <td>0</td>\n",
       "      <td>1900</td>\n",
       "      <td>3</td>\n",
       "    </tr>\n",
       "    <tr>\n",
       "      <th>4</th>\n",
       "      <td>150.000</td>\n",
       "      <td>1465000.000</td>\n",
       "      <td>0</td>\n",
       "      <td>1900</td>\n",
       "      <td>5</td>\n",
       "    </tr>\n",
       "    <tr>\n",
       "      <th>6</th>\n",
       "      <td>142.000</td>\n",
       "      <td>1600000.000</td>\n",
       "      <td>2</td>\n",
       "      <td>2014</td>\n",
       "      <td>5</td>\n",
       "    </tr>\n",
       "    <tr>\n",
       "      <th>11</th>\n",
       "      <td>210.000</td>\n",
       "      <td>1876000.000</td>\n",
       "      <td>0</td>\n",
       "      <td>1910</td>\n",
       "      <td>5</td>\n",
       "    </tr>\n",
       "    <tr>\n",
       "      <th>14</th>\n",
       "      <td>107.000</td>\n",
       "      <td>1636000.000</td>\n",
       "      <td>2</td>\n",
       "      <td>1890</td>\n",
       "      <td>3</td>\n",
       "    </tr>\n",
       "  </tbody>\n",
       "</table>\n",
       "</div>"
      ],
      "text/plain": [
       "    Area_Lote      Precio  paqueos  anio_construccion  numero_habitaciones\n",
       "2      79.000 1035000.000        0               1900                    3\n",
       "4     150.000 1465000.000        0               1900                    5\n",
       "6     142.000 1600000.000        2               2014                    5\n",
       "11    210.000 1876000.000        0               1910                    5\n",
       "14    107.000 1636000.000        2               1890                    3"
      ]
     },
     "execution_count": 12,
     "metadata": {},
     "output_type": "execute_result"
    }
   ],
   "source": [
    "data_casas.head(5)"
   ]
  },
  {
   "cell_type": "markdown",
   "metadata": {},
   "source": [
    "## Hipótesis en RLMV: \n",
    "\n",
    "En esta funcion vamos a obtener los resultados de la hipotesis\n",
    "\n",
    "$h_{\\theta}=\\theta _{0}+\\theta _{1}X_{1}+\\theta _{2}X_{2}+\\ldots +\\theta _{n}X_{n}$\n",
    "\n",
    "**Features:** data frame con las features que se utilizaran para predecir la hipotesis\n",
    "\n",
    "**parametros:** vector con los valores theta del modelo"
   ]
  },
  {
   "cell_type": "code",
   "execution_count": 13,
   "metadata": {},
   "outputs": [],
   "source": [
    "def get_hipotesis(features, theta_values):\n",
    "    ## Calculo de la hipotesis de froma vectorizada ##\n",
    "       \n",
    "    y = X.dot(theta_values).flatten()\n",
    "    \n",
    "    return y"
   ]
  },
  {
   "cell_type": "code",
   "execution_count": 14,
   "metadata": {},
   "outputs": [],
   "source": [
    "##### EJEMPLO #######\n",
    "\n",
    "# Obetenemos la Features que vamos a utilizar en nuesto modelo\n",
    "features_x = data_casas[['Area_Lote', 'numero_habitaciones', 'paqueos', 'anio_construccion']]\n",
    "\n",
    "# Recordemos que x0=1, por lo que agreamos una features de valores 1\n",
    "features_x['interceptor'] = 1\n",
    "\n",
    "# Creando la Matriz X de features\n",
    "X = np.array(features_x)\n",
    "\n",
    "theta_values = [992.6628870692274, 254599.25629753844, 55288.30299300452, -5152.457568534031, 9937364.817429375]\n",
    "\n",
    "y_predicted = get_hipotesis(X, theta_values)"
   ]
  },
  {
   "cell_type": "markdown",
   "metadata": {},
   "source": [
    "## Costo en RLMV: \n",
    "$h_{\\theta}=\\theta _{0}+\\theta _{1}X_{1}+\\theta _{2}X_{2}+\\ldots +\\theta _{n}X_{n}$\n",
    "\n",
    "\n",
    "$J(\\theta _{0},\\theta _{1},\\theta _{2},\\ldots,\\theta _{n}) ={\\frac {1}{2m}}\\sum _{i=1}^{m}(h_{\\theta}(x^{(i)})-y^{(i)})^{2}$"
   ]
  },
  {
   "cell_type": "markdown",
   "metadata": {},
   "source": []
  },
  {
   "cell_type": "code",
   "execution_count": 15,
   "metadata": {},
   "outputs": [],
   "source": [
    "def cost_function(x, y, theta_values):\n",
    "    \"\"\"\n",
    "    cost_function(X, y, theta_values) computes the cost of using beta as the\n",
    "    parameter for linear regression to fit the data points in X and y\n",
    "    \"\"\"\n",
    "    ## number of training examples\n",
    "    m = len(y)\n",
    "\n",
    "    ## Calcula los valores de la hipotesis utilizando la funcion\n",
    "    h = get_hipotesis(x, theta_values)\n",
    "    \n",
    "    '''\n",
    "    implementa tu codigo aqui, puedes utilizar la misma formula del ultimo ejercicio\n",
    "    '''\n",
    "    J = \n",
    "\n",
    "    return J"
   ]
  },
  {
   "cell_type": "code",
   "execution_count": 16,
   "metadata": {},
   "outputs": [
    {
     "data": {
      "text/plain": [
       "127938086592.94948"
      ]
     },
     "execution_count": 16,
     "metadata": {},
     "output_type": "execute_result"
    }
   ],
   "source": [
    "### EJECUTA ESTA CELDA PARA VALIDAR TU FUNCION DE COSTO ######\n",
    "\n",
    "features_x = data_casas[['Area_Lote', 'numero_habitaciones', 'paqueos', 'anio_construccion']]\n",
    "y = data_casas['Precio']\n",
    "theta_values = [992.6628870692274, 254599.25629753844, 55288.30299300452, -5152.457568534031, 9937364.817429375]\n",
    "\n",
    "cost_function(features_x, y, theta_values)"
   ]
  },
  {
   "cell_type": "markdown",
   "metadata": {},
   "source": [
    "El resultado de la celda anterior deberia de ser 127938086592.94948"
   ]
  },
  {
   "cell_type": "markdown",
   "metadata": {},
   "source": [
    "## Proceso de entrenamiento/aprendizaje en RLMV: \n",
    "\n",
    "Repetir{\n",
    "\n",
    "$\\theta_{j} := \\theta _{j}- \\alpha {\\frac {\\partial}{\\partial \\theta_{j}}}J(\\theta _{0},\\theta _{1},\\theta _{2},\\ldots,\\theta _{n})$\n",
    "\n",
    "}\n",
    "        \n",
    "Simultaneamente para cada $j = 0,\\ldots,n $\n",
    "\n",
    "\n",
    "### Gradient descent en RLMV: \n",
    "Repetir{\n",
    "\n",
    "$\\theta_{j} := \\theta _{j} - \\alpha {\\frac {1}{m}} \\sum _{i=1}^{m}(h_{\\theta}(x^{(i)})-y^{(i)})x^{(i)}_{j}$\n",
    "\n",
    "}\n",
    "        \n",
    "Simultaneamente para cada $j = 0,\\ldots,n $\n",
    "\n",
    "#### Ejemplo en codigo\n",
    "Esto lo vamos a implementar en un ciclo for, por ejemplo \n",
    "\n",
    "```\n",
    "for i, theta in enumerate(theta_vector):\n",
    "  nuevo_theta = <tu implementacion de la formula aca>\n",
    "  \n",
    "  ### aqui agregamos el nuevo valor the theta[i] a un vector temporal\n",
    "  theta_vector_temp.append(nuevo_theta)\n",
    "  \n",
    "## Cuando finaliza el ciclo actualizamos el vector theta con los nuevos valores\n",
    "theta_vector = theta_vector_temp\n",
    "\n",
    "```\n",
    "\n",
    "El resultado de este ciclo seria el siguiente, para el caso de una regresion con 2 variables\n",
    "\n",
    "$\\theta_{0} := \\theta _{j} - \\alpha {\\frac {1}{m}} \\sum _{i=1}^{m}(h_{\\theta}(x^{(i)})-y^{(i)})x^{(i)}_{0}$\n",
    "\n",
    "$\\theta_{1} := \\theta _{1} - \\alpha {\\frac {1}{m}} \\sum _{i=1}^{m}(h_{\\theta}(x^{(i)})-y^{(i)})x^{(i)}_{1}$\n",
    "\n",
    "$\\theta_{2} := \\theta _{2} - \\alpha {\\frac {1}{m}} \\sum _{i=1}^{m}(h_{\\theta}(x^{(i)})-y^{(i)})x^{(i)}_{2}$\n",
    "\n",
    "Al implementar esta formula en Python, adentro de la sumatoria $(h_{\\theta}(x^{(i)})-y^{(i)})x^{(i)}_{j}$\n",
    "El codigo para multiplicar por $x^{(i)}_{j}$  seria :\n",
    "```* X[:,i]```"
   ]
  },
  {
   "cell_type": "code",
   "execution_count": 26,
   "metadata": {},
   "outputs": [
    {
     "name": "stdout",
     "output_type": "stream",
     "text": [
      "#####################\n",
      "Iteracion:  0\n",
      "Costo:  1004026369310.1957\n",
      "#####################\n",
      "Iteracion:  20\n",
      "Costo:  309153249636.1283\n",
      "#####################\n",
      "Iteracion:  40\n",
      "Costo:  246769000466.9458\n",
      "#####################\n",
      "Iteracion:  60\n",
      "Costo:  233631293802.5409\n",
      "#####################\n",
      "Iteracion:  80\n",
      "Costo:  226606812197.72006\n",
      "#####################\n",
      "Iteracion:  100\n",
      "Costo:  221825360063.65616\n",
      "#####################\n",
      "Iteracion:  120\n",
      "Costo:  218473200753.09482\n",
      "#####################\n",
      "Iteracion:  140\n",
      "Costo:  216115602962.0425\n",
      "#####################\n",
      "Iteracion:  160\n",
      "Costo:  214456730963.51065\n",
      "#####################\n",
      "Iteracion:  180\n",
      "Costo:  213289232357.9612\n",
      "\n",
      "Costo:  212501934793.2578\n"
     ]
    },
    {
     "data": {
      "image/png": "[encoded data removed]",
      "text/plain": [
       "<matplotlib.figure.Figure at 0x11554c048>"
      ]
     },
     "metadata": {},
     "output_type": "display_data"
    }
   ],
   "source": [
    "######### FEATURES ###############################\n",
    "# Obetenemos la Features que vamos a utilizar en nuesto modelo\n",
    "features_x = data_casas[['Area_Lote', 'numero_habitaciones', 'paqueos', 'anio_construccion']]\n",
    "# Recordemos que x0=1, por lo que agreamos una features de valores 1\n",
    "features_x['interceptor'] = 1\n",
    "# Creando la Matriz X de features\n",
    "X = np.array(features_x)\n",
    "\n",
    "###### Valores de y ############    \n",
    "y = data_casas['Precio']\n",
    "\n",
    "## Numero de feautres ##\n",
    "number_features = 4 + 1\n",
    "\n",
    "## Creamos un vector donde se almacenan los valores de Theta,\n",
    "## lo inicializamos con numeros aleatorios\n",
    "theta_vector = np.random.rand(number_features)\n",
    "\n",
    "## Numero de iteracions ##\n",
    "iterations = 200\n",
    "\n",
    "## Alpha ##\n",
    "alpha = 0.0000005\n",
    "\n",
    "m = len(y) \n",
    "\n",
    "## loss vector\n",
    "loss_vec = []\n",
    "## Cost vector\n",
    "cost_vect = []\n",
    "\n",
    "\n",
    "for iteration in range(iterations):\n",
    "    '''\n",
    "    IMPLELEMTA TU CODIGO AQUI, llama a la funcion para calcular la hipotesis\n",
    "    que se implemento mas arriba. Parametros matriz de features X y el vector\n",
    "    con los valores Theta\n",
    "    '''\n",
    "    hipotesis = get_hipotesis(X, theta_vector)\n",
    "    \n",
    "    \n",
    "    theta_vector_temp = []\n",
    "    for i, theta in enumerate(theta_vector):\n",
    "        '''\n",
    "        IMPLELEMTA TU CODIGO AQUI, adentro de este ciclo vamos a calcular\n",
    "        elnuevo valor de Theta[i], utilizando la formula de la celda de arriba\n",
    "        Recuerda que para multiplicar por utilizamos X[:,i]\n",
    "        '''\n",
    "        nuevo_theta = \n",
    "        \n",
    "        ### aqui agregamos el nuevo valor the theta[i] a un vector temporal\n",
    "        theta_vector_temp.append(nuevo_theta)\n",
    "    \n",
    "    \n",
    "    ## Actualizamos el vector theta con los nuevos valores\n",
    "    theta_vector = theta_vector_temp\n",
    "    \n",
    "    '''\n",
    "    IMPLELEMTA TU CODIGO AQUI, llama a la funcion de costo\n",
    "    '''\n",
    "    cost = \n",
    "    \n",
    "    ## Guardando el valor del costo para graficarlo ##\n",
    "    cost_vect.append(cost)\n",
    "    \n",
    "    ## Este codigo no hay que modificarlo ##\n",
    "    if(iteration % 20 == 0):\n",
    "        print('#####################')\n",
    "        print('Iteracion: ', iteration)\n",
    "        print('Costo: ', cost)\n",
    "        \n",
    "\n",
    "print('')        \n",
    "print('Costo: ', cost)\n",
    "\n",
    "\n",
    "\n",
    "plt.plot(cost_vect, color='red', label = 'Costo')\n",
    "plt.show()"
   ]
  },
  {
   "attachments": {},
   "cell_type": "markdown",
   "metadata": {},
   "source": [
    "### Costo en cada iteracion\n",
    "\n",
    "Al ejecutar tu implementacion de Gradient descent en RLMV, el costo debe disminuir en cada iteracion \n",
    "por lo que la grafica de costo resultante es la siguiente:\n",
    "\n",
    "\n",
    "<img src=\"images/cost_over_time.png\" width=\"400\">"
   ]
  },
  {
   "cell_type": "code",
   "execution_count": null,
   "metadata": {},
   "outputs": [],
   "source": [
    "data_casas['Prediccion'] = get_hipotesis(X, theta_vector)\n",
    "data_casas = data_casas[['Area_Lote', 'numero_habitaciones', 'paqueos', 'anio_construccion', 'Precio', 'Prediccion']]\n",
    "data_casas.head(20)"
   ]
  },
  {
   "cell_type": "markdown",
   "metadata": {},
   "source": [
    "# RLMV con Scikit Learn"
   ]
  },
  {
   "cell_type": "code",
   "execution_count": 9,
   "metadata": {},
   "outputs": [],
   "source": [
    "features = data_casas[['Area_Lote', 'dormitorios', 'paqueos', 'anio_construccion']]\n",
    "y = data_casas['Precio']"
   ]
  },
  {
   "cell_type": "code",
   "execution_count": 10,
   "metadata": {},
   "outputs": [
    {
     "data": {
      "text/plain": [
       "LinearRegression(copy_X=True, fit_intercept=True, n_jobs=1, normalize=False)"
      ]
     },
     "execution_count": 10,
     "metadata": {},
     "output_type": "execute_result"
    }
   ],
   "source": [
    "lm = linear_model.LinearRegression()\n",
    "lm.fit(features,y)"
   ]
  },
  {
   "cell_type": "markdown",
   "metadata": {},
   "source": [
    "#### Modelo"
   ]
  },
  {
   "cell_type": "code",
   "execution_count": 12,
   "metadata": {},
   "outputs": [
    {
     "name": "stdout",
     "output_type": "stream",
     "text": [
      " y = 1220.405076131394x + 359246.35711640434x + 67915.23361095643x  -4022.9490705421395x + 7770894.079227889\n"
     ]
    }
   ],
   "source": [
    "t1 = lm.coef_[0]\n",
    "t2 = lm.coef_[1]\n",
    "t3 = lm.coef_[2]\n",
    "t4 = lm.coef_[3]\n",
    "b = lm.intercept_\n",
    "print(' y = {0}x + {1}x + {2}x  {3}x + {4}'.format(t1,t2,t3,t4, b))"
   ]
  },
  {
   "cell_type": "code",
   "execution_count": 14,
   "metadata": {},
   "outputs": [],
   "source": [
    "data_casas['Prediccion'] = lm.predict(features)\n",
    "data_casas = data_casas[['Area_Lote', 'dormitorios', 'paqueos', 'anio_construccion', 'Precio', 'Prediccion']]"
   ]
  },
  {
   "cell_type": "code",
   "execution_count": 15,
   "metadata": {},
   "outputs": [
    {
     "data": {
      "text/html": [
       "<div>\n",
       "<style scoped>\n",
       "    .dataframe tbody tr th:only-of-type {\n",
       "        vertical-align: middle;\n",
       "    }\n",
       "\n",
       "    .dataframe tbody tr th {\n",
       "        vertical-align: top;\n",
       "    }\n",
       "\n",
       "    .dataframe thead th {\n",
       "        text-align: right;\n",
       "    }\n",
       "</style>\n",
       "<table border=\"1\" class=\"dataframe\">\n",
       "  <thead>\n",
       "    <tr style=\"text-align: right;\">\n",
       "      <th></th>\n",
       "      <th>Area_Lote</th>\n",
       "      <th>dormitorios</th>\n",
       "      <th>paqueos</th>\n",
       "      <th>anio_construccion</th>\n",
       "      <th>Precio</th>\n",
       "      <th>Prediccion</th>\n",
       "    </tr>\n",
       "  </thead>\n",
       "  <tbody>\n",
       "    <tr>\n",
       "      <th>2</th>\n",
       "      <td>79.000</td>\n",
       "      <td>2</td>\n",
       "      <td>0</td>\n",
       "      <td>1900</td>\n",
       "      <td>1035000.000</td>\n",
       "      <td>942195.560</td>\n",
       "    </tr>\n",
       "    <tr>\n",
       "      <th>4</th>\n",
       "      <td>150.000</td>\n",
       "      <td>3</td>\n",
       "      <td>0</td>\n",
       "      <td>1900</td>\n",
       "      <td>1465000.000</td>\n",
       "      <td>1388090.678</td>\n",
       "    </tr>\n",
       "    <tr>\n",
       "      <th>6</th>\n",
       "      <td>142.000</td>\n",
       "      <td>4</td>\n",
       "      <td>2</td>\n",
       "      <td>2014</td>\n",
       "      <td>1600000.000</td>\n",
       "      <td>1414788.068</td>\n",
       "    </tr>\n",
       "    <tr>\n",
       "      <th>11</th>\n",
       "      <td>210.000</td>\n",
       "      <td>3</td>\n",
       "      <td>0</td>\n",
       "      <td>1910</td>\n",
       "      <td>1876000.000</td>\n",
       "      <td>1421085.492</td>\n",
       "    </tr>\n",
       "    <tr>\n",
       "      <th>14</th>\n",
       "      <td>107.000</td>\n",
       "      <td>2</td>\n",
       "      <td>2</td>\n",
       "      <td>1890</td>\n",
       "      <td>1636000.000</td>\n",
       "      <td>1152426.861</td>\n",
       "    </tr>\n",
       "    <tr>\n",
       "      <th>18</th>\n",
       "      <td>75.000</td>\n",
       "      <td>2</td>\n",
       "      <td>2</td>\n",
       "      <td>1900</td>\n",
       "      <td>1097000.000</td>\n",
       "      <td>1073144.407</td>\n",
       "    </tr>\n",
       "    <tr>\n",
       "      <th>24</th>\n",
       "      <td>190.000</td>\n",
       "      <td>3</td>\n",
       "      <td>2</td>\n",
       "      <td>2005</td>\n",
       "      <td>1350000.000</td>\n",
       "      <td>1150327.696</td>\n",
       "    </tr>\n",
       "    <tr>\n",
       "      <th>25</th>\n",
       "      <td>94.000</td>\n",
       "      <td>2</td>\n",
       "      <td>1</td>\n",
       "      <td>2009</td>\n",
       "      <td>750000.000</td>\n",
       "      <td>589915.422</td>\n",
       "    </tr>\n",
       "    <tr>\n",
       "      <th>30</th>\n",
       "      <td>97.000</td>\n",
       "      <td>2</td>\n",
       "      <td>2</td>\n",
       "      <td>1890</td>\n",
       "      <td>1310000.000</td>\n",
       "      <td>1140222.810</td>\n",
       "    </tr>\n",
       "    <tr>\n",
       "      <th>32</th>\n",
       "      <td>110.000</td>\n",
       "      <td>3</td>\n",
       "      <td>1</td>\n",
       "      <td>1880</td>\n",
       "      <td>1200000.000</td>\n",
       "      <td>1487648.690</td>\n",
       "    </tr>\n",
       "  </tbody>\n",
       "</table>\n",
       "</div>"
      ],
      "text/plain": [
       "    Area_Lote  dormitorios  paqueos  anio_construccion      Precio  Prediccion\n",
       "2      79.000            2        0               1900 1035000.000  942195.560\n",
       "4     150.000            3        0               1900 1465000.000 1388090.678\n",
       "6     142.000            4        2               2014 1600000.000 1414788.068\n",
       "11    210.000            3        0               1910 1876000.000 1421085.492\n",
       "14    107.000            2        2               1890 1636000.000 1152426.861\n",
       "18     75.000            2        2               1900 1097000.000 1073144.407\n",
       "24    190.000            3        2               2005 1350000.000 1150327.696\n",
       "25     94.000            2        1               2009  750000.000  589915.422\n",
       "30     97.000            2        2               1890 1310000.000 1140222.810\n",
       "32    110.000            3        1               1880 1200000.000 1487648.690"
      ]
     },
     "execution_count": 15,
     "metadata": {},
     "output_type": "execute_result"
    }
   ],
   "source": [
    "data_casas.head(10)"
   ]
  },
  {
   "cell_type": "code",
   "execution_count": null,
   "metadata": {},
   "outputs": [],
   "source": []
  }
 ],
 "metadata": {
  "kernelspec": {
   "display_name": "Python 3",
   "language": "python",
   "name": "python3"
  },
  "language_info": {
   "codemirror_mode": {
    "name": "ipython",
    "version": 3
   },
   "file_extension": ".py",
   "mimetype": "text/x-python",
   "name": "python",
   "nbconvert_exporter": "python",
   "pygments_lexer": "ipython3",
   "version": "3.6.4"
  }
 },
 "nbformat": 4,
 "nbformat_minor": 2
}
