{
 "cells": [
  {
   "cell_type": "markdown",
   "metadata": {},
   "source": [
    "# Proyecto\n",
    "\n",
    "\n",
    "En el proyecto vamos a utilizar un set de datos de tumores de seno para predecir si es benigno o maligno(cancerigeno o no). Este es un problema de clasificación binaria ya que solo tenemos dos clases, se va a implementar regresión logística y obtener la probabilidad de que el tumor sea maligno.\n",
    "\n",
    "<img src=\"images/ai_cancer.png\" width=\"300\">\n",
    "\n",
    "Según lo visto en la clase en este proyecto vamos a implementar los pasos del uno al cinco, vamos a exportar el modelo que será utilizado en el último paso por una aplicación móvil.\n",
    "\n",
    "\n",
    "<img src=\"images/diagrama.png\" width=\"700\">"
   ]
  },
  {
   "cell_type": "code",
   "execution_count": null,
   "metadata": {},
   "outputs": [],
   "source": [
    "from sklearn.datasets import load_breast_cancer\n",
    "from sklearn.model_selection import train_test_split\n",
    "from sklearn.linear_model import LogisticRegression\n",
    "import numpy as np\n",
    "from sklearn.utils import resample\n",
    "from sklearn.metrics import accuracy_score, confusion_matrix, precision_score, recall_score, f1_score\n",
    "import datetime\n",
    "import helper"
   ]
  },
  {
   "cell_type": "markdown",
   "metadata": {},
   "source": [
    "## Registro de Experimentos\n",
    "En machine learning y ciencia de datos es importante mantener un registro de los resultados de cada experimento y los parámetros que utilizamos en el experimento.\n",
    "En la siguiente celda Iniciamos la bitácora de experimentos, esta bitácora será almacenada en un archivo, esto nos permite cargar de nuevo los resultados si cerramos el notebook."
   ]
  },
  {
   "cell_type": "code",
   "execution_count": 2,
   "metadata": {},
   "outputs": [],
   "source": [
    "log_book = helper.load_log_book()"
   ]
  },
  {
   "cell_type": "markdown",
   "metadata": {},
   "source": [
    "## Carnet estudiante"
   ]
  },
  {
   "cell_type": "markdown",
   "metadata": {},
   "source": [
    " En una variable deben ingresar su numero de carnet, para que al exportar el modelo el archivo se llame `carnet+\"model.csv\"`"
   ]
  },
  {
   "cell_type": "code",
   "execution_count": 3,
   "metadata": {},
   "outputs": [],
   "source": [
    "carnet = \"200818835\""
   ]
  },
  {
   "cell_type": "markdown",
   "metadata": {},
   "source": [
    "## Breast Cancer Data Set\n",
    "[Link al set de datos](http://scikit-learn.org/stable/modules/generated/sklearn.datasets.load_breast_cancer.html#sklearn.datasets.load_breast_cancer)\n",
    "\n",
    "#### Data Set Information:\n",
    "\n",
    "Features are computed from a digitized image of a fine needle aspirate (FNA) of a breast mass. They describe characteristics of the cell nuclei present in the image. A few of the images can be found at [Web Link] \n",
    "\n",
    "Separating plane described above was obtained using Multisurface Method-Tree (MSM-T) [K. P. Bennett, \"Decision Tree Construction Via Linear Programming.\" Proceedings of the 4th Midwest Artificial Intelligence and Cognitive Science Society, pp. 97-101, 1992], a classification method which uses linear programming to construct a decision tree. Relevant features were selected using an exhaustive search in the space of 1-4 features and 1-3 separating planes. \n",
    "\n",
    "The actual linear program used to obtain the separating plane in the 3-dimensional space is that described in: [K. P. Bennett and O. L. Mangasarian: \"Robust Linear Programming Discrimination of Two Linearly Inseparable Sets\", Optimization Methods and Software 1, 1992, 23-34]. "
   ]
  },
  {
   "cell_type": "code",
   "execution_count": 4,
   "metadata": {},
   "outputs": [],
   "source": [
    "data = load_breast_cancer()"
   ]
  },
  {
   "cell_type": "markdown",
   "metadata": {},
   "source": [
    "Este es un problema de clasificacion binario por que que existen solo dos posibles valores(predecimos tumores cancerigenos de seno)"
   ]
  },
  {
   "cell_type": "code",
   "execution_count": 5,
   "metadata": {},
   "outputs": [
    {
     "data": {
      "text/plain": [
       "array(['malignant', 'benign'], dtype='<U9')"
      ]
     },
     "execution_count": 5,
     "metadata": {},
     "output_type": "execute_result"
    }
   ],
   "source": [
    "data.target_names"
   ]
  },
  {
   "cell_type": "markdown",
   "metadata": {},
   "source": [
    "El data set tiene varios features, por que debemos experimentar con diferentes features hasta obtener un buen resultado, en esta celda vamos a imprimir los nombres de las features.\n",
    "\n",
    "En este [link](https://goo.gl/U2Uwz2) podemos encontrar mas información sobre las features."
   ]
  },
  {
   "cell_type": "code",
   "execution_count": 6,
   "metadata": {},
   "outputs": [
    {
     "data": {
      "text/plain": [
       "array(['mean radius', 'mean texture', 'mean perimeter', 'mean area',\n",
       "       'mean smoothness', 'mean compactness', 'mean concavity',\n",
       "       'mean concave points', 'mean symmetry', 'mean fractal dimension',\n",
       "       'radius error', 'texture error', 'perimeter error', 'area error',\n",
       "       'smoothness error', 'compactness error', 'concavity error',\n",
       "       'concave points error', 'symmetry error',\n",
       "       'fractal dimension error', 'worst radius', 'worst texture',\n",
       "       'worst perimeter', 'worst area', 'worst smoothness',\n",
       "       'worst compactness', 'worst concavity', 'worst concave points',\n",
       "       'worst symmetry', 'worst fractal dimension'], dtype='<U23')"
      ]
     },
     "execution_count": 6,
     "metadata": {},
     "output_type": "execute_result"
    }
   ],
   "source": [
    "data.feature_names"
   ]
  },
  {
   "cell_type": "markdown",
   "metadata": {},
   "source": [
    "muestra de 5 labels"
   ]
  },
  {
   "cell_type": "code",
   "execution_count": 7,
   "metadata": {},
   "outputs": [
    {
     "data": {
      "text/plain": [
       "array([0, 0, 0, 0, 0])"
      ]
     },
     "execution_count": 7,
     "metadata": {},
     "output_type": "execute_result"
    }
   ],
   "source": [
    "data.target[0:5]"
   ]
  },
  {
   "cell_type": "markdown",
   "metadata": {},
   "source": [
    "las features para estos 5 casos"
   ]
  },
  {
   "cell_type": "code",
   "execution_count": 8,
   "metadata": {},
   "outputs": [
    {
     "data": {
      "text/plain": [
       "array([[1.799e+01, 1.038e+01, 1.228e+02, 1.001e+03, 1.184e-01, 2.776e-01,\n",
       "        3.001e-01, 1.471e-01, 2.419e-01, 7.871e-02, 1.095e+00, 9.053e-01,\n",
       "        8.589e+00, 1.534e+02, 6.399e-03, 4.904e-02, 5.373e-02, 1.587e-02,\n",
       "        3.003e-02, 6.193e-03, 2.538e+01, 1.733e+01, 1.846e+02, 2.019e+03,\n",
       "        1.622e-01, 6.656e-01, 7.119e-01, 2.654e-01, 4.601e-01, 1.189e-01],\n",
       "       [2.057e+01, 1.777e+01, 1.329e+02, 1.326e+03, 8.474e-02, 7.864e-02,\n",
       "        8.690e-02, 7.017e-02, 1.812e-01, 5.667e-02, 5.435e-01, 7.339e-01,\n",
       "        3.398e+00, 7.408e+01, 5.225e-03, 1.308e-02, 1.860e-02, 1.340e-02,\n",
       "        1.389e-02, 3.532e-03, 2.499e+01, 2.341e+01, 1.588e+02, 1.956e+03,\n",
       "        1.238e-01, 1.866e-01, 2.416e-01, 1.860e-01, 2.750e-01, 8.902e-02],\n",
       "       [1.969e+01, 2.125e+01, 1.300e+02, 1.203e+03, 1.096e-01, 1.599e-01,\n",
       "        1.974e-01, 1.279e-01, 2.069e-01, 5.999e-02, 7.456e-01, 7.869e-01,\n",
       "        4.585e+00, 9.403e+01, 6.150e-03, 4.006e-02, 3.832e-02, 2.058e-02,\n",
       "        2.250e-02, 4.571e-03, 2.357e+01, 2.553e+01, 1.525e+02, 1.709e+03,\n",
       "        1.444e-01, 4.245e-01, 4.504e-01, 2.430e-01, 3.613e-01, 8.758e-02],\n",
       "       [1.142e+01, 2.038e+01, 7.758e+01, 3.861e+02, 1.425e-01, 2.839e-01,\n",
       "        2.414e-01, 1.052e-01, 2.597e-01, 9.744e-02, 4.956e-01, 1.156e+00,\n",
       "        3.445e+00, 2.723e+01, 9.110e-03, 7.458e-02, 5.661e-02, 1.867e-02,\n",
       "        5.963e-02, 9.208e-03, 1.491e+01, 2.650e+01, 9.887e+01, 5.677e+02,\n",
       "        2.098e-01, 8.663e-01, 6.869e-01, 2.575e-01, 6.638e-01, 1.730e-01],\n",
       "       [2.029e+01, 1.434e+01, 1.351e+02, 1.297e+03, 1.003e-01, 1.328e-01,\n",
       "        1.980e-01, 1.043e-01, 1.809e-01, 5.883e-02, 7.572e-01, 7.813e-01,\n",
       "        5.438e+00, 9.444e+01, 1.149e-02, 2.461e-02, 5.688e-02, 1.885e-02,\n",
       "        1.756e-02, 5.115e-03, 2.254e+01, 1.667e+01, 1.522e+02, 1.575e+03,\n",
       "        1.374e-01, 2.050e-01, 4.000e-01, 1.625e-01, 2.364e-01, 7.678e-02]])"
      ]
     },
     "execution_count": 8,
     "metadata": {},
     "output_type": "execute_result"
    }
   ],
   "source": [
    "data.data[0:5,]"
   ]
  },
  {
   "cell_type": "markdown",
   "metadata": {},
   "source": [
    "# Implementacion de Regresion Logistica"
   ]
  },
  {
   "cell_type": "markdown",
   "metadata": {},
   "source": [
    "## Hipotesis\n",
    "\n",
    "Funcion Sigmoid:\n",
    "\n",
    "$sig(t) = {\\frac {1} {1 + e^{-t}}}$\n",
    "\n",
    "combinamos la función sigmoid/lógistica con esta hipótesis conocida tenemos la nueva hipótesis para clasificación con regresión lógistica:\n",
    "\n",
    "$z = \\theta_{0} + \\theta_{1}x_{1} + \\theta_{2}x_{2} + \\ldots + \\theta_{n}x_{n}$\n",
    "\n",
    "$g(z) = {\\frac {1} {1 + e^{-z}}}$\n",
    "\n",
    "** Hipótesis para clasificación con regresión logística: **\n",
    "\n",
    "$h_{\\theta}(x) = {\\frac {1} {1 + e^{-(\\theta_{0} + \\theta_{1}x_{1} + \\theta_{2}x_{2} + \\ldots + \\theta_{n}x_{n})}}}$"
   ]
  },
  {
   "cell_type": "code",
   "execution_count": 9,
   "metadata": {},
   "outputs": [],
   "source": [
    "## Sigmoid \n",
    "\n",
    "def sigmoid(z):\n",
    "    ### INICIO: TU CODIGO AQUI:  (~1 linea)###\n",
    "    s = \n",
    "    ### FIN ##\n",
    "    \n",
    "    return s"
   ]
  },
  {
   "cell_type": "code",
   "execution_count": 10,
   "metadata": {},
   "outputs": [
    {
     "name": "stdout",
     "output_type": "stream",
     "text": [
      "sigmoid(0) = 0.5\n",
      "sigmoid(9.2) = 0.9998989708060922\n"
     ]
    }
   ],
   "source": [
    "### Validando nuestra funcion sigmoid\n",
    "print (\"sigmoid(0) = \" + str(sigmoid(0)))\n",
    "print (\"sigmoid(9.2) = \" + str(sigmoid(9.2)))"
   ]
  },
  {
   "cell_type": "markdown",
   "metadata": {},
   "source": [
    "#### Resultados esperados\n",
    "\n",
    "**sigmoid(0)** = 0.5\n",
    "\n",
    "**sigmoid(9.2)** = 0.999898970806\n"
   ]
  },
  {
   "cell_type": "markdown",
   "metadata": {},
   "source": [
    "Implementado la funcion de hipótesis para clasificación con regresión logística\n",
    "\n",
    "** Hipótesis para clasificación con regresión logística: **\n",
    "\n",
    "$h_{\\theta}(x) = {\\frac {1} {1 + e^{-(\\theta_{0} + \\theta_{1}x_{1} + \\theta_{2}x_{2} + \\ldots + \\theta_{n}x_{n})}}}$"
   ]
  },
  {
   "cell_type": "code",
   "execution_count": 11,
   "metadata": {},
   "outputs": [],
   "source": [
    "def get_hipotesis(features, theta_values):\n",
    "    ## Calculo de la hipotesis de froma vectorizada ##\n",
    "    z = features.dot(theta_values)\n",
    "    \n",
    "    ### INICIO: TU CODIGO AQUI:  (~1 linea)###\n",
    "    h = \n",
    "    ### FIN ##\n",
    "    \n",
    "    return h"
   ]
  },
  {
   "cell_type": "markdown",
   "metadata": {},
   "source": [
    "## Costo\n",
    "\n",
    "$J(\\Theta) = - {\\frac {1}{m}}\\sum _{i=1}^{m} y \\log(h(x)) + (1-y)\\log(1-h(x))$\n",
    "\n",
    "Utiliza la funcion log de numpy, Ejemplo:\n",
    "`np.log(y)`"
   ]
  },
  {
   "cell_type": "code",
   "execution_count": 12,
   "metadata": {},
   "outputs": [],
   "source": [
    "def costo(X, theta_vector, y):\n",
    "    m = len(y)\n",
    "    \n",
    "    ### INICIO: TU CODIGO AQUI:  (~2 lineas)###\n",
    "    y_hat = \n",
    "    \n",
    "    costo = \n",
    "    ### FIN ##\n",
    "    \n",
    "    return costo"
   ]
  },
  {
   "cell_type": "markdown",
   "metadata": {},
   "source": [
    "## Accuracy Score\n",
    "\n",
    "Implementa la funcion de accuracy utlizando sklearn"
   ]
  },
  {
   "cell_type": "code",
   "execution_count": 13,
   "metadata": {},
   "outputs": [],
   "source": [
    "def accuracy(X, theta_vector, y):\n",
    "\n",
    "    hipotesis = get_hipotesis(X, theta_vector)\n",
    "    \n",
    "    # Convertimos el resultado probabilistico a deterministico (0 1)\n",
    "    y_pred = [1 if (y >= 0.5) else 0 for y in hipotesis ]\n",
    "    \n",
    "    ### INICIO: TU CODIGO AQUI:  (~1 linea)###\n",
    "    acc_score = \n",
    "    ### FIN ##\n",
    "    \n",
    "    return acc_score"
   ]
  },
  {
   "cell_type": "markdown",
   "metadata": {},
   "source": [
    "## F1 Score\n",
    "\n",
    "Implementa la funcion de f1_score utlizando sklearn"
   ]
  },
  {
   "cell_type": "code",
   "execution_count": 14,
   "metadata": {},
   "outputs": [],
   "source": [
    "def f1(X, theta_vector, y):\n",
    "\n",
    "    hipotesis = get_hipotesis(X, theta_vector)\n",
    "\n",
    "    # Convertimos el resultado probabilistico a deterministico (0 1)    \n",
    "    y_pred = [1 if (y >= 0.5) else 0 for y in hipotesis ]\n",
    "    \n",
    "    ## INICIO: TU CODIGO AQUI:  (~1 linea)###\n",
    "    f1 = \n",
    "    ### FIN ##\n",
    "    \n",
    "    return f1"
   ]
  },
  {
   "cell_type": "markdown",
   "metadata": {},
   "source": [
    "## Precision Score\n",
    "\n",
    "Implementa la funcion de f1_score utlizando sklearn"
   ]
  },
  {
   "cell_type": "code",
   "execution_count": 15,
   "metadata": {},
   "outputs": [],
   "source": [
    "def precision(X, theta_vector, y):\n",
    "\n",
    "    hipotesis = get_hipotesis(X, theta_vector)\n",
    "\n",
    "    # Convertimos el resultado probabilistico a deterministico (0 1)    \n",
    "    y_pred = [1 if (y >= 0.5) else 0 for y in hipotesis ]\n",
    "    \n",
    "    ## INICIO: TU CODIGO AQUI:  (~1 linea)###\n",
    "    precision = \n",
    "    ### FIN ##\n",
    "    \n",
    "    return precision"
   ]
  },
  {
   "cell_type": "markdown",
   "metadata": {},
   "source": [
    "## Recall Score\n",
    "\n",
    "Implementa la funcion de recall_score utlizando sklearn"
   ]
  },
  {
   "cell_type": "code",
   "execution_count": 16,
   "metadata": {},
   "outputs": [],
   "source": [
    "def recall(X, theta_vector, y):\n",
    "\n",
    "    hipotesis = get_hipotesis(X, theta_vector)\n",
    "\n",
    "    # Convertimos el resultado probabilistico a deterministico (0 1)    \n",
    "    y_pred = [1 if (y >= 0.5) else 0 for y in hipotesis ]\n",
    "    \n",
    "    ## INICIO: TU CODIGO AQUI:  (~1 linea)###\n",
    "    reacall = \n",
    "    ### FIN ##\n",
    "    \n",
    "    return recall"
   ]
  },
  {
   "cell_type": "markdown",
   "metadata": {},
   "source": [
    "### Estandarización o Z-score Normalizacion \n",
    "\n",
    "El objetivo es cambiar la escala de las features a modo que tengan las propiedades de una distribución estadar normal. Se calcula de la siguiente manera:\n",
    "\n",
    "$z = {\\frac {x - \\mu} {\\sigma}}$\n",
    "\n",
    "Donde $\\mu$ es la media y $\\sigma$ es la desviacion estandard\n",
    "\n",
    "Implementa la funcion de normalizacion sin utlizar sklearn solo puedes utilizar numpy.\n",
    "\n",
    "Para utilizar la columna de features, utilizamos `features[:,i]`"
   ]
  },
  {
   "cell_type": "code",
   "execution_count": 17,
   "metadata": {},
   "outputs": [],
   "source": [
    "def normalizar(features):\n",
    "    std = 1\n",
    "    media = 0\n",
    "    \n",
    "    # Utilizamos el ciclo, para normalizar cada feature(una iteracion por feature)\n",
    "    for i in list(range(0, features.shape[1])):\n",
    "        ### INICIO: TU CODIGO AQUI:  (~3 lineas)###\n",
    "        std = \n",
    "        media = \n",
    "        features[:,i] = \n",
    "        ### FIN ##\n",
    "    return features"
   ]
  },
  {
   "cell_type": "markdown",
   "metadata": {},
   "source": [
    "## Prediccion\n",
    "\n",
    "Esta función la vamos a utilizar para predecir con nuestro test set, no hay que cambiar nada del código, solo ejecuta la celda."
   ]
  },
  {
   "cell_type": "code",
   "execution_count": 18,
   "metadata": {},
   "outputs": [],
   "source": [
    "def prediccion(x, theta_vector, normalizar_valores):\n",
    "    numero_features = x.shape[1] + 1\n",
    "    \n",
    "    if (normalizar_valores):\n",
    "        x = normalizar(x)\n",
    "    \n",
    "    x_features = np.ones((x.shape[0], numero_features))\n",
    "    x_features[:,:-1] = x\n",
    "\n",
    "    \n",
    "    y_hat = get_hipotesis(x_features, theta_vector)\n",
    "    \n",
    "    return np.array([1 if (y >= 0.5) else 0 for y in y_hat])"
   ]
  },
  {
   "cell_type": "markdown",
   "metadata": {
    "collapsed": true
   },
   "source": [
    "## Gradient Descent\n",
    "\n",
    "Repetir{\n",
    "\n",
    "$\\theta_{j} := \\theta _{j} - \\alpha {\\frac {1}{m}} \\sum _{i=1}^{m}(h_{\\theta}(x^{(i)})-y^{(i)})x^{(i)}_{j}$\n",
    "\n",
    "}\n",
    "        \n",
    "Simultaneamente para cada $j = 0,\\ldots,n $"
   ]
  },
  {
   "cell_type": "code",
   "execution_count": 19,
   "metadata": {},
   "outputs": [],
   "source": [
    "def gradient_descent(X, y, theta_vector, alpha, iterations, X_test, y_test, nombre_modelo):\n",
    "    global log_book\n",
    "    m = len(y) \n",
    "\n",
    "    ## Cost vector\n",
    "    cost_vect = []\n",
    "    accuracy_vect = []\n",
    "    accuracy_vect_test = []\n",
    "    \n",
    "    for iteration in range(iterations):\n",
    "        '''\n",
    "        IMPLELEMTA TU CODIGO AQUI, llama a la funcion para calcular la hipotesis\n",
    "        que se implemento mas arriba. Parametros matriz de features X y el vector\n",
    "        con los valores Theta (~1 linea)\n",
    "        '''\n",
    "        hipotesis = \n",
    "\n",
    "\n",
    "        theta_vector_temp = []\n",
    "        for i, theta in enumerate(theta_vector):\n",
    "            '''\n",
    "            IMPLELEMTA TU CODIGO AQUI, adentro de este ciclo vamos a calcular\n",
    "            elnuevo valor de Theta[i], utilizando la formula de la celda de arriba\n",
    "            Recuerda que para multiplicar por utilizamos X[:,i]  (~1 linea)\n",
    "            '''\n",
    "            nuevo_theta =  \n",
    "\n",
    "            ### aqui agregamos el nuevo valor the theta[i] a un vector temporal\n",
    "            theta_vector_temp.append(nuevo_theta)\n",
    "\n",
    "\n",
    "        ## Actualizamos el vector theta con los nuevos valores\n",
    "        theta_vector = theta_vector_temp\n",
    "\n",
    "        '''\n",
    "        IMPLELEMTA TU CODIGO AQUI, llama a la funcion de costo (~1 linea)\n",
    "        '''\n",
    "        cost = \n",
    "        \n",
    "        '''\n",
    "        IMPLELEMTA TU CODIGO AQUI, utiliza Accuracy que se definio arriba (~1 linea)\n",
    "        '''\n",
    "        acc_score = \n",
    "        \n",
    "        '''\n",
    "        IMPLELEMTA TU CODIGO AQUI, utiliza f1 score que se definio arriba (~1 linea)\n",
    "        '''\n",
    "        f1_training = \n",
    "\n",
    "        '''\n",
    "        IMPLELEMTA TU CODIGO AQUI, utiliza precision score que se definio arriba (~1 linea)\n",
    "        '''\n",
    "        precision_training = \n",
    "        \n",
    "        '''\n",
    "        IMPLELEMTA TU CODIGO AQUI, utiliza recal score que se definio arriba (~1 linea)\n",
    "        '''\n",
    "        recall_training = \n",
    "        \n",
    "        \n",
    "        ## Test Set score, este codigo no hay que cambiarlo ####\n",
    "        y_predict = prediccion(X_test, theta_vector, True)\n",
    "        acc_test = accuracy_score(y_predict, y_test)\n",
    "        accuracy_vect_test.append(acc_test)\n",
    "        f1_score_test = f1_score(y_predict, y_test)\n",
    "        precision_test = precision_score(y_test, y_predict)\n",
    "        recall_test = recall_score(y_test, y_predict)\n",
    "        \n",
    "        ## Guardando el valor del costo para graficarlo, este codigo no hay que cambiarlo ##\n",
    "        cost_vect.append(cost)\n",
    "        accuracy_vect.append(acc_score)\n",
    "        \n",
    "        n = 50 ### Ingresa aqui cada cuantas iteraciones quieres que se imprima el valor de las metricas ###\n",
    "        \n",
    "        ## Este codigo no hay que modificarlo ##\n",
    "        if(iteration % n == 0):\n",
    "            print('#####################')\n",
    "            print('TRAINING: [Iteracion: ', iteration,' Costo: ', cost, \\\n",
    "                  ' Accuracy:', acc_score,' F1 Score:',f1_training, \\\n",
    "                  'Precision training:', precision_training, 'Recall training:', recall_training,']')\n",
    "            print('TEST: [Iteracion: ', iteration,'Accuracy:', acc_test, \\\n",
    "                  ' F1 Score:', f1_score_test, 'Precision Test:', precision_test,'Recall Test:', recall_test,']')\n",
    "        \n",
    "    ## Log book, este codigo no hay que cambiarlo ##\n",
    "    nombre_modelo = nombre_modelo + '_'+datetime.datetime.now().strftime(\"%d%H%M%f\")\n",
    "    numero_features = X.shape[1] - 1\n",
    "    experiment = np.array([nombre_modelo, numero_features, m, alpha, iterations, accuracy_vect[-1], \\\n",
    "                           accuracy_vect_test[-1], f1_score_test, precision_test, \\\n",
    "                           recall_test,theta_vector], dtype=object)\n",
    "    log_book = np.vstack([log_book, experiment])\n",
    "        \n",
    "    return theta_vector, cost_vect, accuracy_vect,accuracy_vect_test\n"
   ]
  },
  {
   "cell_type": "markdown",
   "metadata": {},
   "source": [
    "## Dividimos la data en training y test set"
   ]
  },
  {
   "cell_type": "code",
   "execution_count": 20,
   "metadata": {},
   "outputs": [],
   "source": [
    "X_train, X_test, y_train, y_test = train_test_split(data.data, data.target, stratify=data.target, random_state=42)"
   ]
  },
  {
   "cell_type": "code",
   "execution_count": 21,
   "metadata": {},
   "outputs": [
    {
     "data": {
      "text/plain": [
       "(426, 30)"
      ]
     },
     "execution_count": 21,
     "metadata": {},
     "output_type": "execute_result"
    }
   ],
   "source": [
    "X_train.shape"
   ]
  },
  {
   "cell_type": "markdown",
   "metadata": {},
   "source": [
    "# Entrenamiento\n",
    "\n",
    "A continuación vamos a entrenar 5 modelos, vamos a utilizar las funciones que creamos en en notebook.\n",
    "Es importante experimentar con diferentes features, en este proyecto como maximo vamos a utilizar 5 features. Tambien vamos a utilizar difertene numero de ejemplos en el set de datos, diferente numero de iteraciones y diferente learning rate.\n",
    "\n",
    "En este proyecto solo vamos a utilizar las primeras 5 features  en este orden:\n",
    "\n",
    "`['mean radius', 'mean texture', 'mean perimeter', 'mean area','mean smoothness']`\n",
    "\n",
    "Se utilizaran únicamente estas features en ese orden para el modelo que vamos a exportar, ya que estas features son las entradas de datos en interfaz de la aplicación que consumirá nuestro modelo. \n",
    "\n",
    "En algunos modelos podemos experimentar y utilizar mas de cinco features, pero es importante tomar en cuenta que el que se va a exportar tenga las cinco features de la lista.\n",
    "\n",
    "El entrenamiento se compone básicamente de tres pasos, sampleo bootstrap, escoger las features y ejecutar el entrenamiento llamando a la función de gradient descent. \n",
    "En el primer paso vamos a utilizar la función resample para hacer un sampleo del set de datos de entrenamiento, debemos definir el numero de samples que queremos utilizar.\n",
    "En el segundo paso, en un arreglo vamos a definir el nombre de las features que queremos utilizar para entrenar el modelo.\n",
    "En el tercer paso ejecutamos la función gradient descent.\n",
    "\n",
    "Por ultimo vamos a obtener el accuracy del modelo y vamos a imprimir la matriz de confusión, imprimiremos el precisión y el recall del modelo para entender mejor los resultados y tener una mejor idea de que tan bien clasifica nuestro modelo."
   ]
  },
  {
   "cell_type": "markdown",
   "metadata": {},
   "source": [
    "## Entrenamiento modelo 1"
   ]
  },
  {
   "cell_type": "markdown",
   "metadata": {},
   "source": [
    "#### Sampleo bootstrap"
   ]
  },
  {
   "cell_type": "code",
   "execution_count": 22,
   "metadata": {},
   "outputs": [],
   "source": [
    "X_train_m1, Y_train_m1 = resample(X_train, y_train, n_samples = 150)"
   ]
  },
  {
   "cell_type": "markdown",
   "metadata": {},
   "source": [
    "### Filtrar Features\n",
    "Solo seleccionar los features"
   ]
  },
  {
   "cell_type": "code",
   "execution_count": 23,
   "metadata": {},
   "outputs": [],
   "source": [
    "'''\n",
    "Ingresa en la lista el nombre de las fatrues que quieres utlizar en este modelo (~1 linea)\n",
    "'''\n",
    "features_filtro = ['mean radius', 'mean smoothness']"
   ]
  },
  {
   "cell_type": "code",
   "execution_count": 24,
   "metadata": {},
   "outputs": [],
   "source": [
    "X_train_m1 = helper.fitrar_nombre(X_train_m1,data.feature_names,features_filtro)\n",
    "X_test_features = helper.fitrar_nombre(X_test,data.feature_names,features_filtro)"
   ]
  },
  {
   "cell_type": "code",
   "execution_count": 25,
   "metadata": {},
   "outputs": [
    {
     "data": {
      "text/plain": [
       "(150, 2)"
      ]
     },
     "execution_count": 25,
     "metadata": {},
     "output_type": "execute_result"
    }
   ],
   "source": [
    "X_train_m1.shape"
   ]
  },
  {
   "cell_type": "code",
   "execution_count": 26,
   "metadata": {},
   "outputs": [
    {
     "data": {
      "text/plain": [
       "(143, 2)"
      ]
     },
     "execution_count": 26,
     "metadata": {},
     "output_type": "execute_result"
    }
   ],
   "source": [
    "X_test_features.shape"
   ]
  },
  {
   "cell_type": "code",
   "execution_count": 27,
   "metadata": {},
   "outputs": [],
   "source": [
    "## Numero de iteracions ##\n",
    "iterations = 500  # Define el numero de iteraciones #\n",
    "\n",
    "## Alpha ##\n",
    "alpha = 0.01 # Define el valor de alpha #\n",
    "\n",
    "#### No hay que cambiar el codigo despues de esta linea #####\n",
    "## Numero de feautres ##\n",
    "numero_features = X_train_m1.shape[1] + 1\n",
    "\n",
    "## Creamos un vector donde se almacenan los valores de Theta,\n",
    "## lo inicializamos con numeros aleatorios\n",
    "theta_vector = np.random.rand(numero_features)\n",
    "\n",
    "## Normaliza las features de X_train_features (~1 linea) ##\n",
    "X_train_m1 = \n",
    "\n",
    "# Creando la Matriz X de features, \n",
    "# utilizamos np.ones para agregar el valor constante '1' que es el bias o feature 0\n",
    "X_train_features = np.ones((X_train_m1.shape[0], numero_features))\n",
    "X_train_features[:,:-1] = X_train_m1"
   ]
  },
  {
   "cell_type": "code",
   "execution_count": 28,
   "metadata": {},
   "outputs": [
    {
     "name": "stdout",
     "output_type": "stream",
     "text": [
      "#####################\n",
      "TRAINING: [Iteracion:  0  Costo:  1.0589882133843296  Accuracy: 0.5333333333333333  F1 Score: 0.6956521739130435 Precision training: 0.5555555555555556 Recall training: <function recall at 0x1136a5158> ]\n",
      "TEST: [Iteracion:  0 Accuracy: 0.5664335664335665  F1 Score: 0.7232142857142857 Precision Test: 0.6044776119402985 Recall Test: 0.9 ]\n",
      "#####################\n",
      "TRAINING: [Iteracion:  50  Costo:  0.9168194674841474  Accuracy: 0.5733333333333334  F1 Score: 0.728813559322034 Precision training: 0.5733333333333334 Recall training: <function recall at 0x1136a5158> ]\n",
      "TEST: [Iteracion:  50 Accuracy: 0.6223776223776224  F1 Score: 0.7672413793103449 Precision Test: 0.6267605633802817 Recall Test: 0.9888888888888889 ]\n",
      "#####################\n",
      "TRAINING: [Iteracion:  100  Costo:  0.797088326073779  Accuracy: 0.5733333333333334  F1 Score: 0.728813559322034 Precision training: 0.5733333333333334 Recall training: <function recall at 0x1136a5158> ]\n",
      "TEST: [Iteracion:  100 Accuracy: 0.6293706293706294  F1 Score: 0.7725321888412017 Precision Test: 0.6293706293706294 Recall Test: 1.0 ]\n",
      "#####################\n",
      "TRAINING: [Iteracion:  150  Costo:  0.6998605684529271  Accuracy: 0.5733333333333334  F1 Score: 0.728813559322034 Precision training: 0.5733333333333334 Recall training: <function recall at 0x1136a5158> ]\n",
      "TEST: [Iteracion:  150 Accuracy: 0.6293706293706294  F1 Score: 0.7725321888412017 Precision Test: 0.6293706293706294 Recall Test: 1.0 ]\n",
      "#####################\n",
      "TRAINING: [Iteracion:  200  Costo:  0.6233170865310156  Accuracy: 0.58  F1 Score: 0.7319148936170213 Precision training: 0.5771812080536913 Recall training: <function recall at 0x1136a5158> ]\n",
      "TEST: [Iteracion:  200 Accuracy: 0.6363636363636364  F1 Score: 0.7758620689655172 Precision Test: 0.6338028169014085 Recall Test: 1.0 ]\n",
      "#####################\n",
      "TRAINING: [Iteracion:  250  Costo:  0.5640279448411779  Accuracy: 0.64  F1 Score: 0.7610619469026549 Precision training: 0.6142857142857143 Recall training: <function recall at 0x1136a5158> ]\n",
      "TEST: [Iteracion:  250 Accuracy: 0.6783216783216783  F1 Score: 0.7964601769911505 Precision Test: 0.6617647058823529 Recall Test: 1.0 ]\n",
      "#####################\n",
      "TRAINING: [Iteracion:  300  Costo:  0.5180995169158429  Accuracy: 0.7466666666666667  F1 Score: 0.8190476190476191 Precision training: 0.6935483870967742 Recall training: <function recall at 0x1136a5158> ]\n",
      "TEST: [Iteracion:  300 Accuracy: 0.7272727272727273  F1 Score: 0.8202764976958524 Precision Test: 0.7007874015748031 Recall Test: 0.9888888888888889 ]\n",
      "#####################\n",
      "TRAINING: [Iteracion:  350  Costo:  0.48211279807158375  Accuracy: 0.7933333333333333  F1 Score: 0.8472906403940887 Precision training: 0.7350427350427351 Recall training: <function recall at 0x1136a5158> ]\n",
      "TEST: [Iteracion:  350 Accuracy: 0.8111888111888111  F1 Score: 0.8682926829268293 Precision Test: 0.7739130434782608 Recall Test: 0.9888888888888889 ]\n",
      "#####################\n",
      "TRAINING: [Iteracion:  400  Costo:  0.45343848408374327  Accuracy: 0.8133333333333334  F1 Score: 0.86 Precision training: 0.7543859649122807 Recall training: <function recall at 0x1136a5158> ]\n",
      "TEST: [Iteracion:  400 Accuracy: 0.8321678321678322  F1 Score: 0.8787878787878789 Precision Test: 0.8055555555555556 Recall Test: 0.9666666666666667 ]\n",
      "#####################\n",
      "TRAINING: [Iteracion:  450  Costo:  0.43017192095393  Accuracy: 0.82  F1 Score: 0.8643216080402011 Precision training: 0.7610619469026548 Recall training: <function recall at 0x1136a5158> ]\n",
      "TEST: [Iteracion:  450 Accuracy: 0.8671328671328671  F1 Score: 0.9015544041450777 Precision Test: 0.8446601941747572 Recall Test: 0.9666666666666667 ]\n"
     ]
    },
    {
     "data": {
      "image/png": "[encoded data removed]",
      "text/plain": [
       "<matplotlib.figure.Figure at 0x113689cc0>"
      ]
     },
     "metadata": {},
     "output_type": "display_data"
    }
   ],
   "source": [
    "modelo_1_theta_values, cost_vect, acc_vect, acc_vect_test = \\\n",
    "gradient_descent(X_train_features, Y_train_m1, theta_vector, alpha, iterations, X_test_features, y_test, 'modelo_1')"
   ]
  },
  {
   "cell_type": "code",
   "execution_count": null,
   "metadata": {},
   "outputs": [],
   "source": [
    "## Funcion para graficar el costo y  accuracy durante cada iteracion ##\n",
    "helper.training_graph(cost_vect, acc_vect, acc_vect_test)"
   ]
  },
  {
   "cell_type": "markdown",
   "metadata": {},
   "source": [
    "### Accuracy y Matriz de confusion Training Set\n",
    "\n",
    "![alt text](https://rasbt.github.io/mlxtend/user_guide/evaluate/confusion_matrix_files/confusion_matrix_1.png)"
   ]
  },
  {
   "cell_type": "code",
   "execution_count": 29,
   "metadata": {},
   "outputs": [
    {
     "name": "stdout",
     "output_type": "stream",
     "text": [
      "Accuracy: 84.66666666666667 %\n",
      "\n",
      "Matriz de confusion\n"
     ]
    },
    {
     "data": {
      "text/plain": [
       "array([[41, 23],\n",
       "       [ 0, 86]])"
      ]
     },
     "execution_count": 29,
     "metadata": {},
     "output_type": "execute_result"
    }
   ],
   "source": [
    "y_hat = get_hipotesis(X_train_features, modelo_1_theta_values)\n",
    "y_predict = np.array([1 if (y > 0.5) else 0 for y in y_hat])\n",
    "\n",
    "print('Accuracy:', accuracy_score(Y_train_m1,y_predict) * 100 ,'%')\n",
    "print()\n",
    "print('Matriz de confusion')\n",
    "confusion_matrix(Y_train_m1, y_predict )"
   ]
  },
  {
   "cell_type": "markdown",
   "metadata": {},
   "source": [
    "#### Accuracy con el Test set"
   ]
  },
  {
   "cell_type": "code",
   "execution_count": 30,
   "metadata": {},
   "outputs": [],
   "source": [
    "y_predict = prediccion(X_test_features, modelo_1_theta_values, True)"
   ]
  },
  {
   "cell_type": "code",
   "execution_count": 31,
   "metadata": {},
   "outputs": [
    {
     "name": "stdout",
     "output_type": "stream",
     "text": [
      "Accuracy: 86.7132867132867 %\n"
     ]
    }
   ],
   "source": [
    "print('Accuracy:',accuracy_score(y_test, y_predict)* 100 ,'%')"
   ]
  },
  {
   "cell_type": "markdown",
   "metadata": {},
   "source": [
    "#### Matriz de confusion Test Set"
   ]
  },
  {
   "cell_type": "code",
   "execution_count": 32,
   "metadata": {},
   "outputs": [
    {
     "data": {
      "text/plain": [
       "array([[37, 16],\n",
       "       [ 3, 87]])"
      ]
     },
     "execution_count": 32,
     "metadata": {},
     "output_type": "execute_result"
    }
   ],
   "source": [
    "confusion_matrix(y_test, y_predict)"
   ]
  },
  {
   "cell_type": "code",
   "execution_count": 33,
   "metadata": {},
   "outputs": [
    {
     "name": "stdout",
     "output_type": "stream",
     "text": [
      "precision:  0.8446601941747572\n",
      "recall:  0.9666666666666667\n"
     ]
    }
   ],
   "source": [
    "print('precision: ',precision_score(y_test, y_predict))\n",
    "\n",
    "print('recall: ', recall_score(y_test, y_predict))"
   ]
  },
  {
   "cell_type": "markdown",
   "metadata": {},
   "source": [
    "## Entrenamiento modelo 2"
   ]
  },
  {
   "cell_type": "markdown",
   "metadata": {},
   "source": [
    "#### Sampleo bootstrap"
   ]
  },
  {
   "cell_type": "code",
   "execution_count": 34,
   "metadata": {},
   "outputs": [],
   "source": [
    "'''\n",
    "Ingresa en la lista el nombre de las fatrues que quieres utlizar en este modelo (~1 linea)\n",
    "'''\n",
    "X_train_m2, Y_train_m2 = resample(X_train, y_train, n_samples = 400)"
   ]
  },
  {
   "cell_type": "markdown",
   "metadata": {},
   "source": [
    "### Filtrar Features\n",
    "Solo seleccionar los features"
   ]
  },
  {
   "cell_type": "code",
   "execution_count": 35,
   "metadata": {},
   "outputs": [],
   "source": [
    "features_filtro = ['mean perimeter', 'mean area','mean smoothness']"
   ]
  },
  {
   "cell_type": "code",
   "execution_count": 36,
   "metadata": {},
   "outputs": [],
   "source": [
    "X_train_m2 = helper.fitrar_nombre(X_train_m2,data.feature_names,features_filtro)\n",
    "X_test_features = helper.fitrar_nombre(X_test,data.feature_names,features_filtro)"
   ]
  },
  {
   "cell_type": "code",
   "execution_count": 37,
   "metadata": {},
   "outputs": [],
   "source": [
    "## Numero de iteracions ##\n",
    "iterations = 1000  # Define el numero de iteraciones #\n",
    "\n",
    "## Alpha ##\n",
    "alpha = 0.05 # Define el valor de alpha #\n",
    "\n",
    "#### No hay que cambiar el codigo despues de esta linea #####\n",
    "## Numero de feautres ##\n",
    "numero_features = X_train_m2.shape[1] + 1\n",
    "\n",
    "## Creamos un vector donde se almacenan los valores de Theta,\n",
    "## lo inicializamos con numeros aleatorios\n",
    "theta_vector = np.random.rand(numero_features)\n",
    "\n",
    "## Normaliza las features de X_train_features (~1 linea) ##\n",
    "X_train_m2 = \n",
    "\n",
    "# Creando la Matriz X de features, \n",
    "# utilizamos np.ones para agregar el valor constante '1' que es el bias o feature 0\n",
    "X_train_features = np.ones((X_train_m2.shape[0], numero_features))\n",
    "X_train_features[:,:-1] = X_train_m2"
   ]
  },
  {
   "cell_type": "code",
   "execution_count": 38,
   "metadata": {},
   "outputs": [
    {
     "name": "stdout",
     "output_type": "stream",
     "text": [
      "#####################\n",
      "TRAINING: [Iteracion:  0  Costo:  1.3222912170099925  Accuracy: 0.2025  F1 Score: 0.3312368972746331 Precision training: 0.3798076923076923 Recall training: <function recall at 0x1136a5158> ]\n",
      "TEST: [Iteracion:  0 Accuracy: 0.25874125874125875  F1 Score: 0.40449438202247195 Precision Test: 0.4090909090909091 Recall Test: 0.4 ]\n",
      "#####################\n",
      "TRAINING: [Iteracion:  50  Costo:  0.45549861830303295  Accuracy: 0.82  F1 Score: 0.881578947368421 Precision training: 0.7905604719764012 Recall training: <function recall at 0x1136a5158> ]\n",
      "TEST: [Iteracion:  50 Accuracy: 0.7972027972027972  F1 Score: 0.8612440191387559 Precision Test: 0.7563025210084033 Recall Test: 1.0 ]\n",
      "#####################\n",
      "TRAINING: [Iteracion:  100  Costo:  0.32082690367146877  Accuracy: 0.91  F1 Score: 0.9368421052631578 Precision training: 0.8870431893687708 Recall training: <function recall at 0x1136a5158> ]\n",
      "TEST: [Iteracion:  100 Accuracy: 0.8881118881118881  F1 Score: 0.9183673469387755 Precision Test: 0.8490566037735849 Recall Test: 1.0 ]\n",
      "#####################\n",
      "TRAINING: [Iteracion:  150  Costo:  0.27241202329478875  Accuracy: 0.9125  F1 Score: 0.9380530973451328 Precision training: 0.8952702702702703 Recall training: <function recall at 0x1136a5158> ]\n",
      "TEST: [Iteracion:  150 Accuracy: 0.8741258741258742  F1 Score: 0.9072164948453608 Precision Test: 0.8461538461538461 Recall Test: 0.9777777777777777 ]\n",
      "#####################\n",
      "TRAINING: [Iteracion:  200  Costo:  0.2469542155540227  Accuracy: 0.91  F1 Score: 0.9359430604982207 Precision training: 0.8976109215017065 Recall training: <function recall at 0x1136a5158> ]\n",
      "TEST: [Iteracion:  200 Accuracy: 0.8811188811188811  F1 Score: 0.9109947643979057 Precision Test: 0.8613861386138614 Recall Test: 0.9666666666666667 ]\n",
      "#####################\n",
      "TRAINING: [Iteracion:  250  Costo:  0.23118696546690223  Accuracy: 0.915  F1 Score: 0.939068100358423 Precision training: 0.9065743944636678 Recall training: <function recall at 0x1136a5158> ]\n",
      "TEST: [Iteracion:  250 Accuracy: 0.8741258741258742  F1 Score: 0.9052631578947369 Precision Test: 0.86 Recall Test: 0.9555555555555556 ]\n",
      "#####################\n",
      "TRAINING: [Iteracion:  300  Costo:  0.2204749744564271  Accuracy: 0.91  F1 Score: 0.935251798561151 Precision training: 0.9059233449477352 Recall training: <function recall at 0x1136a5158> ]\n",
      "TEST: [Iteracion:  300 Accuracy: 0.8671328671328671  F1 Score: 0.8994708994708994 Precision Test: 0.8585858585858586 Recall Test: 0.9444444444444444 ]\n",
      "#####################\n",
      "TRAINING: [Iteracion:  350  Costo:  0.2127486117508713  Accuracy: 0.9125  F1 Score: 0.9369369369369368 Precision training: 0.9090909090909091 Recall training: <function recall at 0x1136a5158> ]\n",
      "TEST: [Iteracion:  350 Accuracy: 0.8671328671328671  F1 Score: 0.8994708994708994 Precision Test: 0.8585858585858586 Recall Test: 0.9444444444444444 ]\n",
      "#####################\n",
      "TRAINING: [Iteracion:  400  Costo:  0.20693667457847215  Accuracy: 0.915  F1 Score: 0.9386281588447652 Precision training: 0.9122807017543859 Recall training: <function recall at 0x1136a5158> ]\n",
      "TEST: [Iteracion:  400 Accuracy: 0.8671328671328671  F1 Score: 0.8994708994708994 Precision Test: 0.8585858585858586 Recall Test: 0.9444444444444444 ]\n",
      "#####################\n",
      "TRAINING: [Iteracion:  450  Costo:  0.2024264844644663  Accuracy: 0.915  F1 Score: 0.9386281588447652 Precision training: 0.9122807017543859 Recall training: <function recall at 0x1136a5158> ]\n",
      "TEST: [Iteracion:  450 Accuracy: 0.8671328671328671  F1 Score: 0.8994708994708994 Precision Test: 0.8585858585858586 Recall Test: 0.9444444444444444 ]\n",
      "#####################\n",
      "TRAINING: [Iteracion:  500  Costo:  0.19884130328976396  Accuracy: 0.9125  F1 Score: 0.9367088607594936 Precision training: 0.9119718309859155 Recall training: <function recall at 0x1136a5158> ]\n",
      "TEST: [Iteracion:  500 Accuracy: 0.8671328671328671  F1 Score: 0.8994708994708994 Precision Test: 0.8585858585858586 Recall Test: 0.9444444444444444 ]\n",
      "#####################\n",
      "TRAINING: [Iteracion:  550  Costo:  0.19593636915209509  Accuracy: 0.915  F1 Score: 0.9384057971014492 Precision training: 0.9151943462897526 Recall training: <function recall at 0x1136a5158> ]\n",
      "TEST: [Iteracion:  550 Accuracy: 0.8741258741258742  F1 Score: 0.9042553191489361 Precision Test: 0.8673469387755102 Recall Test: 0.9444444444444444 ]\n",
      "#####################\n",
      "TRAINING: [Iteracion:  600  Costo:  0.1935456288297656  Accuracy: 0.9175  F1 Score: 0.9401088929219601 Precision training: 0.9184397163120568 Recall training: <function recall at 0x1136a5158> ]\n",
      "TEST: [Iteracion:  600 Accuracy: 0.8811188811188811  F1 Score: 0.9090909090909091 Precision Test: 0.8762886597938144 Recall Test: 0.9444444444444444 ]\n",
      "#####################\n",
      "TRAINING: [Iteracion:  650  Costo:  0.19155241822314165  Accuracy: 0.9175  F1 Score: 0.9401088929219601 Precision training: 0.9184397163120568 Recall training: <function recall at 0x1136a5158> ]\n",
      "TEST: [Iteracion:  650 Accuracy: 0.8881118881118881  F1 Score: 0.9139784946236558 Precision Test: 0.8854166666666666 Recall Test: 0.9444444444444444 ]\n",
      "#####################\n",
      "TRAINING: [Iteracion:  700  Costo:  0.18987237343318994  Accuracy: 0.9275  F1 Score: 0.9469835466179158 Precision training: 0.9316546762589928 Recall training: <function recall at 0x1136a5158> ]\n",
      "TEST: [Iteracion:  700 Accuracy: 0.8951048951048951  F1 Score: 0.918918918918919 Precision Test: 0.8947368421052632 Recall Test: 0.9444444444444444 ]\n",
      "#####################\n",
      "TRAINING: [Iteracion:  750  Costo:  0.18844299262819827  Accuracy: 0.925  F1 Score: 0.9450549450549449 Precision training: 0.9314079422382672 Recall training: <function recall at 0x1136a5158> ]\n",
      "TEST: [Iteracion:  750 Accuracy: 0.8951048951048951  F1 Score: 0.918918918918919 Precision Test: 0.8947368421052632 Recall Test: 0.9444444444444444 ]\n",
      "#####################\n",
      "TRAINING: [Iteracion:  800  Costo:  0.18721700607057187  Accuracy: 0.925  F1 Score: 0.9450549450549449 Precision training: 0.9314079422382672 Recall training: <function recall at 0x1136a5158> ]\n",
      "TEST: [Iteracion:  800 Accuracy: 0.8951048951048951  F1 Score: 0.918918918918919 Precision Test: 0.8947368421052632 Recall Test: 0.9444444444444444 ]\n",
      "#####################\n",
      "TRAINING: [Iteracion:  850  Costo:  0.18615802306942109  Accuracy: 0.925  F1 Score: 0.9450549450549449 Precision training: 0.9314079422382672 Recall training: <function recall at 0x1136a5158> ]\n",
      "TEST: [Iteracion:  850 Accuracy: 0.8951048951048951  F1 Score: 0.918918918918919 Precision Test: 0.8947368421052632 Recall Test: 0.9444444444444444 ]\n",
      "#####################\n",
      "TRAINING: [Iteracion:  900  Costo:  0.18523759138649923  Accuracy: 0.925  F1 Score: 0.9450549450549449 Precision training: 0.9314079422382672 Recall training: <function recall at 0x1136a5158> ]\n",
      "TEST: [Iteracion:  900 Accuracy: 0.8951048951048951  F1 Score: 0.918918918918919 Precision Test: 0.8947368421052632 Recall Test: 0.9444444444444444 ]\n",
      "#####################\n",
      "TRAINING: [Iteracion:  950  Costo:  0.18443316108443134  Accuracy: 0.925  F1 Score: 0.9450549450549449 Precision training: 0.9314079422382672 Recall training: <function recall at 0x1136a5158> ]\n",
      "TEST: [Iteracion:  950 Accuracy: 0.8881118881118881  F1 Score: 0.9130434782608695 Precision Test: 0.8936170212765957 Recall Test: 0.9333333333333333 ]\n"
     ]
    },
    {
     "data": {
      "image/png": "[encoded data removed]",
      "text/plain": [
       "<matplotlib.figure.Figure at 0x1182b3908>"
      ]
     },
     "metadata": {},
     "output_type": "display_data"
    }
   ],
   "source": [
    "## Llama a la funcion de gradient descent, recurda definir un nombre diferente para el modelo (~1 linea) ##\n",
    "modelo_2_theta_values, cost_vect, acc_vect, acc_vect_test = \n",
    "### FIN ##"
   ]
  },
  {
   "cell_type": "code",
   "execution_count": null,
   "metadata": {},
   "outputs": [],
   "source": [
    "## Funcion para graficar el costo y  accuracy durante cada iteracion ##\n",
    "helper.training_graph(cost_vect, acc_vect, acc_vect_test)"
   ]
  },
  {
   "cell_type": "markdown",
   "metadata": {},
   "source": [
    "#### Accuracy con el Test set [Modelo 2]"
   ]
  },
  {
   "cell_type": "code",
   "execution_count": 39,
   "metadata": {},
   "outputs": [],
   "source": [
    "y_predict = prediccion(X_test_features, modelo_2_theta_values, True)"
   ]
  },
  {
   "cell_type": "code",
   "execution_count": 40,
   "metadata": {},
   "outputs": [
    {
     "name": "stdout",
     "output_type": "stream",
     "text": [
      "Accuracy: 88.81118881118881 %\n"
     ]
    }
   ],
   "source": [
    "print('Accuracy:',accuracy_score(y_test, y_predict)* 100 ,'%')"
   ]
  },
  {
   "cell_type": "markdown",
   "metadata": {},
   "source": [
    "#### Matriz de confusion Test Set [Modelo 2]"
   ]
  },
  {
   "cell_type": "code",
   "execution_count": 41,
   "metadata": {},
   "outputs": [
    {
     "data": {
      "text/plain": [
       "array([[43, 10],\n",
       "       [ 6, 84]])"
      ]
     },
     "execution_count": 41,
     "metadata": {},
     "output_type": "execute_result"
    }
   ],
   "source": [
    "confusion_matrix(y_test, y_predict)"
   ]
  },
  {
   "cell_type": "code",
   "execution_count": 42,
   "metadata": {},
   "outputs": [
    {
     "name": "stdout",
     "output_type": "stream",
     "text": [
      "precision:  0.8936170212765957\n",
      "recall:  0.9333333333333333\n"
     ]
    }
   ],
   "source": [
    "print('precision: ',precision_score(y_test, y_predict))\n",
    "\n",
    "print('recall: ', recall_score(y_test, y_predict))"
   ]
  },
  {
   "cell_type": "markdown",
   "metadata": {},
   "source": [
    "## Entrenamiento modelo 3"
   ]
  },
  {
   "cell_type": "markdown",
   "metadata": {},
   "source": [
    "#### Sampleo bootstrap"
   ]
  },
  {
   "cell_type": "code",
   "execution_count": 43,
   "metadata": {},
   "outputs": [],
   "source": [
    "X_train_m3, Y_train_m3 = resample(X_train, y_train, n_samples = 460)"
   ]
  },
  {
   "cell_type": "markdown",
   "metadata": {},
   "source": [
    "### Filtrar Features\n",
    "Solo seleccionar los features"
   ]
  },
  {
   "cell_type": "code",
   "execution_count": 44,
   "metadata": {},
   "outputs": [],
   "source": [
    "'''\n",
    "Ingresa en la lista el nombre de las fatrues que quieres utlizar en este modelo (~1 linea)\n",
    "'''\n",
    "features_filtro = ['mean radius', 'mean texture', 'mean perimeter', 'mean area']"
   ]
  },
  {
   "cell_type": "code",
   "execution_count": 45,
   "metadata": {},
   "outputs": [],
   "source": [
    "X_train_m3 = helper.fitrar_nombre(X_train_m3,data.feature_names,features_filtro)\n",
    "X_test_features = helper.fitrar_nombre(X_test,data.feature_names,features_filtro)"
   ]
  },
  {
   "cell_type": "code",
   "execution_count": 46,
   "metadata": {},
   "outputs": [],
   "source": [
    "## Numero de iteracions ##\n",
    "iterations = 1500  # Define el numero de iteraciones #\n",
    "\n",
    "## Alpha ##\n",
    "alpha = 0.02 # Define el valor de alpha #\n",
    "\n",
    "#### No hay que cambiar el codigo despues de esta linea #####\n",
    "## Numero de feautres ##\n",
    "numero_features = X_train_m3.shape[1] + 1\n",
    "\n",
    "## Creamos un vector donde se almacenan los valores de Theta,\n",
    "## lo inicializamos con numeros aleatorios\n",
    "theta_vector = np.random.rand(numero_features)\n",
    "\n",
    "## Normaliza las features de X_train_features (~1 linea) ##\n",
    "X_train_m3 = \n",
    "\n",
    "# Creando la Matriz X de features, \n",
    "# utilizamos np.ones para agregar el valor constante '1' que es el bias o feature 0\n",
    "X_train_features = np.ones((X_train_m3.shape[0], numero_features))\n",
    "X_train_features[:,:-1] = X_train_m3"
   ]
  },
  {
   "cell_type": "code",
   "execution_count": 47,
   "metadata": {},
   "outputs": [
    {
     "name": "stdout",
     "output_type": "stream",
     "text": [
      "#####################\n",
      "TRAINING: [Iteracion:  0  Costo:  1.058670774977082  Accuracy: 0.55  F1 Score: 0.7096774193548387 Precision training: 0.6067146282973621 Recall training: <function recall at 0x1136a5158> ]\n",
      "TEST: [Iteracion:  0 Accuracy: 0.5244755244755245  F1 Score: 0.6880733944954128 Precision Test: 0.5859375 Recall Test: 0.8333333333333334 ]\n",
      "#####################\n",
      "TRAINING: [Iteracion:  50  Costo:  0.5849123696537283  Accuracy: 0.6673913043478261  F1 Score: 0.7946308724832215 Precision training: 0.6592427616926503 Recall training: <function recall at 0x1136a5158> ]\n",
      "TEST: [Iteracion:  50 Accuracy: 0.6503496503496503  F1 Score: 0.782608695652174 Precision Test: 0.6428571428571429 Recall Test: 1.0 ]\n",
      "#####################\n",
      "TRAINING: [Iteracion:  100  Costo:  0.439702312701081  Accuracy: 0.8  F1 Score: 0.8654970760233918 Precision training: 0.7628865979381443 Recall training: <function recall at 0x1136a5158> ]\n",
      "TEST: [Iteracion:  100 Accuracy: 0.8181818181818182  F1 Score: 0.8737864077669902 Precision Test: 0.7758620689655172 Recall Test: 1.0 ]\n",
      "#####################\n",
      "TRAINING: [Iteracion:  150  Costo:  0.3835651753011116  Accuracy: 0.8347826086956521  F1 Score: 0.8858858858858859 Precision training: 0.7972972972972973 Recall training: <function recall at 0x1136a5158> ]\n",
      "TEST: [Iteracion:  150 Accuracy: 0.8461538461538461  F1 Score: 0.8910891089108911 Precision Test: 0.8035714285714286 Recall Test: 1.0 ]\n",
      "#####################\n",
      "TRAINING: [Iteracion:  200  Costo:  0.3542799803198765  Accuracy: 0.8565217391304348  F1 Score: 0.8993902439024389 Precision training: 0.8194444444444444 Recall training: <function recall at 0x1136a5158> ]\n",
      "TEST: [Iteracion:  200 Accuracy: 0.8811188811188811  F1 Score: 0.9137055837563453 Precision Test: 0.8411214953271028 Recall Test: 1.0 ]\n",
      "#####################\n",
      "TRAINING: [Iteracion:  250  Costo:  0.3363051375880527  Accuracy: 0.8673913043478261  F1 Score: 0.9062980030721965 Precision training: 0.8309859154929577 Recall training: <function recall at 0x1136a5158> ]\n",
      "TEST: [Iteracion:  250 Accuracy: 0.8741258741258742  F1 Score: 0.9081632653061226 Precision Test: 0.839622641509434 Recall Test: 0.9888888888888889 ]\n",
      "#####################\n",
      "TRAINING: [Iteracion:  300  Costo:  0.3241484892952655  Accuracy: 0.8695652173913043  F1 Score: 0.9074074074074074 Precision training: 0.8352272727272727 Recall training: <function recall at 0x1136a5158> ]\n",
      "TEST: [Iteracion:  300 Accuracy: 0.8881118881118881  F1 Score: 0.9175257731958762 Precision Test: 0.8557692307692307 Recall Test: 0.9888888888888889 ]\n",
      "#####################\n",
      "TRAINING: [Iteracion:  350  Costo:  0.31538746897122766  Accuracy: 0.8739130434782608  F1 Score: 0.9102167182662537 Precision training: 0.84 Recall training: <function recall at 0x1136a5158> ]\n",
      "TEST: [Iteracion:  350 Accuracy: 0.8951048951048951  F1 Score: 0.9222797927461138 Precision Test: 0.8640776699029126 Recall Test: 0.9888888888888889 ]\n",
      "#####################\n",
      "TRAINING: [Iteracion:  400  Costo:  0.30878597357979887  Accuracy: 0.8804347826086957  F1 Score: 0.9136577708006279 Precision training: 0.8533724340175953 Recall training: <function recall at 0x1136a5158> ]\n",
      "TEST: [Iteracion:  400 Accuracy: 0.8951048951048951  F1 Score: 0.9222797927461138 Precision Test: 0.8640776699029126 Recall Test: 0.9888888888888889 ]\n",
      "#####################\n",
      "TRAINING: [Iteracion:  450  Costo:  0.30364546105975565  Accuracy: 0.8804347826086957  F1 Score: 0.9136577708006279 Precision training: 0.8533724340175953 Recall training: <function recall at 0x1136a5158> ]\n",
      "TEST: [Iteracion:  450 Accuracy: 0.8951048951048951  F1 Score: 0.9214659685863874 Precision Test: 0.8712871287128713 Recall Test: 0.9777777777777777 ]\n",
      "#####################\n",
      "TRAINING: [Iteracion:  500  Costo:  0.299540318538204  Accuracy: 0.8826086956521739  F1 Score: 0.9150943396226415 Precision training: 0.8558823529411764 Recall training: <function recall at 0x1136a5158> ]\n",
      "TEST: [Iteracion:  500 Accuracy: 0.8811188811188811  F1 Score: 0.9100529100529101 Precision Test: 0.8686868686868687 Recall Test: 0.9555555555555556 ]\n",
      "#####################\n",
      "TRAINING: [Iteracion:  550  Costo:  0.29619586163184813  Accuracy: 0.8804347826086957  F1 Score: 0.9133858267716536 Precision training: 0.855457227138643 Recall training: <function recall at 0x1136a5158> ]\n",
      "TEST: [Iteracion:  550 Accuracy: 0.8811188811188811  F1 Score: 0.9100529100529101 Precision Test: 0.8686868686868687 Recall Test: 0.9555555555555556 ]\n",
      "#####################\n",
      "TRAINING: [Iteracion:  600  Costo:  0.2934265924902845  Accuracy: 0.8804347826086957  F1 Score: 0.9133858267716536 Precision training: 0.855457227138643 Recall training: <function recall at 0x1136a5158> ]\n",
      "TEST: [Iteracion:  600 Accuracy: 0.8811188811188811  F1 Score: 0.9100529100529101 Precision Test: 0.8686868686868687 Recall Test: 0.9555555555555556 ]\n",
      "#####################\n",
      "TRAINING: [Iteracion:  650  Costo:  0.29110257814233814  Accuracy: 0.8804347826086957  F1 Score: 0.9133858267716536 Precision training: 0.855457227138643 Recall training: <function recall at 0x1136a5158> ]\n",
      "TEST: [Iteracion:  650 Accuracy: 0.8811188811188811  F1 Score: 0.9100529100529101 Precision Test: 0.8686868686868687 Recall Test: 0.9555555555555556 ]\n",
      "#####################\n",
      "TRAINING: [Iteracion:  700  Costo:  0.2891300281838341  Accuracy: 0.8804347826086957  F1 Score: 0.9133858267716536 Precision training: 0.855457227138643 Recall training: <function recall at 0x1136a5158> ]\n",
      "TEST: [Iteracion:  700 Accuracy: 0.8811188811188811  F1 Score: 0.9100529100529101 Precision Test: 0.8686868686868687 Recall Test: 0.9555555555555556 ]\n",
      "#####################\n",
      "TRAINING: [Iteracion:  750  Costo:  0.2874395168752764  Accuracy: 0.8804347826086957  F1 Score: 0.9133858267716536 Precision training: 0.855457227138643 Recall training: <function recall at 0x1136a5158> ]\n",
      "TEST: [Iteracion:  750 Accuracy: 0.8811188811188811  F1 Score: 0.9100529100529101 Precision Test: 0.8686868686868687 Recall Test: 0.9555555555555556 ]\n",
      "#####################\n",
      "TRAINING: [Iteracion:  800  Costo:  0.28597854507973447  Accuracy: 0.8804347826086957  F1 Score: 0.9133858267716536 Precision training: 0.855457227138643 Recall training: <function recall at 0x1136a5158> ]\n",
      "TEST: [Iteracion:  800 Accuracy: 0.8881118881118881  F1 Score: 0.9148936170212767 Precision Test: 0.8775510204081632 Recall Test: 0.9555555555555556 ]\n",
      "#####################\n",
      "TRAINING: [Iteracion:  850  Costo:  0.28470667856227727  Accuracy: 0.8826086956521739  F1 Score: 0.914826498422713 Precision training: 0.8579881656804734 Recall training: <function recall at 0x1136a5158> ]\n",
      "TEST: [Iteracion:  850 Accuracy: 0.8881118881118881  F1 Score: 0.9148936170212767 Precision Test: 0.8775510204081632 Recall Test: 0.9555555555555556 ]\n",
      "#####################\n",
      "TRAINING: [Iteracion:  900  Costo:  0.28359227515056373  Accuracy: 0.8826086956521739  F1 Score: 0.914826498422713 Precision training: 0.8579881656804734 Recall training: <function recall at 0x1136a5158> ]\n",
      "TEST: [Iteracion:  900 Accuracy: 0.8881118881118881  F1 Score: 0.9148936170212767 Precision Test: 0.8775510204081632 Recall Test: 0.9555555555555556 ]\n",
      "#####################\n",
      "TRAINING: [Iteracion:  950  Costo:  0.28261022448111794  Accuracy: 0.8804347826086957  F1 Score: 0.9131121642969984 Precision training: 0.857566765578635 Recall training: <function recall at 0x1136a5158> ]\n",
      "TEST: [Iteracion:  950 Accuracy: 0.8881118881118881  F1 Score: 0.9148936170212767 Precision Test: 0.8775510204081632 Recall Test: 0.9555555555555556 ]\n",
      "#####################\n",
      "TRAINING: [Iteracion:  1000  Costo:  0.2817403517893149  Accuracy: 0.8804347826086957  F1 Score: 0.9131121642969984 Precision training: 0.857566765578635 Recall training: <function recall at 0x1136a5158> ]\n",
      "TEST: [Iteracion:  1000 Accuracy: 0.8811188811188811  F1 Score: 0.9090909090909091 Precision Test: 0.8762886597938144 Recall Test: 0.9444444444444444 ]\n",
      "#####################\n",
      "TRAINING: [Iteracion:  1050  Costo:  0.28096626824169046  Accuracy: 0.8847826086956522  F1 Score: 0.9157392686804452 Precision training: 0.8648648648648649 Recall training: <function recall at 0x1136a5158> ]\n",
      "TEST: [Iteracion:  1050 Accuracy: 0.8811188811188811  F1 Score: 0.9090909090909091 Precision Test: 0.8762886597938144 Recall Test: 0.9444444444444444 ]\n"
     ]
    },
    {
     "name": "stdout",
     "output_type": "stream",
     "text": [
      "#####################\n",
      "TRAINING: [Iteracion:  1100  Costo:  0.28027452828935395  Accuracy: 0.8847826086956522  F1 Score: 0.9157392686804452 Precision training: 0.8648648648648649 Recall training: <function recall at 0x1136a5158> ]\n",
      "TEST: [Iteracion:  1100 Accuracy: 0.8811188811188811  F1 Score: 0.9090909090909091 Precision Test: 0.8762886597938144 Recall Test: 0.9444444444444444 ]\n",
      "#####################\n",
      "TRAINING: [Iteracion:  1150  Costo:  0.2796540023267969  Accuracy: 0.8913043478260869  F1 Score: 0.9201277955271565 Precision training: 0.8727272727272727 Recall training: <function recall at 0x1136a5158> ]\n",
      "TEST: [Iteracion:  1150 Accuracy: 0.8811188811188811  F1 Score: 0.9090909090909091 Precision Test: 0.8762886597938144 Recall Test: 0.9444444444444444 ]\n",
      "#####################\n",
      "TRAINING: [Iteracion:  1200  Costo:  0.2790954030340483  Accuracy: 0.8913043478260869  F1 Score: 0.9201277955271565 Precision training: 0.8727272727272727 Recall training: <function recall at 0x1136a5158> ]\n",
      "TEST: [Iteracion:  1200 Accuracy: 0.8811188811188811  F1 Score: 0.9090909090909091 Precision Test: 0.8762886597938144 Recall Test: 0.9444444444444444 ]\n",
      "#####################\n",
      "TRAINING: [Iteracion:  1250  Costo:  0.2785909231790869  Accuracy: 0.8913043478260869  F1 Score: 0.9201277955271565 Precision training: 0.8727272727272727 Recall training: <function recall at 0x1136a5158> ]\n",
      "TEST: [Iteracion:  1250 Accuracy: 0.8811188811188811  F1 Score: 0.9090909090909091 Precision Test: 0.8762886597938144 Recall Test: 0.9444444444444444 ]\n",
      "#####################\n",
      "TRAINING: [Iteracion:  1300  Costo:  0.2781339554325432  Accuracy: 0.8891304347826087  F1 Score: 0.9184 Precision training: 0.8723404255319149 Recall training: <function recall at 0x1136a5158> ]\n",
      "TEST: [Iteracion:  1300 Accuracy: 0.8811188811188811  F1 Score: 0.9090909090909091 Precision Test: 0.8762886597938144 Recall Test: 0.9444444444444444 ]\n",
      "#####################\n",
      "TRAINING: [Iteracion:  1350  Costo:  0.27771887332407647  Accuracy: 0.8891304347826087  F1 Score: 0.9184 Precision training: 0.8723404255319149 Recall training: <function recall at 0x1136a5158> ]\n",
      "TEST: [Iteracion:  1350 Accuracy: 0.8811188811188811  F1 Score: 0.9090909090909091 Precision Test: 0.8762886597938144 Recall Test: 0.9444444444444444 ]\n",
      "#####################\n",
      "TRAINING: [Iteracion:  1400  Costo:  0.2773408583308779  Accuracy: 0.8891304347826087  F1 Score: 0.9184 Precision training: 0.8723404255319149 Recall training: <function recall at 0x1136a5158> ]\n",
      "TEST: [Iteracion:  1400 Accuracy: 0.8811188811188811  F1 Score: 0.9090909090909091 Precision Test: 0.8762886597938144 Recall Test: 0.9444444444444444 ]\n",
      "#####################\n",
      "TRAINING: [Iteracion:  1450  Costo:  0.2769957621585238  Accuracy: 0.8891304347826087  F1 Score: 0.9184 Precision training: 0.8723404255319149 Recall training: <function recall at 0x1136a5158> ]\n",
      "TEST: [Iteracion:  1450 Accuracy: 0.8811188811188811  F1 Score: 0.9090909090909091 Precision Test: 0.8762886597938144 Recall Test: 0.9444444444444444 ]\n"
     ]
    },
    {
     "data": {
      "image/png": "[encoded data removed]",
      "text/plain": [
       "<matplotlib.figure.Figure at 0x118332048>"
      ]
     },
     "metadata": {},
     "output_type": "display_data"
    }
   ],
   "source": [
    "## Llama a la funcion de gradient descent, recurda definir un nombre diferente para el modelo (~1 linea) ##\n",
    "modelo_3_theta_values, cost_vect, acc_vect, acc_vect_test = \n",
    "### FIN "
   ]
  },
  {
   "cell_type": "code",
   "execution_count": null,
   "metadata": {},
   "outputs": [],
   "source": [
    "## Funcion para graficar el costo y  accuracy durante cada iteracion\n",
    "helper.training_graph(cost_vect, acc_vect, acc_vect_test)"
   ]
  },
  {
   "cell_type": "markdown",
   "metadata": {},
   "source": [
    "#### Accuracy con el Test set [Modelo 3]"
   ]
  },
  {
   "cell_type": "code",
   "execution_count": 48,
   "metadata": {},
   "outputs": [],
   "source": [
    "y_predict = prediccion(X_test_features, modelo_3_theta_values, True)"
   ]
  },
  {
   "cell_type": "code",
   "execution_count": 49,
   "metadata": {},
   "outputs": [
    {
     "name": "stdout",
     "output_type": "stream",
     "text": [
      "Accuracy: 88.11188811188812 %\n"
     ]
    }
   ],
   "source": [
    "print('Accuracy:',accuracy_score(y_test, y_predict)* 100 ,'%')"
   ]
  },
  {
   "cell_type": "markdown",
   "metadata": {},
   "source": [
    "#### Matriz de confusion Test Set [Modelo 3]"
   ]
  },
  {
   "cell_type": "code",
   "execution_count": 50,
   "metadata": {
    "scrolled": true
   },
   "outputs": [
    {
     "data": {
      "text/plain": [
       "array([[41, 12],\n",
       "       [ 5, 85]])"
      ]
     },
     "execution_count": 50,
     "metadata": {},
     "output_type": "execute_result"
    }
   ],
   "source": [
    "confusion_matrix(y_test, y_predict)"
   ]
  },
  {
   "cell_type": "code",
   "execution_count": 51,
   "metadata": {},
   "outputs": [
    {
     "name": "stdout",
     "output_type": "stream",
     "text": [
      "precision:  0.8762886597938144\n",
      "recall:  0.9444444444444444\n"
     ]
    }
   ],
   "source": [
    "print('precision: ',precision_score(y_test, y_predict))\n",
    "\n",
    "print('recall: ', recall_score(y_test, y_predict))"
   ]
  },
  {
   "cell_type": "markdown",
   "metadata": {},
   "source": [
    "## Entrenamiento modelo 4"
   ]
  },
  {
   "cell_type": "markdown",
   "metadata": {},
   "source": [
    "#### Sampleo bootstrap"
   ]
  },
  {
   "cell_type": "code",
   "execution_count": 52,
   "metadata": {},
   "outputs": [],
   "source": [
    "X_train_m4, Y_train_m4 = resample(X_train, y_train, n_samples = 460)"
   ]
  },
  {
   "cell_type": "markdown",
   "metadata": {},
   "source": [
    "### Filtrar Features\n",
    "Solo seleccionar los features"
   ]
  },
  {
   "cell_type": "code",
   "execution_count": 53,
   "metadata": {},
   "outputs": [],
   "source": [
    "'''\n",
    "Ingresa en la lista el nombre de las fatrues que quieres utlizar en este modelo (~1 linea)\n",
    "'''\n",
    "features_filtro = ['mean radius', 'mean texture', 'mean perimeter', 'mean area','mean smoothness']"
   ]
  },
  {
   "cell_type": "code",
   "execution_count": 54,
   "metadata": {},
   "outputs": [],
   "source": [
    "X_train_m4 = helper.fitrar_nombre(X_train_m4,data.feature_names,features_filtro)\n",
    "X_test_features = helper.fitrar_nombre(X_test,data.feature_names,features_filtro)"
   ]
  },
  {
   "cell_type": "code",
   "execution_count": 55,
   "metadata": {},
   "outputs": [],
   "source": [
    "## Numero de iteracions ##\n",
    "iterations = 1000 # Define el numero de iteraciones #\n",
    "\n",
    "## Alpha ##\n",
    "alpha = 0.03 # Define el valor de alpha #\n",
    "\n",
    "#### No hay que cambiar el codigo despues de esta linea #####\n",
    "## Numero de feautres ##\n",
    "numero_features = X_train_m4.shape[1] + 1\n",
    "\n",
    "## Creamos un vector donde se almacenan los valores de Theta,\n",
    "## lo inicializamos con numeros aleatorios\n",
    "theta_vector = np.random.rand(numero_features)\n",
    "\n",
    "## Normaliza las features de X_train_features (~1 linea) ##\n",
    "X_train_m4 = normalizar(X_train_m4)\n",
    "\n",
    "# Creando la Matriz X de features\n",
    "X_train_features = np.ones((X_train_m4.shape[0], numero_features))\n",
    "X_train_features[:,:-1] = X_train_m4"
   ]
  },
  {
   "cell_type": "code",
   "execution_count": 56,
   "metadata": {
    "scrolled": true
   },
   "outputs": [
    {
     "name": "stdout",
     "output_type": "stream",
     "text": [
      "#####################\n",
      "TRAINING: [Iteracion:  0  Costo:  1.5916906589632247  Accuracy: 0.2826086956521739  F1 Score: 0.42906574394463665 Precision training: 0.43356643356643354 Recall training: <function recall at 0x1136a5158> ]\n",
      "TEST: [Iteracion:  0 Accuracy: 0.26573426573426573  F1 Score: 0.41340782122905023 Precision Test: 0.4157303370786517 Recall Test: 0.4111111111111111 ]\n",
      "#####################\n",
      "TRAINING: [Iteracion:  50  Costo:  0.5024526216137  Accuracy: 0.6826086956521739  F1 Score: 0.8 Precision training: 0.6666666666666666 Recall training: <function recall at 0x1136a5158> ]\n",
      "TEST: [Iteracion:  50 Accuracy: 0.6713286713286714  F1 Score: 0.7929515418502203 Precision Test: 0.656934306569343 Recall Test: 1.0 ]\n",
      "#####################\n",
      "TRAINING: [Iteracion:  100  Costo:  0.31497406476026774  Accuracy: 0.8956521739130435  F1 Score: 0.9240506329113923 Precision training: 0.8588235294117647 Recall training: <function recall at 0x1136a5158> ]\n",
      "TEST: [Iteracion:  100 Accuracy: 0.8881118881118881  F1 Score: 0.9183673469387755 Precision Test: 0.8490566037735849 Recall Test: 1.0 ]\n",
      "#####################\n",
      "TRAINING: [Iteracion:  150  Costo:  0.2603077439328874  Accuracy: 0.9173913043478261  F1 Score: 0.9389067524115756 Precision training: 0.8848484848484849 Recall training: <function recall at 0x1136a5158> ]\n",
      "TEST: [Iteracion:  150 Accuracy: 0.9090909090909091  F1 Score: 0.9319371727748692 Precision Test: 0.8811881188118812 Recall Test: 0.9888888888888889 ]\n",
      "#####################\n",
      "TRAINING: [Iteracion:  200  Costo:  0.2330003966606739  Accuracy: 0.9304347826086956  F1 Score: 0.948051948051948 Precision training: 0.9012345679012346 Recall training: <function recall at 0x1136a5158> ]\n",
      "TEST: [Iteracion:  200 Accuracy: 0.9300699300699301  F1 Score: 0.946236559139785 Precision Test: 0.9166666666666666 Recall Test: 0.9777777777777777 ]\n",
      "#####################\n",
      "TRAINING: [Iteracion:  250  Costo:  0.21597369493553542  Accuracy: 0.9347826086956522  F1 Score: 0.9504950495049506 Precision training: 0.9171974522292994 Recall training: <function recall at 0x1136a5158> ]\n",
      "TEST: [Iteracion:  250 Accuracy: 0.9230769230769231  F1 Score: 0.9405405405405406 Precision Test: 0.9157894736842105 Recall Test: 0.9666666666666667 ]\n",
      "#####################\n",
      "TRAINING: [Iteracion:  300  Costo:  0.20408051207970798  Accuracy: 0.9369565217391305  F1 Score: 0.9520661157024792 Precision training: 0.9201277955271565 Recall training: <function recall at 0x1136a5158> ]\n",
      "TEST: [Iteracion:  300 Accuracy: 0.9230769230769231  F1 Score: 0.9405405405405406 Precision Test: 0.9157894736842105 Recall Test: 0.9666666666666667 ]\n",
      "#####################\n",
      "TRAINING: [Iteracion:  350  Costo:  0.1951909859086406  Accuracy: 0.9369565217391305  F1 Score: 0.9520661157024792 Precision training: 0.9201277955271565 Recall training: <function recall at 0x1136a5158> ]\n",
      "TEST: [Iteracion:  350 Accuracy: 0.9230769230769231  F1 Score: 0.9405405405405406 Precision Test: 0.9157894736842105 Recall Test: 0.9666666666666667 ]\n",
      "#####################\n",
      "TRAINING: [Iteracion:  400  Costo:  0.18824292566224035  Accuracy: 0.9391304347826087  F1 Score: 0.9536423841059603 Precision training: 0.9230769230769231 Recall training: <function recall at 0x1136a5158> ]\n",
      "TEST: [Iteracion:  400 Accuracy: 0.9230769230769231  F1 Score: 0.9405405405405406 Precision Test: 0.9157894736842105 Recall Test: 0.9666666666666667 ]\n",
      "#####################\n",
      "TRAINING: [Iteracion:  450  Costo:  0.18263765320146474  Accuracy: 0.9391304347826087  F1 Score: 0.9536423841059603 Precision training: 0.9230769230769231 Recall training: <function recall at 0x1136a5158> ]\n",
      "TEST: [Iteracion:  450 Accuracy: 0.9230769230769231  F1 Score: 0.9405405405405406 Precision Test: 0.9157894736842105 Recall Test: 0.9666666666666667 ]\n",
      "#####################\n",
      "TRAINING: [Iteracion:  500  Costo:  0.17800747376740944  Accuracy: 0.9434782608695652  F1 Score: 0.9568106312292358 Precision training: 0.9290322580645162 Recall training: <function recall at 0x1136a5158> ]\n",
      "TEST: [Iteracion:  500 Accuracy: 0.9230769230769231  F1 Score: 0.9405405405405406 Precision Test: 0.9157894736842105 Recall Test: 0.9666666666666667 ]\n",
      "#####################\n",
      "TRAINING: [Iteracion:  550  Costo:  0.17411181104956855  Accuracy: 0.9434782608695652  F1 Score: 0.9568106312292358 Precision training: 0.9290322580645162 Recall training: <function recall at 0x1136a5158> ]\n",
      "TEST: [Iteracion:  550 Accuracy: 0.9230769230769231  F1 Score: 0.9405405405405406 Precision Test: 0.9157894736842105 Recall Test: 0.9666666666666667 ]\n",
      "#####################\n",
      "TRAINING: [Iteracion:  600  Costo:  0.1707854692883483  Accuracy: 0.9434782608695652  F1 Score: 0.9568106312292358 Precision training: 0.9290322580645162 Recall training: <function recall at 0x1136a5158> ]\n",
      "TEST: [Iteracion:  600 Accuracy: 0.9230769230769231  F1 Score: 0.9405405405405406 Precision Test: 0.9157894736842105 Recall Test: 0.9666666666666667 ]\n",
      "#####################\n",
      "TRAINING: [Iteracion:  650  Costo:  0.16791062165816398  Accuracy: 0.9478260869565217  F1 Score: 0.9600000000000001 Precision training: 0.935064935064935 Recall training: <function recall at 0x1136a5158> ]\n",
      "TEST: [Iteracion:  650 Accuracy: 0.9230769230769231  F1 Score: 0.9405405405405406 Precision Test: 0.9157894736842105 Recall Test: 0.9666666666666667 ]\n",
      "#####################\n",
      "TRAINING: [Iteracion:  700  Costo:  0.16540061493891237  Accuracy: 0.9456521739130435  F1 Score: 0.9581239530988275 Precision training: 0.9377049180327869 Recall training: <function recall at 0x1136a5158> ]\n",
      "TEST: [Iteracion:  700 Accuracy: 0.9230769230769231  F1 Score: 0.9405405405405406 Precision Test: 0.9157894736842105 Recall Test: 0.9666666666666667 ]\n",
      "#####################\n",
      "TRAINING: [Iteracion:  750  Costo:  0.16319009653887012  Accuracy: 0.95  F1 Score: 0.961344537815126 Precision training: 0.9438943894389439 Recall training: <function recall at 0x1136a5158> ]\n",
      "TEST: [Iteracion:  750 Accuracy: 0.9230769230769231  F1 Score: 0.9405405405405406 Precision Test: 0.9157894736842105 Recall Test: 0.9666666666666667 ]\n",
      "#####################\n",
      "TRAINING: [Iteracion:  800  Costo:  0.16122872796543167  Accuracy: 0.95  F1 Score: 0.961344537815126 Precision training: 0.9438943894389439 Recall training: <function recall at 0x1136a5158> ]\n",
      "TEST: [Iteracion:  800 Accuracy: 0.916083916083916  F1 Score: 0.9347826086956522 Precision Test: 0.9148936170212766 Recall Test: 0.9555555555555556 ]\n",
      "#####################\n",
      "TRAINING: [Iteracion:  850  Costo:  0.15947703385893228  Accuracy: 0.95  F1 Score: 0.961344537815126 Precision training: 0.9438943894389439 Recall training: <function recall at 0x1136a5158> ]\n",
      "TEST: [Iteracion:  850 Accuracy: 0.916083916083916  F1 Score: 0.9347826086956522 Precision Test: 0.9148936170212766 Recall Test: 0.9555555555555556 ]\n",
      "#####################\n",
      "TRAINING: [Iteracion:  900  Costo:  0.157903575623771  Accuracy: 0.9521739130434783  F1 Score: 0.962962962962963 Precision training: 0.9470198675496688 Recall training: <function recall at 0x1136a5158> ]\n",
      "TEST: [Iteracion:  900 Accuracy: 0.916083916083916  F1 Score: 0.9347826086956522 Precision Test: 0.9148936170212766 Recall Test: 0.9555555555555556 ]\n",
      "#####################\n",
      "TRAINING: [Iteracion:  950  Costo:  0.1564829757073407  Accuracy: 0.9521739130434783  F1 Score: 0.962962962962963 Precision training: 0.9470198675496688 Recall training: <function recall at 0x1136a5158> ]\n",
      "TEST: [Iteracion:  950 Accuracy: 0.916083916083916  F1 Score: 0.9347826086956522 Precision Test: 0.9148936170212766 Recall Test: 0.9555555555555556 ]\n"
     ]
    },
    {
     "data": {
      "image/png": "[encoded data removed]",
      "text/plain": [
       "<matplotlib.figure.Figure at 0x1183265c0>"
      ]
     },
     "metadata": {},
     "output_type": "display_data"
    }
   ],
   "source": [
    "## Llama a la funcion de gradient descent, recurda definir un nombre diferente para el modelo (~1 linea) ##\n",
    "modelo_4_theta_values, cost_vect, acc_vect, acc_vect_test = "
   ]
  },
  {
   "cell_type": "code",
   "execution_count": null,
   "metadata": {},
   "outputs": [],
   "source": [
    "## Funcion para graficar el costo y  accuracy durante cada iteracion ##\n",
    "helper.training_graph(cost_vect, acc_vect, acc_vect_test)"
   ]
  },
  {
   "cell_type": "markdown",
   "metadata": {},
   "source": [
    "#### Accuracy con el Test set [Modelo 4]"
   ]
  },
  {
   "cell_type": "code",
   "execution_count": 57,
   "metadata": {},
   "outputs": [],
   "source": [
    "y_predict = prediccion(X_test_features, modelo_4_theta_values, True)"
   ]
  },
  {
   "cell_type": "code",
   "execution_count": 58,
   "metadata": {
    "scrolled": false
   },
   "outputs": [
    {
     "name": "stdout",
     "output_type": "stream",
     "text": [
      "Accuracy: 91.6083916083916 %\n"
     ]
    }
   ],
   "source": [
    "print('Accuracy:',accuracy_score(y_test, y_predict)* 100 ,'%')"
   ]
  },
  {
   "cell_type": "markdown",
   "metadata": {},
   "source": [
    "#### Matriz de confusion Test Set [Modelo 4]"
   ]
  },
  {
   "cell_type": "code",
   "execution_count": 59,
   "metadata": {
    "scrolled": true
   },
   "outputs": [
    {
     "data": {
      "text/plain": [
       "array([[45,  8],\n",
       "       [ 4, 86]])"
      ]
     },
     "execution_count": 59,
     "metadata": {},
     "output_type": "execute_result"
    }
   ],
   "source": [
    "confusion_matrix(y_test, y_predict)"
   ]
  },
  {
   "cell_type": "code",
   "execution_count": 60,
   "metadata": {},
   "outputs": [
    {
     "name": "stdout",
     "output_type": "stream",
     "text": [
      "precision:  0.9148936170212766\n",
      "recall:  0.9555555555555556\n"
     ]
    }
   ],
   "source": [
    "print('precision: ',precision_score(y_test, y_predict))\n",
    "\n",
    "print('recall: ', recall_score(y_test, y_predict))"
   ]
  },
  {
   "cell_type": "markdown",
   "metadata": {},
   "source": [
    "## Entrenamiento modelo 5"
   ]
  },
  {
   "cell_type": "markdown",
   "metadata": {},
   "source": [
    "#### Sampleo bootstrap"
   ]
  },
  {
   "cell_type": "code",
   "execution_count": 61,
   "metadata": {},
   "outputs": [],
   "source": [
    "X_train_m5, Y_train_m5 = resample(X_train, y_train, n_samples = 460)"
   ]
  },
  {
   "cell_type": "markdown",
   "metadata": {},
   "source": [
    "### Filtrar Features\n",
    "Solo seleccionar los features"
   ]
  },
  {
   "cell_type": "code",
   "execution_count": 62,
   "metadata": {},
   "outputs": [],
   "source": [
    "'''\n",
    "Ingresa en la lista el nombre de las fatrues que quieres utlizar en este modelo (~1 linea)\n",
    "'''\n",
    "features_filtro = ['mean radius', 'mean texture', 'mean perimeter', 'mean area','mean smoothness']"
   ]
  },
  {
   "cell_type": "code",
   "execution_count": 63,
   "metadata": {},
   "outputs": [],
   "source": [
    "X_train_m5 = helper.fitrar_nombre(X_train_m5,data.feature_names,features_filtro)\n",
    "X_test_features = helper.fitrar_nombre(X_test,data.feature_names,features_filtro)"
   ]
  },
  {
   "cell_type": "code",
   "execution_count": 64,
   "metadata": {},
   "outputs": [],
   "source": [
    "## Numero de iteracions ##\n",
    "iterations = 2000 # Define el numero de iteraciones #\n",
    "\n",
    "## Alpha ##\n",
    "alpha = 0.005 # Define el valor de alpha #\n",
    "\n",
    "#### No hay que cambiar el codigo despues de esta linea #####\n",
    "## Numero de feautres ##\n",
    "numero_features = X_train_m5.shape[1] + 1\n",
    "\n",
    "## Creamos un vector donde se almacenan los valores de Theta,\n",
    "## lo inicializamos con numeros aleatorios\n",
    "theta_vector = np.random.rand(numero_features)\n",
    "\n",
    "## Normaliza las features de X_train_features (~1 linea) ##\n",
    "X_train_m5 = normalizar(X_train_m5)\n",
    "\n",
    "# Creando la Matriz X de features\n",
    "X_train_features = np.ones((X_train_m5.shape[0], numero_features))\n",
    "X_train_features[:,:-1] = X_train_m5"
   ]
  },
  {
   "cell_type": "code",
   "execution_count": 65,
   "metadata": {
    "scrolled": true
   },
   "outputs": [
    {
     "name": "stdout",
     "output_type": "stream",
     "text": [
      "#####################\n",
      "TRAINING: [Iteracion:  0  Costo:  2.1872359628615214  Accuracy: 0.15  F1 Score: 0.23483365949119372 Precision training: 0.26200873362445415 Recall training: <function recall at 0x1136a5158> ]\n",
      "TEST: [Iteracion:  0 Accuracy: 0.1888111888111888  F1 Score: 0.30120481927710846 Precision Test: 0.32894736842105265 Recall Test: 0.2777777777777778 ]\n",
      "#####################\n",
      "TRAINING: [Iteracion:  50  Costo:  1.8247396012031176  Accuracy: 0.18695652173913044  F1 Score: 0.299625468164794 Precision training: 0.31746031746031744 Recall training: <function recall at 0x1136a5158> ]\n",
      "TEST: [Iteracion:  50 Accuracy: 0.1888111888111888  F1 Score: 0.3095238095238095 Precision Test: 0.3333333333333333 Recall Test: 0.28888888888888886 ]\n",
      "#####################\n",
      "TRAINING: [Iteracion:  100  Costo:  1.5000781693236689  Accuracy: 0.24782608695652175  F1 Score: 0.38652482269503546 Precision training: 0.38652482269503546 Recall training: <function recall at 0x1136a5158> ]\n",
      "TEST: [Iteracion:  100 Accuracy: 0.3006993006993007  F1 Score: 0.45652173913043476 Precision Test: 0.44680851063829785 Recall Test: 0.4666666666666667 ]\n",
      "#####################\n",
      "TRAINING: [Iteracion:  150  Costo:  1.2189434198135445  Accuracy: 0.3717391304347826  F1 Score: 0.5419968304278923 Precision training: 0.4899713467048711 Recall training: <function recall at 0x1136a5158> ]\n",
      "TEST: [Iteracion:  150 Accuracy: 0.38461538461538464  F1 Score: 0.5555555555555556 Precision Test: 0.5092592592592593 Recall Test: 0.6111111111111112 ]\n",
      "#####################\n",
      "TRAINING: [Iteracion:  200  Costo:  0.9853106650230907  Accuracy: 0.5217391304347826  F1 Score: 0.6857142857142857 Precision training: 0.5741626794258373 Recall training: <function recall at 0x1136a5158> ]\n",
      "TEST: [Iteracion:  200 Accuracy: 0.5454545454545454  F1 Score: 0.7058823529411766 Precision Test: 0.5954198473282443 Recall Test: 0.8666666666666667 ]\n",
      "#####################\n",
      "TRAINING: [Iteracion:  250  Costo:  0.8009587992032482  Accuracy: 0.6130434782608696  F1 Score: 0.7601078167115903 Precision training: 0.6130434782608696 Recall training: <function recall at 0x1136a5158> ]\n",
      "TEST: [Iteracion:  250 Accuracy: 0.6293706293706294  F1 Score: 0.7725321888412017 Precision Test: 0.6293706293706294 Recall Test: 1.0 ]\n",
      "#####################\n",
      "TRAINING: [Iteracion:  300  Costo:  0.664116565724848  Accuracy: 0.6130434782608696  F1 Score: 0.7601078167115903 Precision training: 0.6130434782608696 Recall training: <function recall at 0x1136a5158> ]\n",
      "TEST: [Iteracion:  300 Accuracy: 0.6293706293706294  F1 Score: 0.7725321888412017 Precision Test: 0.6293706293706294 Recall Test: 1.0 ]\n",
      "#####################\n",
      "TRAINING: [Iteracion:  350  Costo:  0.5672723311929184  Accuracy: 0.6391304347826087  F1 Score: 0.7726027397260274 Precision training: 0.6294642857142857 Recall training: <function recall at 0x1136a5158> ]\n",
      "TEST: [Iteracion:  350 Accuracy: 0.6503496503496503  F1 Score: 0.782608695652174 Precision Test: 0.6428571428571429 Recall Test: 1.0 ]\n",
      "#####################\n",
      "TRAINING: [Iteracion:  400  Costo:  0.4992980386542629  Accuracy: 0.7543478260869565  F1 Score: 0.8330871491875923 Precision training: 0.7139240506329114 Recall training: <function recall at 0x1136a5158> ]\n",
      "TEST: [Iteracion:  400 Accuracy: 0.7272727272727273  F1 Score: 0.8219178082191781 Precision Test: 0.6976744186046512 Recall Test: 1.0 ]\n",
      "#####################\n",
      "TRAINING: [Iteracion:  450  Costo:  0.4504471620737566  Accuracy: 0.7891304347826087  F1 Score: 0.8532526475037822 Precision training: 0.7440633245382586 Recall training: <function recall at 0x1136a5158> ]\n",
      "TEST: [Iteracion:  450 Accuracy: 0.7902097902097902  F1 Score: 0.8571428571428571 Precision Test: 0.75 Recall Test: 1.0 ]\n",
      "#####################\n",
      "TRAINING: [Iteracion:  500  Costo:  0.4140970421877383  Accuracy: 0.8130434782608695  F1 Score: 0.8676923076923077 Precision training: 0.7663043478260869 Recall training: <function recall at 0x1136a5158> ]\n",
      "TEST: [Iteracion:  500 Accuracy: 0.8321678321678322  F1 Score: 0.8823529411764706 Precision Test: 0.7894736842105263 Recall Test: 1.0 ]\n",
      "#####################\n",
      "TRAINING: [Iteracion:  550  Costo:  0.3861004218969931  Accuracy: 0.8434782608695652  F1 Score: 0.8867924528301886 Precision training: 0.7966101694915254 Recall training: <function recall at 0x1136a5158> ]\n",
      "TEST: [Iteracion:  550 Accuracy: 0.8531468531468531  F1 Score: 0.8955223880597014 Precision Test: 0.8108108108108109 Recall Test: 1.0 ]\n",
      "#####################\n",
      "TRAINING: [Iteracion:  600  Costo:  0.3638732897678162  Accuracy: 0.8717391304347826  F1 Score: 0.9052969502407704 Precision training: 0.8269794721407625 Recall training: <function recall at 0x1136a5158> ]\n",
      "TEST: [Iteracion:  600 Accuracy: 0.8811188811188811  F1 Score: 0.9137055837563453 Precision Test: 0.8411214953271028 Recall Test: 1.0 ]\n",
      "#####################\n",
      "TRAINING: [Iteracion:  650  Costo:  0.34576826614019457  Accuracy: 0.8804347826086957  F1 Score: 0.9111470113085622 Precision training: 0.8367952522255193 Recall training: <function recall at 0x1136a5158> ]\n",
      "TEST: [Iteracion:  650 Accuracy: 0.8811188811188811  F1 Score: 0.9137055837563453 Precision Test: 0.8411214953271028 Recall Test: 1.0 ]\n",
      "#####################\n",
      "TRAINING: [Iteracion:  700  Costo:  0.3307016896942654  Accuracy: 0.8804347826086957  F1 Score: 0.9111470113085622 Precision training: 0.8367952522255193 Recall training: <function recall at 0x1136a5158> ]\n",
      "TEST: [Iteracion:  700 Accuracy: 0.8951048951048951  F1 Score: 0.923076923076923 Precision Test: 0.8571428571428571 Recall Test: 1.0 ]\n",
      "#####################\n",
      "TRAINING: [Iteracion:  750  Costo:  0.3179374494570273  Accuracy: 0.8826086956521739  F1 Score: 0.9126213592233009 Precision training: 0.8392857142857143 Recall training: <function recall at 0x1136a5158> ]\n",
      "TEST: [Iteracion:  750 Accuracy: 0.8951048951048951  F1 Score: 0.923076923076923 Precision Test: 0.8571428571428571 Recall Test: 1.0 ]\n",
      "#####################\n",
      "TRAINING: [Iteracion:  800  Costo:  0.3069602152279675  Accuracy: 0.8847826086956522  F1 Score: 0.9141004862236629 Precision training: 0.8417910447761194 Recall training: <function recall at 0x1136a5158> ]\n",
      "TEST: [Iteracion:  800 Accuracy: 0.9020979020979021  F1 Score: 0.9278350515463918 Precision Test: 0.8653846153846154 Recall Test: 1.0 ]\n",
      "#####################\n",
      "TRAINING: [Iteracion:  850  Costo:  0.2973992298139824  Accuracy: 0.8891304347826087  F1 Score: 0.9170731707317074 Precision training: 0.8468468468468469 Recall training: <function recall at 0x1136a5158> ]\n",
      "TEST: [Iteracion:  850 Accuracy: 0.9090909090909091  F1 Score: 0.9319371727748692 Precision Test: 0.8811881188118812 Recall Test: 0.9888888888888889 ]\n",
      "#####################\n",
      "TRAINING: [Iteracion:  900  Costo:  0.28898116547881364  Accuracy: 0.8978260869565218  F1 Score: 0.923076923076923 Precision training: 0.8571428571428571 Recall training: <function recall at 0x1136a5158> ]\n",
      "TEST: [Iteracion:  900 Accuracy: 0.9230769230769231  F1 Score: 0.9417989417989419 Precision Test: 0.898989898989899 Recall Test: 0.9888888888888889 ]\n",
      "#####################\n",
      "TRAINING: [Iteracion:  950  Costo:  0.2815001097919233  Accuracy: 0.908695652173913  F1 Score: 0.9306930693069307 Precision training: 0.8703703703703703 Recall training: <function recall at 0x1136a5158> ]\n",
      "TEST: [Iteracion:  950 Accuracy: 0.9230769230769231  F1 Score: 0.9417989417989419 Precision Test: 0.898989898989899 Recall Test: 0.9888888888888889 ]\n",
      "#####################\n",
      "TRAINING: [Iteracion:  1000  Costo:  0.2747979279587291  Accuracy: 0.908695652173913  F1 Score: 0.9306930693069307 Precision training: 0.8703703703703703 Recall training: <function recall at 0x1136a5158> ]\n",
      "TEST: [Iteracion:  1000 Accuracy: 0.9230769230769231  F1 Score: 0.9417989417989419 Precision Test: 0.898989898989899 Recall Test: 0.9888888888888889 ]\n",
      "#####################\n",
      "TRAINING: [Iteracion:  1050  Costo:  0.26875108473381704  Accuracy: 0.9217391304347826  F1 Score: 0.9400000000000001 Precision training: 0.8867924528301887 Recall training: <function recall at 0x1136a5158> ]\n",
      "TEST: [Iteracion:  1050 Accuracy: 0.9230769230769231  F1 Score: 0.9417989417989419 Precision Test: 0.898989898989899 Recall Test: 0.9888888888888889 ]\n",
      "#####################\n",
      "TRAINING: [Iteracion:  1100  Costo:  0.2632615933797449  Accuracy: 0.9239130434782609  F1 Score: 0.9411764705882353 Precision training: 0.8945686900958466 Recall training: <function recall at 0x1136a5158> ]\n",
      "TEST: [Iteracion:  1100 Accuracy: 0.9230769230769231  F1 Score: 0.9417989417989419 Precision Test: 0.898989898989899 Recall Test: 0.9888888888888889 ]\n"
     ]
    },
    {
     "name": "stdout",
     "output_type": "stream",
     "text": [
      "#####################\n",
      "TRAINING: [Iteracion:  1150  Costo:  0.25825066610847236  Accuracy: 0.9239130434782609  F1 Score: 0.9411764705882353 Precision training: 0.8945686900958466 Recall training: <function recall at 0x1136a5158> ]\n",
      "TEST: [Iteracion:  1150 Accuracy: 0.9230769230769231  F1 Score: 0.9417989417989419 Precision Test: 0.898989898989899 Recall Test: 0.9888888888888889 ]\n",
      "#####################\n",
      "TRAINING: [Iteracion:  1200  Costo:  0.2536541729259504  Accuracy: 0.9282608695652174  F1 Score: 0.9443507588532883 Precision training: 0.9003215434083601 Recall training: <function recall at 0x1136a5158> ]\n",
      "TEST: [Iteracion:  1200 Accuracy: 0.9230769230769231  F1 Score: 0.9417989417989419 Precision Test: 0.898989898989899 Recall Test: 0.9888888888888889 ]\n",
      "#####################\n",
      "TRAINING: [Iteracion:  1250  Costo:  0.24941933625401394  Accuracy: 0.9282608695652174  F1 Score: 0.9443507588532883 Precision training: 0.9003215434083601 Recall training: <function recall at 0x1136a5158> ]\n",
      "TEST: [Iteracion:  1250 Accuracy: 0.9230769230769231  F1 Score: 0.9417989417989419 Precision Test: 0.898989898989899 Recall Test: 0.9888888888888889 ]\n",
      "#####################\n",
      "TRAINING: [Iteracion:  1300  Costo:  0.2455022861639893  Accuracy: 0.9326086956521739  F1 Score: 0.9475465313028765 Precision training: 0.9061488673139159 Recall training: <function recall at 0x1136a5158> ]\n",
      "TEST: [Iteracion:  1300 Accuracy: 0.9230769230769231  F1 Score: 0.9417989417989419 Precision Test: 0.898989898989899 Recall Test: 0.9888888888888889 ]\n",
      "#####################\n",
      "TRAINING: [Iteracion:  1350  Costo:  0.2418662254641911  Accuracy: 0.9326086956521739  F1 Score: 0.9475465313028765 Precision training: 0.9061488673139159 Recall training: <function recall at 0x1136a5158> ]\n",
      "TEST: [Iteracion:  1350 Accuracy: 0.9300699300699301  F1 Score: 0.946808510638298 Precision Test: 0.9081632653061225 Recall Test: 0.9888888888888889 ]\n",
      "#####################\n",
      "TRAINING: [Iteracion:  1400  Costo:  0.2384800339105528  Accuracy: 0.9369565217391305  F1 Score: 0.9507640067911715 Precision training: 0.9120521172638436 Recall training: <function recall at 0x1136a5158> ]\n",
      "TEST: [Iteracion:  1400 Accuracy: 0.9370629370629371  F1 Score: 0.9518716577540107 Precision Test: 0.9175257731958762 Recall Test: 0.9888888888888889 ]\n",
      "#####################\n",
      "TRAINING: [Iteracion:  1450  Costo:  0.23531719329369435  Accuracy: 0.9347826086956522  F1 Score: 0.9489795918367346 Precision training: 0.9117647058823529 Recall training: <function recall at 0x1136a5158> ]\n",
      "TEST: [Iteracion:  1450 Accuracy: 0.9370629370629371  F1 Score: 0.9518716577540107 Precision Test: 0.9175257731958762 Recall Test: 0.9888888888888889 ]\n",
      "#####################\n",
      "TRAINING: [Iteracion:  1500  Costo:  0.23235495020102048  Accuracy: 0.9326086956521739  F1 Score: 0.9471890971039182 Precision training: 0.9114754098360656 Recall training: <function recall at 0x1136a5158> ]\n",
      "TEST: [Iteracion:  1500 Accuracy: 0.9370629370629371  F1 Score: 0.9518716577540107 Precision Test: 0.9175257731958762 Recall Test: 0.9888888888888889 ]\n",
      "#####################\n",
      "TRAINING: [Iteracion:  1550  Costo:  0.22957365704785834  Accuracy: 0.9326086956521739  F1 Score: 0.9471890971039182 Precision training: 0.9114754098360656 Recall training: <function recall at 0x1136a5158> ]\n",
      "TEST: [Iteracion:  1550 Accuracy: 0.9370629370629371  F1 Score: 0.9518716577540107 Precision Test: 0.9175257731958762 Recall Test: 0.9888888888888889 ]\n",
      "#####################\n",
      "TRAINING: [Iteracion:  1600  Costo:  0.22695624838170594  Accuracy: 0.9326086956521739  F1 Score: 0.9471890971039182 Precision training: 0.9114754098360656 Recall training: <function recall at 0x1136a5158> ]\n",
      "TEST: [Iteracion:  1600 Accuracy: 0.9370629370629371  F1 Score: 0.9518716577540107 Precision Test: 0.9175257731958762 Recall Test: 0.9888888888888889 ]\n",
      "#####################\n",
      "TRAINING: [Iteracion:  1650  Costo:  0.22448782094557584  Accuracy: 0.9326086956521739  F1 Score: 0.9471890971039182 Precision training: 0.9114754098360656 Recall training: <function recall at 0x1136a5158> ]\n",
      "TEST: [Iteracion:  1650 Accuracy: 0.9230769230769231  F1 Score: 0.9405405405405406 Precision Test: 0.9157894736842105 Recall Test: 0.9666666666666667 ]\n",
      "#####################\n",
      "TRAINING: [Iteracion:  1700  Costo:  0.22215529412929147  Accuracy: 0.9326086956521739  F1 Score: 0.9471890971039182 Precision training: 0.9114754098360656 Recall training: <function recall at 0x1136a5158> ]\n",
      "TEST: [Iteracion:  1700 Accuracy: 0.9230769230769231  F1 Score: 0.9405405405405406 Precision Test: 0.9157894736842105 Recall Test: 0.9666666666666667 ]\n",
      "#####################\n",
      "TRAINING: [Iteracion:  1750  Costo:  0.21994713328564877  Accuracy: 0.9326086956521739  F1 Score: 0.9471890971039182 Precision training: 0.9114754098360656 Recall training: <function recall at 0x1136a5158> ]\n",
      "TEST: [Iteracion:  1750 Accuracy: 0.9230769230769231  F1 Score: 0.9405405405405406 Precision Test: 0.9157894736842105 Recall Test: 0.9666666666666667 ]\n",
      "#####################\n",
      "TRAINING: [Iteracion:  1800  Costo:  0.21785312263803863  Accuracy: 0.9326086956521739  F1 Score: 0.9471890971039182 Precision training: 0.9114754098360656 Recall training: <function recall at 0x1136a5158> ]\n",
      "TEST: [Iteracion:  1800 Accuracy: 0.9230769230769231  F1 Score: 0.9405405405405406 Precision Test: 0.9157894736842105 Recall Test: 0.9666666666666667 ]\n",
      "#####################\n",
      "TRAINING: [Iteracion:  1850  Costo:  0.21586417762853963  Accuracy: 0.9347826086956522  F1 Score: 0.9488054607508533 Precision training: 0.9144736842105263 Recall training: <function recall at 0x1136a5158> ]\n",
      "TEST: [Iteracion:  1850 Accuracy: 0.9230769230769231  F1 Score: 0.9405405405405406 Precision Test: 0.9157894736842105 Recall Test: 0.9666666666666667 ]\n",
      "#####################\n",
      "TRAINING: [Iteracion:  1900  Costo:  0.21397218887347613  Accuracy: 0.9369565217391305  F1 Score: 0.9504273504273505 Precision training: 0.9174917491749175 Recall training: <function recall at 0x1136a5158> ]\n",
      "TEST: [Iteracion:  1900 Accuracy: 0.9230769230769231  F1 Score: 0.9405405405405406 Precision Test: 0.9157894736842105 Recall Test: 0.9666666666666667 ]\n",
      "#####################\n",
      "TRAINING: [Iteracion:  1950  Costo:  0.21216989163102812  Accuracy: 0.9369565217391305  F1 Score: 0.9504273504273505 Precision training: 0.9174917491749175 Recall training: <function recall at 0x1136a5158> ]\n",
      "TEST: [Iteracion:  1950 Accuracy: 0.9230769230769231  F1 Score: 0.9405405405405406 Precision Test: 0.9157894736842105 Recall Test: 0.9666666666666667 ]\n"
     ]
    },
    {
     "data": {
      "image/png": "[encoded data removed]",
      "text/plain": [
       "<matplotlib.figure.Figure at 0x11857bf60>"
      ]
     },
     "metadata": {},
     "output_type": "display_data"
    }
   ],
   "source": [
    "## Llama a la funcion de gradient descent, recurda definir un nombre diferente para el modelo (~1 linea) ##\n",
    "modelo_5_theta_values, cost_vect, acc_vect, acc_vect_test = "
   ]
  },
  {
   "cell_type": "code",
   "execution_count": null,
   "metadata": {},
   "outputs": [],
   "source": [
    "## Funcion para graficar el costo y  accuracy durante cada iteracion ##\n",
    "helper.training_graph(cost_vect, acc_vect, acc_vect_test)"
   ]
  },
  {
   "cell_type": "markdown",
   "metadata": {},
   "source": [
    "#### Accuracy con el Test set [Modelo 5]"
   ]
  },
  {
   "cell_type": "code",
   "execution_count": 66,
   "metadata": {},
   "outputs": [],
   "source": [
    "y_predict = prediccion(X_test_features, modelo_4_theta_values, True)"
   ]
  },
  {
   "cell_type": "code",
   "execution_count": 67,
   "metadata": {
    "scrolled": false
   },
   "outputs": [
    {
     "name": "stdout",
     "output_type": "stream",
     "text": [
      "Accuracy: 91.6083916083916 %\n"
     ]
    }
   ],
   "source": [
    "print('Accuracy:',accuracy_score(y_test, y_predict)* 100 ,'%')"
   ]
  },
  {
   "cell_type": "markdown",
   "metadata": {},
   "source": [
    "#### Matriz de confusion Test Set [Modelo 5]"
   ]
  },
  {
   "cell_type": "code",
   "execution_count": 68,
   "metadata": {
    "scrolled": true
   },
   "outputs": [
    {
     "data": {
      "text/plain": [
       "array([[45,  8],\n",
       "       [ 4, 86]])"
      ]
     },
     "execution_count": 68,
     "metadata": {},
     "output_type": "execute_result"
    }
   ],
   "source": [
    "confusion_matrix(y_test, y_predict)"
   ]
  },
  {
   "cell_type": "code",
   "execution_count": 69,
   "metadata": {},
   "outputs": [
    {
     "name": "stdout",
     "output_type": "stream",
     "text": [
      "precision:  0.9148936170212766\n",
      "recall:  0.9555555555555556\n"
     ]
    }
   ],
   "source": [
    "print('precision: ',precision_score(y_test, y_predict))\n",
    "\n",
    "print('recall: ', recall_score(y_test, y_predict))"
   ]
  },
  {
   "cell_type": "markdown",
   "metadata": {},
   "source": [
    "# Comparacion de Modelos\n",
    "Es importante llevar un registro de los resultados de nuestros modelos y los hyperparametros que utilizamos, para ir comparando y ajustando los modelos. En nuestra función de gradient descent esta implementado un registro, que almacena cada ejecucion de la funcion.\n",
    "\n",
    "Este registro almacena datos que nos van a servir para comprar los modelos y tambien almacena los valores theta del modelo, por lo que podemos guardar los modelos y utlizarlos despues.\n",
    "A continuacion vamos a desplegar en la siguiente celta y nos va ayudar a tomar una decisión de cual es el mejor modelo.\n",
    "\n",
    "Es recomendable que, luego de analizar los resultados del registro ejecutemos de nuevo alguno de los modelos cambiando los hyperparametros o numero de ejemplos y ver con cuales obtenemos mejores resultados.\n",
    "\n",
    "Podemos ejecutar la funcion `helper.guardar_log_book(log_book)` para almacenar en disco los modelos.\n",
    "\n",
    "Para el ultimo paso donde exportamos el modelo debemos utilizar la funcion `helper.filter_log_book(log_book, nombre_modelo)` para obtener el mejor modelo y exportalo."
   ]
  },
  {
   "cell_type": "code",
   "execution_count": 70,
   "metadata": {},
   "outputs": [
    {
     "data": {
      "text/html": [
       "<div>\n",
       "<style scoped>\n",
       "    .dataframe tbody tr th:only-of-type {\n",
       "        vertical-align: middle;\n",
       "    }\n",
       "\n",
       "    .dataframe tbody tr th {\n",
       "        vertical-align: top;\n",
       "    }\n",
       "\n",
       "    .dataframe thead th {\n",
       "        text-align: right;\n",
       "    }\n",
       "</style>\n",
       "<table border=\"1\" class=\"dataframe\">\n",
       "  <thead>\n",
       "    <tr style=\"text-align: right;\">\n",
       "      <th></th>\n",
       "      <th>Nombre Modelo</th>\n",
       "      <th>Numero de features</th>\n",
       "      <th>Numero de ejemplos</th>\n",
       "      <th>Alpha</th>\n",
       "      <th>Numero de Iteraciones</th>\n",
       "      <th>Accuracy Training</th>\n",
       "      <th>Accuracy Test</th>\n",
       "      <th>F1 score Test</th>\n",
       "      <th>Precision Test</th>\n",
       "      <th>Recall Test</th>\n",
       "    </tr>\n",
       "  </thead>\n",
       "  <tbody>\n",
       "    <tr>\n",
       "      <th>0</th>\n",
       "      <td>modelo_1_241301677789</td>\n",
       "      <td>2</td>\n",
       "      <td>150</td>\n",
       "      <td>0.010</td>\n",
       "      <td>500</td>\n",
       "      <td>0.846667</td>\n",
       "      <td>0.867133</td>\n",
       "      <td>0.901554</td>\n",
       "      <td>0.844660</td>\n",
       "      <td>0.966667</td>\n",
       "    </tr>\n",
       "    <tr>\n",
       "      <th>1</th>\n",
       "      <td>modelo_2_241301271440</td>\n",
       "      <td>3</td>\n",
       "      <td>400</td>\n",
       "      <td>0.050</td>\n",
       "      <td>1000</td>\n",
       "      <td>0.925000</td>\n",
       "      <td>0.888112</td>\n",
       "      <td>0.913043</td>\n",
       "      <td>0.893617</td>\n",
       "      <td>0.933333</td>\n",
       "    </tr>\n",
       "    <tr>\n",
       "      <th>2</th>\n",
       "      <td>modelo_3_241302648088</td>\n",
       "      <td>4</td>\n",
       "      <td>460</td>\n",
       "      <td>0.020</td>\n",
       "      <td>1500</td>\n",
       "      <td>0.889130</td>\n",
       "      <td>0.881119</td>\n",
       "      <td>0.909091</td>\n",
       "      <td>0.876289</td>\n",
       "      <td>0.944444</td>\n",
       "    </tr>\n",
       "    <tr>\n",
       "      <th>3</th>\n",
       "      <td>modelo_4_241302661042</td>\n",
       "      <td>5</td>\n",
       "      <td>460</td>\n",
       "      <td>0.030</td>\n",
       "      <td>1000</td>\n",
       "      <td>0.952174</td>\n",
       "      <td>0.916084</td>\n",
       "      <td>0.934783</td>\n",
       "      <td>0.914894</td>\n",
       "      <td>0.955556</td>\n",
       "    </tr>\n",
       "    <tr>\n",
       "      <th>4</th>\n",
       "      <td>modelo_5_241302513542</td>\n",
       "      <td>5</td>\n",
       "      <td>460</td>\n",
       "      <td>0.005</td>\n",
       "      <td>2000</td>\n",
       "      <td>0.939130</td>\n",
       "      <td>0.916084</td>\n",
       "      <td>0.934783</td>\n",
       "      <td>0.914894</td>\n",
       "      <td>0.955556</td>\n",
       "    </tr>\n",
       "  </tbody>\n",
       "</table>\n",
       "</div>"
      ],
      "text/plain": [
       "           Nombre Modelo Numero de features Numero de ejemplos  Alpha  \\\n",
       "0  modelo_1_241301677789                  2                150  0.010   \n",
       "1  modelo_2_241301271440                  3                400  0.050   \n",
       "2  modelo_3_241302648088                  4                460  0.020   \n",
       "3  modelo_4_241302661042                  5                460  0.030   \n",
       "4  modelo_5_241302513542                  5                460  0.005   \n",
       "\n",
       "  Numero de Iteraciones  Accuracy Training  Accuracy Test  F1 score Test  \\\n",
       "0                   500           0.846667       0.867133       0.901554   \n",
       "1                  1000           0.925000       0.888112       0.913043   \n",
       "2                  1500           0.889130       0.881119       0.909091   \n",
       "3                  1000           0.952174       0.916084       0.934783   \n",
       "4                  2000           0.939130       0.916084       0.934783   \n",
       "\n",
       "   Precision Test  Recall Test  \n",
       "0        0.844660     0.966667  \n",
       "1        0.893617     0.933333  \n",
       "2        0.876289     0.944444  \n",
       "3        0.914894     0.955556  \n",
       "4        0.914894     0.955556  "
      ]
     },
     "execution_count": 70,
     "metadata": {},
     "output_type": "execute_result"
    }
   ],
   "source": [
    "helper.print_log_book(log_book)"
   ]
  },
  {
   "cell_type": "markdown",
   "metadata": {},
   "source": [
    "### Guardando la bitacora"
   ]
  },
  {
   "cell_type": "code",
   "execution_count": 71,
   "metadata": {},
   "outputs": [],
   "source": [
    "helper.guardar_log_book(log_book)"
   ]
  },
  {
   "cell_type": "markdown",
   "metadata": {},
   "source": [
    "## Exportar el modelo\n",
    "\n",
    "Vamos a exportar el modelo para poder hacer deploy, ** el modelo debe tener las cinco primeras feautures **.\n",
    "\n",
    "Selecciona tu mejor modelo:"
   ]
  },
  {
   "cell_type": "markdown",
   "metadata": {},
   "source": [
    "### Seleccionamos el mejor modelo\n",
    "\n",
    "Para seleccionar un modelo utilizamos la funcion `helper.filter_log_book()`.\n",
    "\n",
    "Esta funcion recibe de parametros la bitacora y el nombre del modelo\n",
    "\n",
    "`helper.filter_log_book(log_book, <nombre de nuestro mejor modelo>)`"
   ]
  },
  {
   "cell_type": "code",
   "execution_count": 73,
   "metadata": {},
   "outputs": [
    {
     "name": "stdout",
     "output_type": "stream",
     "text": [
      "[-0.579942082118287, -0.5782684298041014, -0.8584656199514131, -0.9357509965462952, -0.6622850346447592, 0.5771268525195491]\n"
     ]
    }
   ],
   "source": [
    "### INICIO: TU CODIGO AQUI:  (~1 linea)###\n",
    "modelo = \n",
    "\n",
    "print(modelo)"
   ]
  },
  {
   "cell_type": "markdown",
   "metadata": {},
   "source": [
    "Se va a utilizar el siguiente codigo para guardar el modelo en un archivo.\n",
    "No hay que cambiar nada de codigo, solo hay que ejecutar la celda para exportar nuestro modelo"
   ]
  },
  {
   "cell_type": "code",
   "execution_count": 83,
   "metadata": {},
   "outputs": [],
   "source": [
    "import csv\n",
    "\n",
    "def exportar_modelo(model,carnet):\n",
    "    norm_std, norm_media = helper.get_normalizacion_vales(X_train[:,0:5])\n",
    "    with open(carnet + '_model.csv', 'w') as csvfile:\n",
    "        filewriter = csv.writer(csvfile, delimiter=',',quotechar='|', quoting=csv.QUOTE_MINIMAL)\n",
    "        filewriter.writerow(model)\n",
    "        \n",
    "    with open(carnet + '_momentos.csv', 'w') as csvfile:\n",
    "        filewriter = csv.writer(csvfile, delimiter=',',quotechar='|', quoting=csv.QUOTE_MINIMAL)\n",
    "        filewriter.writerow(norm_std)\n",
    "        filewriter.writerow(norm_media)\n",
    "        \n",
    "    print('El modelo ha sido exportado [',csvfile.name,']')\n",
    "    \n",
    "exportar_modelo(modelo,carnet)"
   ]
  },
  {
   "cell_type": "markdown",
   "metadata": {},
   "source": [
    "<img src=\"images/ai_cancer.png\" width=\"700\">"
   ]
  },
  {
   "cell_type": "code",
   "execution_count": null,
   "metadata": {},
   "outputs": [],
   "source": []
  }
 ],
 "metadata": {
  "kernelspec": {
   "display_name": "Python 3",
   "language": "python",
   "name": "python3"
  },
  "language_info": {
   "codemirror_mode": {
    "name": "ipython",
    "version": 3
   },
   "file_extension": ".py",
   "mimetype": "text/x-python",
   "name": "python",
   "nbconvert_exporter": "python",
   "pygments_lexer": "ipython3",
   "version": "3.6.4"
  }
 },
 "nbformat": 4,
 "nbformat_minor": 2
}
