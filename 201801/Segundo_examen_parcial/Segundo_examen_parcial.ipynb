{
 "cells": [
  {
   "cell_type": "markdown",
   "metadata": {},
   "source": [
    "# Segundo examen parcial"
   ]
  },
  {
   "cell_type": "code",
   "execution_count": 33,
   "metadata": {},
   "outputs": [],
   "source": [
    "from sklearn import datasets\n",
    "from sklearn.linear_model import LogisticRegression \n",
    "from sklearn.neighbors import KNeighborsClassifier\n",
    "from sklearn.tree import DecisionTreeClassifier, export_graphviz\n",
    "from sklearn.metrics import accuracy_score\n",
    "from sklearn import metrics\n",
    "import numpy as np\n",
    "import graphviz"
   ]
  },
  {
   "cell_type": "markdown",
   "metadata": {},
   "source": [
    "## Cargamos el set de datos"
   ]
  },
  {
   "cell_type": "code",
   "execution_count": 4,
   "metadata": {},
   "outputs": [],
   "source": [
    "iris_data = datasets.load_iris()"
   ]
  },
  {
   "cell_type": "code",
   "execution_count": 5,
   "metadata": {},
   "outputs": [],
   "source": [
    "X_train = iris_data.data\n",
    "Y_train = iris_data.target"
   ]
  },
  {
   "cell_type": "markdown",
   "metadata": {},
   "source": [
    "## k-nearest neighbors"
   ]
  },
  {
   "cell_type": "code",
   "execution_count": 6,
   "metadata": {},
   "outputs": [
    {
     "data": {
      "text/plain": [
       "KNeighborsClassifier(algorithm='auto', leaf_size=30, metric='minkowski',\n",
       "           metric_params=None, n_jobs=1, n_neighbors=5, p=2,\n",
       "           weights='uniform')"
      ]
     },
     "execution_count": 6,
     "metadata": {},
     "output_type": "execute_result"
    }
   ],
   "source": [
    "#### INGRESA TU CODIGO AQUI  ~ 2 lineas de codigo ######\n",
    "kneigh = \n"
   ]
  },
  {
   "cell_type": "markdown",
   "metadata": {},
   "source": [
    "### Accuracy"
   ]
  },
  {
   "cell_type": "code",
   "execution_count": 41,
   "metadata": {},
   "outputs": [
    {
     "data": {
      "text/plain": [
       "0.9666666666666667"
      ]
     },
     "execution_count": 41,
     "metadata": {},
     "output_type": "execute_result"
    }
   ],
   "source": [
    "## EJECUTA LA CELDA, NO HAY QUE CAMBIAR NADA ##\n",
    "y_pred = kneigh.predict(X_train)\n",
    "\n",
    "accuracy_score(Y_train, y_pred)"
   ]
  },
  {
   "cell_type": "markdown",
   "metadata": {},
   "source": [
    "# Regresion logistica"
   ]
  },
  {
   "cell_type": "code",
   "execution_count": 7,
   "metadata": {},
   "outputs": [],
   "source": [
    "## Ingresa el numero de iteraciones ##\n",
    "numero_maximo_iteraciones = "
   ]
  },
  {
   "cell_type": "code",
   "execution_count": 8,
   "metadata": {},
   "outputs": [
    {
     "data": {
      "text/plain": [
       "LogisticRegression(C=1.0, class_weight=None, dual=False, fit_intercept=True,\n",
       "          intercept_scaling=1, max_iter=200, multi_class='ovr', n_jobs=1,\n",
       "          penalty='l2', random_state=None, solver='liblinear', tol=0.0001,\n",
       "          verbose=0, warm_start=False)"
      ]
     },
     "execution_count": 8,
     "metadata": {},
     "output_type": "execute_result"
    }
   ],
   "source": [
    "#### INGRESA TU CODIGO AQUI  ~ 2 lineas de codigo ######\n",
    "## utiliza la variable numero_maximo_iteraciones ##\n",
    "logistic_classifier = "
   ]
  },
  {
   "cell_type": "markdown",
   "metadata": {},
   "source": [
    "### Accuracy"
   ]
  },
  {
   "cell_type": "code",
   "execution_count": 42,
   "metadata": {},
   "outputs": [
    {
     "data": {
      "text/plain": [
       "0.96"
      ]
     },
     "execution_count": 42,
     "metadata": {},
     "output_type": "execute_result"
    }
   ],
   "source": [
    "y_pred = logistic_classifier.predict(X_train)\n",
    "\n",
    "## Imprime el accuracy para el modelo de regresion logistica ##\n",
    "#### INGRESA TU CODIGO AQUI  ~ 1 linea de codigo ######\n"
   ]
  },
  {
   "cell_type": "markdown",
   "metadata": {},
   "source": [
    "# Desicion trees\n",
    "\n",
    "** Importante: ** Tener instalado el paquete graphviz"
   ]
  },
  {
   "cell_type": "code",
   "execution_count": 9,
   "metadata": {},
   "outputs": [
    {
     "data": {
      "text/plain": [
       "DecisionTreeClassifier(class_weight=None, criterion='gini', max_depth=None,\n",
       "            max_features=None, max_leaf_nodes=None,\n",
       "            min_impurity_decrease=0.0, min_impurity_split=None,\n",
       "            min_samples_leaf=1, min_samples_split=2,\n",
       "            min_weight_fraction_leaf=0.0, presort=False, random_state=None,\n",
       "            splitter='best')"
      ]
     },
     "execution_count": 9,
     "metadata": {},
     "output_type": "execute_result"
    }
   ],
   "source": [
    "#### INGRESA TU CODIGO AQUI  ~ 2 lineas de codigo ######\n",
    "decision_tree = "
   ]
  },
  {
   "cell_type": "markdown",
   "metadata": {},
   "source": [
    "### Accuracy"
   ]
  },
  {
   "cell_type": "code",
   "execution_count": 43,
   "metadata": {},
   "outputs": [
    {
     "data": {
      "text/plain": [
       "1.0"
      ]
     },
     "execution_count": 43,
     "metadata": {},
     "output_type": "execute_result"
    }
   ],
   "source": [
    "## Imprime el accuracy para el desicion tree ##\n",
    "#### INGRESA TU CODIGO AQUI  ~ 2 lineas de codigo ######\n",
    "y_pred = \n",
    "\n"
   ]
  },
  {
   "cell_type": "markdown",
   "metadata": {},
   "source": [
    "### Visualiza el desicion tree\n",
    "\n",
    "En la siguiente celda imprime el desicion tree, como lo vimos en la clase.\n",
    "Puedes consultar [aqui](https://youtu.be/axCtUSHe30Y?t=1180)"
   ]
  },
  {
   "cell_type": "code",
   "execution_count": 11,
   "metadata": {},
   "outputs": [
    {
     "data": {
      "image/svg+xml": [
       "<?xml version=\"1.0\" encoding=\"UTF-8\" standalone=\"no\"?>\n",
       "<!DOCTYPE svg PUBLIC \"-//W3C//DTD SVG 1.1//EN\"\n",
       " \"http://www.w3.org/Graphics/SVG/1.1/DTD/svg11.dtd\">\n",
       "<!-- Generated by graphviz version 2.40.1 (20161225.0304)\n",
       " -->\n",
       "<!-- Title: Tree Pages: 1 -->\n",
       "<svg width=\"613pt\" height=\"581pt\"\n",
       " viewBox=\"0.00 0.00 613.00 581.00\" xmlns=\"http://www.w3.org/2000/svg\" xmlns:xlink=\"http://www.w3.org/1999/xlink\">\n",
       "<g id=\"graph0\" class=\"graph\" transform=\"scale(1 1) rotate(0) translate(4 577)\">\n",
       "<title>Tree</title>\n",
       "<polygon fill=\"#ffffff\" stroke=\"transparent\" points=\"-4,4 -4,-577 609,-577 609,4 -4,4\"/>\n",
       "<!-- 0 -->\n",
       "<g id=\"node1\" class=\"node\">\n",
       "<title>0</title>\n",
       "<polygon fill=\"none\" stroke=\"#000000\" points=\"373,-573 274,-573 274,-505 373,-505 373,-573\"/>\n",
       "<text text-anchor=\"middle\" x=\"323.5\" y=\"-557.8\" font-family=\"Times,serif\" font-size=\"14.00\" fill=\"#000000\">X[2] &lt;= 2.45</text>\n",
       "<text text-anchor=\"middle\" x=\"323.5\" y=\"-542.8\" font-family=\"Times,serif\" font-size=\"14.00\" fill=\"#000000\">gini = 0.667</text>\n",
       "<text text-anchor=\"middle\" x=\"323.5\" y=\"-527.8\" font-family=\"Times,serif\" font-size=\"14.00\" fill=\"#000000\">samples = 150</text>\n",
       "<text text-anchor=\"middle\" x=\"323.5\" y=\"-512.8\" font-family=\"Times,serif\" font-size=\"14.00\" fill=\"#000000\">value = [50, 50, 50]</text>\n",
       "</g>\n",
       "<!-- 1 -->\n",
       "<g id=\"node2\" class=\"node\">\n",
       "<title>1</title>\n",
       "<polygon fill=\"none\" stroke=\"#000000\" points=\"313,-461.5 224,-461.5 224,-408.5 313,-408.5 313,-461.5\"/>\n",
       "<text text-anchor=\"middle\" x=\"268.5\" y=\"-446.3\" font-family=\"Times,serif\" font-size=\"14.00\" fill=\"#000000\">gini = 0.0</text>\n",
       "<text text-anchor=\"middle\" x=\"268.5\" y=\"-431.3\" font-family=\"Times,serif\" font-size=\"14.00\" fill=\"#000000\">samples = 50</text>\n",
       "<text text-anchor=\"middle\" x=\"268.5\" y=\"-416.3\" font-family=\"Times,serif\" font-size=\"14.00\" fill=\"#000000\">value = [50, 0, 0]</text>\n",
       "</g>\n",
       "<!-- 0&#45;&gt;1 -->\n",
       "<g id=\"edge1\" class=\"edge\">\n",
       "<title>0&#45;&gt;1</title>\n",
       "<path fill=\"none\" stroke=\"#000000\" d=\"M305.4909,-504.9465C299.6658,-493.9316 293.193,-481.6922 287.3112,-470.5703\"/>\n",
       "<polygon fill=\"#000000\" stroke=\"#000000\" points=\"290.3057,-468.7459 282.5367,-461.5422 284.1178,-472.0184 290.3057,-468.7459\"/>\n",
       "<text text-anchor=\"middle\" x=\"275.174\" y=\"-481.7334\" font-family=\"Times,serif\" font-size=\"14.00\" fill=\"#000000\">True</text>\n",
       "</g>\n",
       "<!-- 2 -->\n",
       "<g id=\"node3\" class=\"node\">\n",
       "<title>2</title>\n",
       "<polygon fill=\"none\" stroke=\"#000000\" points=\"425.5,-469 331.5,-469 331.5,-401 425.5,-401 425.5,-469\"/>\n",
       "<text text-anchor=\"middle\" x=\"378.5\" y=\"-453.8\" font-family=\"Times,serif\" font-size=\"14.00\" fill=\"#000000\">X[3] &lt;= 1.75</text>\n",
       "<text text-anchor=\"middle\" x=\"378.5\" y=\"-438.8\" font-family=\"Times,serif\" font-size=\"14.00\" fill=\"#000000\">gini = 0.5</text>\n",
       "<text text-anchor=\"middle\" x=\"378.5\" y=\"-423.8\" font-family=\"Times,serif\" font-size=\"14.00\" fill=\"#000000\">samples = 100</text>\n",
       "<text text-anchor=\"middle\" x=\"378.5\" y=\"-408.8\" font-family=\"Times,serif\" font-size=\"14.00\" fill=\"#000000\">value = [0, 50, 50]</text>\n",
       "</g>\n",
       "<!-- 0&#45;&gt;2 -->\n",
       "<g id=\"edge2\" class=\"edge\">\n",
       "<title>0&#45;&gt;2</title>\n",
       "<path fill=\"none\" stroke=\"#000000\" d=\"M341.5091,-504.9465C346.0199,-496.4169 350.9191,-487.153 355.6314,-478.2424\"/>\n",
       "<polygon fill=\"#000000\" stroke=\"#000000\" points=\"358.8694,-479.6062 360.4505,-469.13 352.6815,-476.3337 358.8694,-479.6062\"/>\n",
       "<text text-anchor=\"middle\" x=\"367.8132\" y=\"-489.3212\" font-family=\"Times,serif\" font-size=\"14.00\" fill=\"#000000\">False</text>\n",
       "</g>\n",
       "<!-- 3 -->\n",
       "<g id=\"node4\" class=\"node\">\n",
       "<title>3</title>\n",
       "<polygon fill=\"none\" stroke=\"#000000\" points=\"346,-365 257,-365 257,-297 346,-297 346,-365\"/>\n",
       "<text text-anchor=\"middle\" x=\"301.5\" y=\"-349.8\" font-family=\"Times,serif\" font-size=\"14.00\" fill=\"#000000\">X[2] &lt;= 4.95</text>\n",
       "<text text-anchor=\"middle\" x=\"301.5\" y=\"-334.8\" font-family=\"Times,serif\" font-size=\"14.00\" fill=\"#000000\">gini = 0.168</text>\n",
       "<text text-anchor=\"middle\" x=\"301.5\" y=\"-319.8\" font-family=\"Times,serif\" font-size=\"14.00\" fill=\"#000000\">samples = 54</text>\n",
       "<text text-anchor=\"middle\" x=\"301.5\" y=\"-304.8\" font-family=\"Times,serif\" font-size=\"14.00\" fill=\"#000000\">value = [0, 49, 5]</text>\n",
       "</g>\n",
       "<!-- 2&#45;&gt;3 -->\n",
       "<g id=\"edge3\" class=\"edge\">\n",
       "<title>2&#45;&gt;3</title>\n",
       "<path fill=\"none\" stroke=\"#000000\" d=\"M353.2873,-400.9465C346.7727,-392.1475 339.6795,-382.5672 332.8918,-373.3993\"/>\n",
       "<polygon fill=\"#000000\" stroke=\"#000000\" points=\"335.5327,-371.0843 326.7693,-365.13 329.9069,-375.2496 335.5327,-371.0843\"/>\n",
       "</g>\n",
       "<!-- 12 -->\n",
       "<g id=\"node13\" class=\"node\">\n",
       "<title>12</title>\n",
       "<polygon fill=\"none\" stroke=\"#000000\" points=\"500,-365 411,-365 411,-297 500,-297 500,-365\"/>\n",
       "<text text-anchor=\"middle\" x=\"455.5\" y=\"-349.8\" font-family=\"Times,serif\" font-size=\"14.00\" fill=\"#000000\">X[2] &lt;= 4.85</text>\n",
       "<text text-anchor=\"middle\" x=\"455.5\" y=\"-334.8\" font-family=\"Times,serif\" font-size=\"14.00\" fill=\"#000000\">gini = 0.043</text>\n",
       "<text text-anchor=\"middle\" x=\"455.5\" y=\"-319.8\" font-family=\"Times,serif\" font-size=\"14.00\" fill=\"#000000\">samples = 46</text>\n",
       "<text text-anchor=\"middle\" x=\"455.5\" y=\"-304.8\" font-family=\"Times,serif\" font-size=\"14.00\" fill=\"#000000\">value = [0, 1, 45]</text>\n",
       "</g>\n",
       "<!-- 2&#45;&gt;12 -->\n",
       "<g id=\"edge12\" class=\"edge\">\n",
       "<title>2&#45;&gt;12</title>\n",
       "<path fill=\"none\" stroke=\"#000000\" d=\"M403.7127,-400.9465C410.2273,-392.1475 417.3205,-382.5672 424.1082,-373.3993\"/>\n",
       "<polygon fill=\"#000000\" stroke=\"#000000\" points=\"427.0931,-375.2496 430.2307,-365.13 421.4673,-371.0843 427.0931,-375.2496\"/>\n",
       "</g>\n",
       "<!-- 4 -->\n",
       "<g id=\"node5\" class=\"node\">\n",
       "<title>4</title>\n",
       "<polygon fill=\"none\" stroke=\"#000000\" points=\"194,-261 105,-261 105,-193 194,-193 194,-261\"/>\n",
       "<text text-anchor=\"middle\" x=\"149.5\" y=\"-245.8\" font-family=\"Times,serif\" font-size=\"14.00\" fill=\"#000000\">X[3] &lt;= 1.65</text>\n",
       "<text text-anchor=\"middle\" x=\"149.5\" y=\"-230.8\" font-family=\"Times,serif\" font-size=\"14.00\" fill=\"#000000\">gini = 0.041</text>\n",
       "<text text-anchor=\"middle\" x=\"149.5\" y=\"-215.8\" font-family=\"Times,serif\" font-size=\"14.00\" fill=\"#000000\">samples = 48</text>\n",
       "<text text-anchor=\"middle\" x=\"149.5\" y=\"-200.8\" font-family=\"Times,serif\" font-size=\"14.00\" fill=\"#000000\">value = [0, 47, 1]</text>\n",
       "</g>\n",
       "<!-- 3&#45;&gt;4 -->\n",
       "<g id=\"edge4\" class=\"edge\">\n",
       "<title>3&#45;&gt;4</title>\n",
       "<path fill=\"none\" stroke=\"#000000\" d=\"M256.7171,-300.3591C239.7845,-288.7736 220.3496,-275.476 202.7174,-263.4119\"/>\n",
       "<polygon fill=\"#000000\" stroke=\"#000000\" points=\"204.4547,-260.3598 194.2252,-257.6015 200.5019,-266.1369 204.4547,-260.3598\"/>\n",
       "</g>\n",
       "<!-- 7 -->\n",
       "<g id=\"node8\" class=\"node\">\n",
       "<title>7</title>\n",
       "<polygon fill=\"none\" stroke=\"#000000\" points=\"343.5,-261 259.5,-261 259.5,-193 343.5,-193 343.5,-261\"/>\n",
       "<text text-anchor=\"middle\" x=\"301.5\" y=\"-245.8\" font-family=\"Times,serif\" font-size=\"14.00\" fill=\"#000000\">X[3] &lt;= 1.55</text>\n",
       "<text text-anchor=\"middle\" x=\"301.5\" y=\"-230.8\" font-family=\"Times,serif\" font-size=\"14.00\" fill=\"#000000\">gini = 0.444</text>\n",
       "<text text-anchor=\"middle\" x=\"301.5\" y=\"-215.8\" font-family=\"Times,serif\" font-size=\"14.00\" fill=\"#000000\">samples = 6</text>\n",
       "<text text-anchor=\"middle\" x=\"301.5\" y=\"-200.8\" font-family=\"Times,serif\" font-size=\"14.00\" fill=\"#000000\">value = [0, 2, 4]</text>\n",
       "</g>\n",
       "<!-- 3&#45;&gt;7 -->\n",
       "<g id=\"edge7\" class=\"edge\">\n",
       "<title>3&#45;&gt;7</title>\n",
       "<path fill=\"none\" stroke=\"#000000\" d=\"M301.5,-296.9465C301.5,-288.776 301.5,-279.9318 301.5,-271.3697\"/>\n",
       "<polygon fill=\"#000000\" stroke=\"#000000\" points=\"305.0001,-271.13 301.5,-261.13 298.0001,-271.13 305.0001,-271.13\"/>\n",
       "</g>\n",
       "<!-- 5 -->\n",
       "<g id=\"node6\" class=\"node\">\n",
       "<title>5</title>\n",
       "<polygon fill=\"none\" stroke=\"#000000\" points=\"89,-149.5 0,-149.5 0,-96.5 89,-96.5 89,-149.5\"/>\n",
       "<text text-anchor=\"middle\" x=\"44.5\" y=\"-134.3\" font-family=\"Times,serif\" font-size=\"14.00\" fill=\"#000000\">gini = 0.0</text>\n",
       "<text text-anchor=\"middle\" x=\"44.5\" y=\"-119.3\" font-family=\"Times,serif\" font-size=\"14.00\" fill=\"#000000\">samples = 47</text>\n",
       "<text text-anchor=\"middle\" x=\"44.5\" y=\"-104.3\" font-family=\"Times,serif\" font-size=\"14.00\" fill=\"#000000\">value = [0, 47, 0]</text>\n",
       "</g>\n",
       "<!-- 4&#45;&gt;5 -->\n",
       "<g id=\"edge5\" class=\"edge\">\n",
       "<title>4&#45;&gt;5</title>\n",
       "<path fill=\"none\" stroke=\"#000000\" d=\"M115.1191,-192.9465C103.331,-181.2707 90.1538,-168.219 78.4038,-156.5809\"/>\n",
       "<polygon fill=\"#000000\" stroke=\"#000000\" points=\"80.8652,-154.0927 71.2974,-149.5422 75.9392,-159.066 80.8652,-154.0927\"/>\n",
       "</g>\n",
       "<!-- 6 -->\n",
       "<g id=\"node7\" class=\"node\">\n",
       "<title>6</title>\n",
       "<polygon fill=\"none\" stroke=\"#000000\" points=\"191.5,-149.5 107.5,-149.5 107.5,-96.5 191.5,-96.5 191.5,-149.5\"/>\n",
       "<text text-anchor=\"middle\" x=\"149.5\" y=\"-134.3\" font-family=\"Times,serif\" font-size=\"14.00\" fill=\"#000000\">gini = 0.0</text>\n",
       "<text text-anchor=\"middle\" x=\"149.5\" y=\"-119.3\" font-family=\"Times,serif\" font-size=\"14.00\" fill=\"#000000\">samples = 1</text>\n",
       "<text text-anchor=\"middle\" x=\"149.5\" y=\"-104.3\" font-family=\"Times,serif\" font-size=\"14.00\" fill=\"#000000\">value = [0, 0, 1]</text>\n",
       "</g>\n",
       "<!-- 4&#45;&gt;6 -->\n",
       "<g id=\"edge6\" class=\"edge\">\n",
       "<title>4&#45;&gt;6</title>\n",
       "<path fill=\"none\" stroke=\"#000000\" d=\"M149.5,-192.9465C149.5,-182.2621 149.5,-170.4254 149.5,-159.5742\"/>\n",
       "<polygon fill=\"#000000\" stroke=\"#000000\" points=\"153.0001,-159.5421 149.5,-149.5422 146.0001,-159.5422 153.0001,-159.5421\"/>\n",
       "</g>\n",
       "<!-- 8 -->\n",
       "<g id=\"node9\" class=\"node\">\n",
       "<title>8</title>\n",
       "<polygon fill=\"none\" stroke=\"#000000\" points=\"293.5,-149.5 209.5,-149.5 209.5,-96.5 293.5,-96.5 293.5,-149.5\"/>\n",
       "<text text-anchor=\"middle\" x=\"251.5\" y=\"-134.3\" font-family=\"Times,serif\" font-size=\"14.00\" fill=\"#000000\">gini = 0.0</text>\n",
       "<text text-anchor=\"middle\" x=\"251.5\" y=\"-119.3\" font-family=\"Times,serif\" font-size=\"14.00\" fill=\"#000000\">samples = 3</text>\n",
       "<text text-anchor=\"middle\" x=\"251.5\" y=\"-104.3\" font-family=\"Times,serif\" font-size=\"14.00\" fill=\"#000000\">value = [0, 0, 3]</text>\n",
       "</g>\n",
       "<!-- 7&#45;&gt;8 -->\n",
       "<g id=\"edge8\" class=\"edge\">\n",
       "<title>7&#45;&gt;8</title>\n",
       "<path fill=\"none\" stroke=\"#000000\" d=\"M285.1281,-192.9465C279.8325,-181.9316 273.9482,-169.6922 268.6011,-158.5703\"/>\n",
       "<polygon fill=\"#000000\" stroke=\"#000000\" points=\"271.748,-157.0381 264.2607,-149.5422 265.4393,-160.0712 271.748,-157.0381\"/>\n",
       "</g>\n",
       "<!-- 9 -->\n",
       "<g id=\"node10\" class=\"node\">\n",
       "<title>9</title>\n",
       "<polygon fill=\"none\" stroke=\"#000000\" points=\"395.5,-157 311.5,-157 311.5,-89 395.5,-89 395.5,-157\"/>\n",
       "<text text-anchor=\"middle\" x=\"353.5\" y=\"-141.8\" font-family=\"Times,serif\" font-size=\"14.00\" fill=\"#000000\">X[2] &lt;= 5.45</text>\n",
       "<text text-anchor=\"middle\" x=\"353.5\" y=\"-126.8\" font-family=\"Times,serif\" font-size=\"14.00\" fill=\"#000000\">gini = 0.444</text>\n",
       "<text text-anchor=\"middle\" x=\"353.5\" y=\"-111.8\" font-family=\"Times,serif\" font-size=\"14.00\" fill=\"#000000\">samples = 3</text>\n",
       "<text text-anchor=\"middle\" x=\"353.5\" y=\"-96.8\" font-family=\"Times,serif\" font-size=\"14.00\" fill=\"#000000\">value = [0, 2, 1]</text>\n",
       "</g>\n",
       "<!-- 7&#45;&gt;9 -->\n",
       "<g id=\"edge9\" class=\"edge\">\n",
       "<title>7&#45;&gt;9</title>\n",
       "<path fill=\"none\" stroke=\"#000000\" d=\"M318.5267,-192.9465C322.7915,-184.4169 327.4235,-175.153 331.8788,-166.2424\"/>\n",
       "<polygon fill=\"#000000\" stroke=\"#000000\" points=\"335.0933,-167.6395 336.435,-157.13 328.8323,-164.509 335.0933,-167.6395\"/>\n",
       "</g>\n",
       "<!-- 10 -->\n",
       "<g id=\"node11\" class=\"node\">\n",
       "<title>10</title>\n",
       "<polygon fill=\"none\" stroke=\"#000000\" points=\"344.5,-53 260.5,-53 260.5,0 344.5,0 344.5,-53\"/>\n",
       "<text text-anchor=\"middle\" x=\"302.5\" y=\"-37.8\" font-family=\"Times,serif\" font-size=\"14.00\" fill=\"#000000\">gini = 0.0</text>\n",
       "<text text-anchor=\"middle\" x=\"302.5\" y=\"-22.8\" font-family=\"Times,serif\" font-size=\"14.00\" fill=\"#000000\">samples = 2</text>\n",
       "<text text-anchor=\"middle\" x=\"302.5\" y=\"-7.8\" font-family=\"Times,serif\" font-size=\"14.00\" fill=\"#000000\">value = [0, 2, 0]</text>\n",
       "</g>\n",
       "<!-- 9&#45;&gt;10 -->\n",
       "<g id=\"edge10\" class=\"edge\">\n",
       "<title>9&#45;&gt;10</title>\n",
       "<path fill=\"none\" stroke=\"#000000\" d=\"M335.5193,-88.9777C330.9218,-80.2786 325.9663,-70.9018 321.3275,-62.1247\"/>\n",
       "<polygon fill=\"#000000\" stroke=\"#000000\" points=\"324.4035,-60.4543 316.6365,-53.2485 318.2147,-63.7251 324.4035,-60.4543\"/>\n",
       "</g>\n",
       "<!-- 11 -->\n",
       "<g id=\"node12\" class=\"node\">\n",
       "<title>11</title>\n",
       "<polygon fill=\"none\" stroke=\"#000000\" points=\"446.5,-53 362.5,-53 362.5,0 446.5,0 446.5,-53\"/>\n",
       "<text text-anchor=\"middle\" x=\"404.5\" y=\"-37.8\" font-family=\"Times,serif\" font-size=\"14.00\" fill=\"#000000\">gini = 0.0</text>\n",
       "<text text-anchor=\"middle\" x=\"404.5\" y=\"-22.8\" font-family=\"Times,serif\" font-size=\"14.00\" fill=\"#000000\">samples = 1</text>\n",
       "<text text-anchor=\"middle\" x=\"404.5\" y=\"-7.8\" font-family=\"Times,serif\" font-size=\"14.00\" fill=\"#000000\">value = [0, 0, 1]</text>\n",
       "</g>\n",
       "<!-- 9&#45;&gt;11 -->\n",
       "<g id=\"edge11\" class=\"edge\">\n",
       "<title>9&#45;&gt;11</title>\n",
       "<path fill=\"none\" stroke=\"#000000\" d=\"M371.4807,-88.9777C376.0782,-80.2786 381.0337,-70.9018 385.6725,-62.1247\"/>\n",
       "<polygon fill=\"#000000\" stroke=\"#000000\" points=\"388.7853,-63.7251 390.3635,-53.2485 382.5965,-60.4543 388.7853,-63.7251\"/>\n",
       "</g>\n",
       "<!-- 13 -->\n",
       "<g id=\"node14\" class=\"node\">\n",
       "<title>13</title>\n",
       "<polygon fill=\"none\" stroke=\"#000000\" points=\"497.5,-261 413.5,-261 413.5,-193 497.5,-193 497.5,-261\"/>\n",
       "<text text-anchor=\"middle\" x=\"455.5\" y=\"-245.8\" font-family=\"Times,serif\" font-size=\"14.00\" fill=\"#000000\">X[0] &lt;= 5.95</text>\n",
       "<text text-anchor=\"middle\" x=\"455.5\" y=\"-230.8\" font-family=\"Times,serif\" font-size=\"14.00\" fill=\"#000000\">gini = 0.444</text>\n",
       "<text text-anchor=\"middle\" x=\"455.5\" y=\"-215.8\" font-family=\"Times,serif\" font-size=\"14.00\" fill=\"#000000\">samples = 3</text>\n",
       "<text text-anchor=\"middle\" x=\"455.5\" y=\"-200.8\" font-family=\"Times,serif\" font-size=\"14.00\" fill=\"#000000\">value = [0, 1, 2]</text>\n",
       "</g>\n",
       "<!-- 12&#45;&gt;13 -->\n",
       "<g id=\"edge13\" class=\"edge\">\n",
       "<title>12&#45;&gt;13</title>\n",
       "<path fill=\"none\" stroke=\"#000000\" d=\"M455.5,-296.9465C455.5,-288.776 455.5,-279.9318 455.5,-271.3697\"/>\n",
       "<polygon fill=\"#000000\" stroke=\"#000000\" points=\"459.0001,-271.13 455.5,-261.13 452.0001,-271.13 459.0001,-271.13\"/>\n",
       "</g>\n",
       "<!-- 16 -->\n",
       "<g id=\"node17\" class=\"node\">\n",
       "<title>16</title>\n",
       "<polygon fill=\"none\" stroke=\"#000000\" points=\"605,-253.5 516,-253.5 516,-200.5 605,-200.5 605,-253.5\"/>\n",
       "<text text-anchor=\"middle\" x=\"560.5\" y=\"-238.3\" font-family=\"Times,serif\" font-size=\"14.00\" fill=\"#000000\">gini = 0.0</text>\n",
       "<text text-anchor=\"middle\" x=\"560.5\" y=\"-223.3\" font-family=\"Times,serif\" font-size=\"14.00\" fill=\"#000000\">samples = 43</text>\n",
       "<text text-anchor=\"middle\" x=\"560.5\" y=\"-208.3\" font-family=\"Times,serif\" font-size=\"14.00\" fill=\"#000000\">value = [0, 0, 43]</text>\n",
       "</g>\n",
       "<!-- 12&#45;&gt;16 -->\n",
       "<g id=\"edge16\" class=\"edge\">\n",
       "<title>12&#45;&gt;16</title>\n",
       "<path fill=\"none\" stroke=\"#000000\" d=\"M489.8809,-296.9465C501.669,-285.2707 514.8462,-272.219 526.5962,-260.5809\"/>\n",
       "<polygon fill=\"#000000\" stroke=\"#000000\" points=\"529.0608,-263.066 533.7026,-253.5422 524.1348,-258.0927 529.0608,-263.066\"/>\n",
       "</g>\n",
       "<!-- 14 -->\n",
       "<g id=\"node15\" class=\"node\">\n",
       "<title>14</title>\n",
       "<polygon fill=\"none\" stroke=\"#000000\" points=\"497.5,-149.5 413.5,-149.5 413.5,-96.5 497.5,-96.5 497.5,-149.5\"/>\n",
       "<text text-anchor=\"middle\" x=\"455.5\" y=\"-134.3\" font-family=\"Times,serif\" font-size=\"14.00\" fill=\"#000000\">gini = 0.0</text>\n",
       "<text text-anchor=\"middle\" x=\"455.5\" y=\"-119.3\" font-family=\"Times,serif\" font-size=\"14.00\" fill=\"#000000\">samples = 1</text>\n",
       "<text text-anchor=\"middle\" x=\"455.5\" y=\"-104.3\" font-family=\"Times,serif\" font-size=\"14.00\" fill=\"#000000\">value = [0, 1, 0]</text>\n",
       "</g>\n",
       "<!-- 13&#45;&gt;14 -->\n",
       "<g id=\"edge14\" class=\"edge\">\n",
       "<title>13&#45;&gt;14</title>\n",
       "<path fill=\"none\" stroke=\"#000000\" d=\"M455.5,-192.9465C455.5,-182.2621 455.5,-170.4254 455.5,-159.5742\"/>\n",
       "<polygon fill=\"#000000\" stroke=\"#000000\" points=\"459.0001,-159.5421 455.5,-149.5422 452.0001,-159.5422 459.0001,-159.5421\"/>\n",
       "</g>\n",
       "<!-- 15 -->\n",
       "<g id=\"node16\" class=\"node\">\n",
       "<title>15</title>\n",
       "<polygon fill=\"none\" stroke=\"#000000\" points=\"599.5,-149.5 515.5,-149.5 515.5,-96.5 599.5,-96.5 599.5,-149.5\"/>\n",
       "<text text-anchor=\"middle\" x=\"557.5\" y=\"-134.3\" font-family=\"Times,serif\" font-size=\"14.00\" fill=\"#000000\">gini = 0.0</text>\n",
       "<text text-anchor=\"middle\" x=\"557.5\" y=\"-119.3\" font-family=\"Times,serif\" font-size=\"14.00\" fill=\"#000000\">samples = 2</text>\n",
       "<text text-anchor=\"middle\" x=\"557.5\" y=\"-104.3\" font-family=\"Times,serif\" font-size=\"14.00\" fill=\"#000000\">value = [0, 0, 2]</text>\n",
       "</g>\n",
       "<!-- 13&#45;&gt;15 -->\n",
       "<g id=\"edge15\" class=\"edge\">\n",
       "<title>13&#45;&gt;15</title>\n",
       "<path fill=\"none\" stroke=\"#000000\" d=\"M488.8986,-192.9465C500.2418,-181.3809 512.9092,-168.4652 524.2415,-156.9107\"/>\n",
       "<polygon fill=\"#000000\" stroke=\"#000000\" points=\"526.9649,-159.1323 531.4683,-149.5422 521.9674,-154.2308 526.9649,-159.1323\"/>\n",
       "</g>\n",
       "</g>\n",
       "</svg>\n"
      ],
      "text/plain": [
       "<graphviz.files.Source at 0x10dd56b70>"
      ]
     },
     "execution_count": 11,
     "metadata": {},
     "output_type": "execute_result"
    }
   ],
   "source": [
    "#### INGRESA TU CODIGO AQUI  ~ 3 lineas de codigo ######\n"
   ]
  },
  {
   "cell_type": "markdown",
   "metadata": {},
   "source": [
    "# Predicciones"
   ]
  },
  {
   "cell_type": "code",
   "execution_count": 25,
   "metadata": {},
   "outputs": [
    {
     "name": "stdout",
     "output_type": "stream",
     "text": [
      "Real: 0 Regresion Logistica [0] K-nearest neighbors [0] Decision Tree [0]\n",
      "Real: 0 Regresion Logistica [0] K-nearest neighbors [0] Decision Tree [0]\n",
      "Real: 0 Regresion Logistica [0] K-nearest neighbors [0] Decision Tree [0]\n",
      "Real: 0 Regresion Logistica [0] K-nearest neighbors [0] Decision Tree [0]\n",
      "Real: 0 Regresion Logistica [0] K-nearest neighbors [0] Decision Tree [0]\n",
      "Real: 0 Regresion Logistica [0] K-nearest neighbors [0] Decision Tree [0]\n",
      "Real: 0 Regresion Logistica [0] K-nearest neighbors [0] Decision Tree [0]\n",
      "Real: 0 Regresion Logistica [0] K-nearest neighbors [0] Decision Tree [0]\n",
      "Real: 0 Regresion Logistica [0] K-nearest neighbors [0] Decision Tree [0]\n",
      "Real: 0 Regresion Logistica [0] K-nearest neighbors [0] Decision Tree [0]\n",
      "Real: 0 Regresion Logistica [0] K-nearest neighbors [0] Decision Tree [0]\n",
      "Real: 0 Regresion Logistica [0] K-nearest neighbors [0] Decision Tree [0]\n",
      "Real: 0 Regresion Logistica [0] K-nearest neighbors [0] Decision Tree [0]\n",
      "Real: 0 Regresion Logistica [0] K-nearest neighbors [0] Decision Tree [0]\n",
      "Real: 0 Regresion Logistica [0] K-nearest neighbors [0] Decision Tree [0]\n",
      "Real: 0 Regresion Logistica [0] K-nearest neighbors [0] Decision Tree [0]\n",
      "Real: 0 Regresion Logistica [0] K-nearest neighbors [0] Decision Tree [0]\n",
      "Real: 0 Regresion Logistica [0] K-nearest neighbors [0] Decision Tree [0]\n",
      "Real: 0 Regresion Logistica [0] K-nearest neighbors [0] Decision Tree [0]\n",
      "Real: 0 Regresion Logistica [0] K-nearest neighbors [0] Decision Tree [0]\n",
      "Real: 0 Regresion Logistica [0] K-nearest neighbors [0] Decision Tree [0]\n",
      "Real: 0 Regresion Logistica [0] K-nearest neighbors [0] Decision Tree [0]\n",
      "Real: 0 Regresion Logistica [0] K-nearest neighbors [0] Decision Tree [0]\n",
      "Real: 0 Regresion Logistica [0] K-nearest neighbors [0] Decision Tree [0]\n",
      "Real: 0 Regresion Logistica [0] K-nearest neighbors [0] Decision Tree [0]\n",
      "Real: 0 Regresion Logistica [0] K-nearest neighbors [0] Decision Tree [0]\n",
      "Real: 0 Regresion Logistica [0] K-nearest neighbors [0] Decision Tree [0]\n",
      "Real: 0 Regresion Logistica [0] K-nearest neighbors [0] Decision Tree [0]\n",
      "Real: 0 Regresion Logistica [0] K-nearest neighbors [0] Decision Tree [0]\n",
      "Real: 0 Regresion Logistica [0] K-nearest neighbors [0] Decision Tree [0]\n",
      "Real: 0 Regresion Logistica [0] K-nearest neighbors [0] Decision Tree [0]\n",
      "Real: 0 Regresion Logistica [0] K-nearest neighbors [0] Decision Tree [0]\n",
      "Real: 0 Regresion Logistica [0] K-nearest neighbors [0] Decision Tree [0]\n",
      "Real: 0 Regresion Logistica [0] K-nearest neighbors [0] Decision Tree [0]\n",
      "Real: 0 Regresion Logistica [0] K-nearest neighbors [0] Decision Tree [0]\n",
      "Real: 0 Regresion Logistica [0] K-nearest neighbors [0] Decision Tree [0]\n",
      "Real: 0 Regresion Logistica [0] K-nearest neighbors [0] Decision Tree [0]\n",
      "Real: 0 Regresion Logistica [0] K-nearest neighbors [0] Decision Tree [0]\n",
      "Real: 0 Regresion Logistica [0] K-nearest neighbors [0] Decision Tree [0]\n",
      "Real: 0 Regresion Logistica [0] K-nearest neighbors [0] Decision Tree [0]\n",
      "Real: 0 Regresion Logistica [0] K-nearest neighbors [0] Decision Tree [0]\n",
      "Real: 0 Regresion Logistica [0] K-nearest neighbors [0] Decision Tree [0]\n",
      "Real: 0 Regresion Logistica [0] K-nearest neighbors [0] Decision Tree [0]\n",
      "Real: 0 Regresion Logistica [0] K-nearest neighbors [0] Decision Tree [0]\n",
      "Real: 0 Regresion Logistica [0] K-nearest neighbors [0] Decision Tree [0]\n",
      "Real: 0 Regresion Logistica [0] K-nearest neighbors [0] Decision Tree [0]\n",
      "Real: 0 Regresion Logistica [0] K-nearest neighbors [0] Decision Tree [0]\n",
      "Real: 0 Regresion Logistica [0] K-nearest neighbors [0] Decision Tree [0]\n",
      "Real: 0 Regresion Logistica [0] K-nearest neighbors [0] Decision Tree [0]\n",
      "Real: 0 Regresion Logistica [0] K-nearest neighbors [0] Decision Tree [0]\n"
     ]
    }
   ],
   "source": [
    "## EJECUTA LA CELDA, NO HAY QUE CAMBIAR NADA ##\n",
    "for i in range(len(Y_train[:50])):\n",
    "    prediction_logistic = logistic_classifier.predict(X_train[i].reshape(1,-1))\n",
    "    prediction_kneigh = kneigh.predict(X_train[i].reshape(1,-1))\n",
    "    prediction_decision_tree = decision_tree.predict(X_train[i].reshape(1,-1))\n",
    "    real = Y_train[i]\n",
    "    print(\"Real:\",real,\"Regresion Logistica\",prediction_logistic, \\\n",
    "          \"K-nearest neighbors\",prediction_kneigh, \\\n",
    "          \"Decision Tree\", prediction_decision_tree)"
   ]
  },
  {
   "cell_type": "markdown",
   "metadata": {},
   "source": [
    "# Predicciones diferentes"
   ]
  },
  {
   "cell_type": "code",
   "execution_count": 31,
   "metadata": {},
   "outputs": [
    {
     "name": "stdout",
     "output_type": "stream",
     "text": [
      "Regresion Logistica [2] K-nearest neighbors [1] Decision Tree [1]\n",
      "Regresion Logistica [2] K-nearest neighbors [2] Decision Tree [1]\n",
      "Regresion Logistica [1] K-nearest neighbors [2] Decision Tree [1]\n",
      "Regresion Logistica [2] K-nearest neighbors [2] Decision Tree [1]\n",
      "Regresion Logistica [2] K-nearest neighbors [1] Decision Tree [1]\n"
     ]
    }
   ],
   "source": [
    "## EJECUTA LA CELDA, NO HAY QUE CAMBIAR NADA ##\n",
    "exit_flag = 0\n",
    "\n",
    "for i in range(len(Y_train)):\n",
    "    prediction_logistic = logistic_classifier.predict(X_train[i].reshape(1,-1))\n",
    "    prediction_kneigh = kneigh.predict(X_train[i].reshape(1,-1))\n",
    "    prediction_decision_tree = decision_tree.predict(X_train[i].reshape(1,-1))\n",
    "    real = Y_train[i]\n",
    "    if( (real!= prediction_logistic) or (real!= prediction_kneigh) or (real!= prediction_decision_tree) ):\n",
    "        print(\"Regresion Logistica\",prediction_logistic, \\\n",
    "          \"K-nearest neighbors\",prediction_kneigh, \\\n",
    "          \"Decision Tree\", prediction_decision_tree)\n",
    "        exit_flag+= 1\n",
    "        if (exit_flag == 5):\n",
    "            break"
   ]
  },
  {
   "cell_type": "markdown",
   "metadata": {},
   "source": [
    "## Utilizando las predicciones de los tres modelos, para cada uno de los ejemplos, ¿Que clasificación le darías, si no todos los modelos dan el mismo resultado? \n",
    "\n",
    "## En la siguiente celda da una conclusión para cada ejemplo"
   ]
  },
  {
   "cell_type": "code",
   "execution_count": null,
   "metadata": {},
   "outputs": [],
   "source": []
  }
 ],
 "metadata": {
  "kernelspec": {
   "display_name": "Python 3",
   "language": "python",
   "name": "python3"
  },
  "language_info": {
   "codemirror_mode": {
    "name": "ipython",
    "version": 3
   },
   "file_extension": ".py",
   "mimetype": "text/x-python",
   "name": "python",
   "nbconvert_exporter": "python",
   "pygments_lexer": "ipython3",
   "version": "3.6.4"
  }
 },
 "nbformat": 4,
 "nbformat_minor": 2
}
